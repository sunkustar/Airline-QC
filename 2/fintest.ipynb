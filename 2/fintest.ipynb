{
 "cells": [
  {
   "cell_type": "code",
   "execution_count": 214,
   "metadata": {
    "id": "XbL5Oi-YFmj2"
   },
   "outputs": [],
   "source": [
    "import pandas as pd\n",
    "import numpy as np"
   ]
  },
  {
   "cell_type": "markdown",
   "metadata": {},
   "source": [
    "# Passenger Ordered List"
   ]
  },
  {
   "cell_type": "code",
   "execution_count": 215,
   "metadata": {
    "colab": {
     "base_uri": "https://localhost:8080/",
     "height": 375
    },
    "id": "38wrWqtQF6Ob",
    "outputId": "b05d3468-0d80-4623-e189-1c74ac28732b"
   },
   "outputs": [],
   "source": [
    "flight_details= pd.read_csv(\"PNRB-ZZ-20231208_062017.csv\")\n",
    "passenger= pd.read_csv(\"PNRP-ZZ-20231208_111136.csv\")\n",
    "schedule=pd.read_csv(\"SCH-ZZ-20231208_035117.csv\")\n",
    "# flight_details"
   ]
  },
  {
   "cell_type": "code",
   "execution_count": 216,
   "metadata": {
    "id": "rEVg6NPGGkc7"
   },
   "outputs": [],
   "source": [
    "#input\n",
    "\n",
    "specific_schedule_id= \"SCH-ZZ-2098565\"\n",
    "specific_date=\"20240510\""
   ]
  },
  {
   "cell_type": "code",
   "execution_count": 217,
   "metadata": {
    "id": "sB5m_QacHZ1G"
   },
   "outputs": [],
   "source": [
    "# segment score and pax score input\n",
    "\n",
    "external_multiplier_seg = 100\n",
    "external_multiplier_pax = 50"
   ]
  },
  {
   "cell_type": "code",
   "execution_count": 218,
   "metadata": {
    "id": "zPSDdGyYHwm_"
   },
   "outputs": [],
   "source": [
    "#ssr cost input and loyalty cost\n",
    "\n",
    "tags_cost ={'INFT' : 200, 'WCHR' : 200, 'WCHS' : 200, 'WCHC' : 200, 'LANG' : 200, 'CHLD' : 200, 'MAAS' : 200, 'UNMR' : 200, 'BLND' : 200, 'DEAF' : 200, 'EXST' : 200, 'MEAL' : 200, 'NSST' : 200, 'NRPS' : 200,  }\n",
    "loyalty_cost = {'Platinum' : 2000, 'Gold' : 2000, 'Silver' : 2000, 'none':0 }"
   ]
  },
  {
   "cell_type": "code",
   "execution_count": 219,
   "metadata": {
    "id": "EmpoN1clH2af"
   },
   "outputs": [],
   "source": [
    "tag_columns = ['SPECIAL_NAME_CD2', 'SSR_CODE_CD1']"
   ]
  },
  {
   "cell_type": "code",
   "execution_count": 220,
   "metadata": {
    "id": "4cchwPYYGu5C"
   },
   "outputs": [
    {
     "data": {
      "text/plain": [
       "'ZZ20240510IDRHYD2792'"
      ]
     },
     "execution_count": 220,
     "metadata": {},
     "output_type": "execute_result"
    }
   ],
   "source": [
    "#generating departure key from input\n",
    "\n",
    "schedule['FlightNumber']=schedule['FlightNumber'].astype(int)\n",
    "selected_rows = schedule[schedule['ScheduleID'] == specific_schedule_id][['ScheduleID', 'CarrierCode', 'ArrivalAirport', 'DepartureAirport', 'FlightNumber']]\n",
    "selected_rows['FlightNumber'] = selected_rows['FlightNumber'].astype(str)\n",
    "selected_rows['Concatenated'] = selected_rows[['DepartureAirport', 'ArrivalAirport', 'FlightNumber']].astype(str).apply(lambda x: ''.join(x), axis=1)\n",
    "selected_rows['Concatenated'] = specific_date+selected_rows['Concatenated'].replace(' ', '', regex=True)\n",
    "selected_rows['Concatenated'] = selected_rows[['CarrierCode','Concatenated']].astype(str).apply(lambda x: ''.join(x), axis=1)\n",
    "\n",
    "#specific departure key is generated and stored in variable specific_dep_key\n",
    "specific_dep_key= selected_rows.at[selected_rows.index[0], \"Concatenated\"]\n",
    "flight_details[\"DEP_KEY\"]=flight_details[\"DEP_KEY\"].astype(str)\n",
    "#specific_dep_key+='.0'\n",
    "specific_dep_key"
   ]
  },
  {
   "cell_type": "code",
   "execution_count": 221,
   "metadata": {
    "id": "rWuZPL7_HHyU"
   },
   "outputs": [],
   "source": [
    "filtered_f= flight_details[flight_details[\"DEP_KEY\"]== specific_dep_key]\n",
    "filtered_f_copy= filtered_f\n",
    "# filtered_f_copy"
   ]
  },
  {
   "cell_type": "code",
   "execution_count": 222,
   "metadata": {
    "id": "akuF0dHgHkJG"
   },
   "outputs": [
    {
     "name": "stderr",
     "output_type": "stream",
     "text": [
      "C:\\Users\\Vamsi Krishna\\AppData\\Local\\Temp\\ipykernel_6468\\4089213020.py:1: SettingWithCopyWarning: \n",
      "A value is trying to be set on a copy of a slice from a DataFrame.\n",
      "Try using .loc[row_indexer,col_indexer] = value instead\n",
      "\n",
      "See the caveats in the documentation: https://pandas.pydata.org/pandas-docs/stable/user_guide/indexing.html#returning-a-view-versus-a-copy\n",
      "  filtered_f_copy['SEG_TOTAL_MULTIPLIED'] = filtered_f_copy['SEG_TOTAL'] * external_multiplier_seg\n",
      "C:\\Users\\Vamsi Krishna\\AppData\\Local\\Temp\\ipykernel_6468\\4089213020.py:2: SettingWithCopyWarning: \n",
      "A value is trying to be set on a copy of a slice from a DataFrame.\n",
      "Try using .loc[row_indexer,col_indexer] = value instead\n",
      "\n",
      "See the caveats in the documentation: https://pandas.pydata.org/pandas-docs/stable/user_guide/indexing.html#returning-a-view-versus-a-copy\n",
      "  filtered_f_copy['PAX_CNT_MULTIPLIED'] = filtered_f_copy['PAX_CNT'] * external_multiplier_pax\n",
      "C:\\Users\\Vamsi Krishna\\AppData\\Local\\Temp\\ipykernel_6468\\4089213020.py:5: SettingWithCopyWarning: \n",
      "A value is trying to be set on a copy of a slice from a DataFrame.\n",
      "Try using .loc[row_indexer,col_indexer] = value instead\n",
      "\n",
      "See the caveats in the documentation: https://pandas.pydata.org/pandas-docs/stable/user_guide/indexing.html#returning-a-view-versus-a-copy\n",
      "  filtered_f_copy['SUM_SEG_PAX'] = filtered_f_copy['SEG_TOTAL_MULTIPLIED'] + filtered_f_copy['PAX_CNT_MULTIPLIED']\n"
     ]
    }
   ],
   "source": [
    "filtered_f_copy['SEG_TOTAL_MULTIPLIED'] = filtered_f_copy['SEG_TOTAL'] * external_multiplier_seg\n",
    "filtered_f_copy['PAX_CNT_MULTIPLIED'] = filtered_f_copy['PAX_CNT'] * external_multiplier_pax\n",
    "\n",
    "# Create a new column with the sum of SEG_SEQ_MULTIPLIED and PAX_CNT_MULTIPLIED\n",
    "filtered_f_copy['SUM_SEG_PAX'] = filtered_f_copy['SEG_TOTAL_MULTIPLIED'] + filtered_f_copy['PAX_CNT_MULTIPLIED']"
   ]
  },
  {
   "cell_type": "code",
   "execution_count": 223,
   "metadata": {
    "id": "avDJn5-pHoDf"
   },
   "outputs": [
    {
     "name": "stderr",
     "output_type": "stream",
     "text": [
      "C:\\Users\\Vamsi Krishna\\AppData\\Local\\Temp\\ipykernel_6468\\3454662936.py:3: FutureWarning: DataFrame.applymap has been deprecated. Use DataFrame.map instead.\n",
      "  filtered_passengers_list['ssr_score'] = filtered_passengers_list[tag_columns].applymap(tags_cost.get).sum(axis=1)\n",
      "C:\\Users\\Vamsi Krishna\\AppData\\Local\\Temp\\ipykernel_6468\\3454662936.py:3: SettingWithCopyWarning: \n",
      "A value is trying to be set on a copy of a slice from a DataFrame.\n",
      "Try using .loc[row_indexer,col_indexer] = value instead\n",
      "\n",
      "See the caveats in the documentation: https://pandas.pydata.org/pandas-docs/stable/user_guide/indexing.html#returning-a-view-versus-a-copy\n",
      "  filtered_passengers_list['ssr_score'] = filtered_passengers_list[tag_columns].applymap(tags_cost.get).sum(axis=1)\n",
      "C:\\Users\\Vamsi Krishna\\AppData\\Local\\Temp\\ipykernel_6468\\3454662936.py:4: SettingWithCopyWarning: \n",
      "A value is trying to be set on a copy of a slice from a DataFrame.\n",
      "Try using .loc[row_indexer,col_indexer] = value instead\n",
      "\n",
      "See the caveats in the documentation: https://pandas.pydata.org/pandas-docs/stable/user_guide/indexing.html#returning-a-view-versus-a-copy\n",
      "  filtered_passengers_list['Loyalty_score'] = filtered_passengers_list['TierLevel'].map(loyalty_cost).fillna(loyalty_cost['none'])\n",
      "C:\\Users\\Vamsi Krishna\\AppData\\Local\\Temp\\ipykernel_6468\\3454662936.py:6: SettingWithCopyWarning: \n",
      "A value is trying to be set on a copy of a slice from a DataFrame.\n",
      "Try using .loc[row_indexer,col_indexer] = value instead\n",
      "\n",
      "See the caveats in the documentation: https://pandas.pydata.org/pandas-docs/stable/user_guide/indexing.html#returning-a-view-versus-a-copy\n",
      "  filtered_passengers_list['Total_score'] = filtered_passengers_list['Loyalty_score'] + filtered_passengers_list['ssr_score']\n"
     ]
    }
   ],
   "source": [
    "reclocs_list = filtered_f[\"RECLOC\"].tolist()\n",
    "filtered_passengers_list = passenger[passenger[\"RECLOC\"].isin(reclocs_list)]\n",
    "filtered_passengers_list['ssr_score'] = filtered_passengers_list[tag_columns].applymap(tags_cost.get).sum(axis=1)\n",
    "filtered_passengers_list['Loyalty_score'] = filtered_passengers_list['TierLevel'].map(loyalty_cost).fillna(loyalty_cost['none'])\n",
    "\n",
    "filtered_passengers_list['Total_score'] = filtered_passengers_list['Loyalty_score'] + filtered_passengers_list['ssr_score']\n",
    "sorted_passengers=filtered_passengers_list.sort_values(by=\"Total_score\", ascending=False)\n",
    "\n",
    "# filtered_passengers_list\n",
    "# sorted_passengers"
   ]
  },
  {
   "cell_type": "code",
   "execution_count": 224,
   "metadata": {
    "id": "1nVVP2FtMxbo"
   },
   "outputs": [
    {
     "data": {
      "text/html": [
       "<div>\n",
       "<style scoped>\n",
       "    .dataframe tbody tr th:only-of-type {\n",
       "        vertical-align: middle;\n",
       "    }\n",
       "\n",
       "    .dataframe tbody tr th {\n",
       "        vertical-align: top;\n",
       "    }\n",
       "\n",
       "    .dataframe thead th {\n",
       "        text-align: right;\n",
       "    }\n",
       "</style>\n",
       "<table border=\"1\" class=\"dataframe\">\n",
       "  <thead>\n",
       "    <tr style=\"text-align: right;\">\n",
       "      <th></th>\n",
       "      <th>RECLOC</th>\n",
       "      <th>CREATION_DTZ</th>\n",
       "      <th>DEP_KEY</th>\n",
       "      <th>ACTION_CD</th>\n",
       "      <th>COS_CD</th>\n",
       "      <th>SEG_SEQ</th>\n",
       "      <th>SEG_TOTAL</th>\n",
       "      <th>PAX_CNT</th>\n",
       "      <th>CARRIER_CD</th>\n",
       "      <th>FLT_NUM</th>\n",
       "      <th>ORIG_CD</th>\n",
       "      <th>DEST_CD</th>\n",
       "      <th>DEP_DT</th>\n",
       "      <th>DEP_DTML</th>\n",
       "      <th>ARR_DTML</th>\n",
       "      <th>DEP_DTMZ</th>\n",
       "      <th>ARR_DTMZ</th>\n",
       "      <th>final_score</th>\n",
       "    </tr>\n",
       "  </thead>\n",
       "  <tbody>\n",
       "    <tr>\n",
       "      <th>2</th>\n",
       "      <td>GQDX67</td>\n",
       "      <td>2/1/2024 8:26</td>\n",
       "      <td>ZZ20240510IDRHYD2792</td>\n",
       "      <td>XX</td>\n",
       "      <td>FirstClass</td>\n",
       "      <td>1</td>\n",
       "      <td>2</td>\n",
       "      <td>3</td>\n",
       "      <td>ZZ</td>\n",
       "      <td>2792</td>\n",
       "      <td>IDR</td>\n",
       "      <td>HYD</td>\n",
       "      <td>5/10/2024</td>\n",
       "      <td>5/10/2024 12:22</td>\n",
       "      <td>5/10/2024 14:12</td>\n",
       "      <td>5/10/2024 6:52</td>\n",
       "      <td>5/10/2024 8:42</td>\n",
       "      <td>2550.0</td>\n",
       "    </tr>\n",
       "    <tr>\n",
       "      <th>10</th>\n",
       "      <td>SQMP46</td>\n",
       "      <td>2/1/2024 8:26</td>\n",
       "      <td>ZZ20240510IDRHYD2792</td>\n",
       "      <td>XX</td>\n",
       "      <td>FirstClass</td>\n",
       "      <td>1</td>\n",
       "      <td>4</td>\n",
       "      <td>2</td>\n",
       "      <td>ZZ</td>\n",
       "      <td>2792</td>\n",
       "      <td>IDR</td>\n",
       "      <td>HYD</td>\n",
       "      <td>5/10/2024</td>\n",
       "      <td>5/10/2024 12:22</td>\n",
       "      <td>5/10/2024 14:12</td>\n",
       "      <td>5/10/2024 6:52</td>\n",
       "      <td>5/10/2024 8:42</td>\n",
       "      <td>2500.0</td>\n",
       "    </tr>\n",
       "  </tbody>\n",
       "</table>\n",
       "</div>"
      ],
      "text/plain": [
       "    RECLOC   CREATION_DTZ               DEP_KEY ACTION_CD      COS_CD  \\\n",
       "2   GQDX67  2/1/2024 8:26  ZZ20240510IDRHYD2792        XX  FirstClass   \n",
       "10  SQMP46  2/1/2024 8:26  ZZ20240510IDRHYD2792        XX  FirstClass   \n",
       "\n",
       "    SEG_SEQ  SEG_TOTAL  PAX_CNT CARRIER_CD  FLT_NUM ORIG_CD DEST_CD  \\\n",
       "2         1          2        3         ZZ     2792     IDR     HYD   \n",
       "10        1          4        2         ZZ     2792     IDR     HYD   \n",
       "\n",
       "       DEP_DT         DEP_DTML         ARR_DTML        DEP_DTMZ  \\\n",
       "2   5/10/2024  5/10/2024 12:22  5/10/2024 14:12  5/10/2024 6:52   \n",
       "10  5/10/2024  5/10/2024 12:22  5/10/2024 14:12  5/10/2024 6:52   \n",
       "\n",
       "          ARR_DTMZ  final_score  \n",
       "2   5/10/2024 8:42       2550.0  \n",
       "10  5/10/2024 8:42       2500.0  "
      ]
     },
     "execution_count": 224,
     "metadata": {},
     "output_type": "execute_result"
    }
   ],
   "source": [
    "merged_sorted_passengers = sorted_passengers.groupby('RECLOC')['Total_score'].sum().reset_index()\n",
    "# merged_sorted_passengers\n",
    "merged_table = pd.merge(merged_sorted_passengers, filtered_f_copy, on='RECLOC', how='outer')\n",
    "merged_table['final_score'] = merged_table['Total_score'] + merged_table['SUM_SEG_PAX']\n",
    "merged_table=merged_table.drop(['Total_score', 'SEG_TOTAL_MULTIPLIED', 'PAX_CNT_MULTIPLIED' ,'SUM_SEG_PAX'], axis=1)\n",
    "merge_sorted_table = merged_table.sort_values('final_score', ascending=False)\n",
    "\n",
    "economy_final_table= merge_sorted_table[merge_sorted_table[\"COS_CD\"]== 'EconomyClass']\n",
    "premium_economy_final_table= merge_sorted_table[merge_sorted_table[\"COS_CD\"]== 'PremiumEconomyClass']\n",
    "business_final_table= merge_sorted_table[merge_sorted_table[\"COS_CD\"]== 'BusinessClass']\n",
    "first_final_table= merge_sorted_table[merge_sorted_table[\"COS_CD\"]== 'FirstClass']\n",
    "# economy_final_table\n",
    "# premium_economy_final_table\n",
    "# business_final_table\n",
    "first_final_table\n",
    "# merge_sorted_table"
   ]
  },
  {
   "cell_type": "code",
   "execution_count": 225,
   "metadata": {
    "id": "KeLGvdgELeMJ"
   },
   "outputs": [
    {
     "data": {
      "text/plain": [
       "15"
      ]
     },
     "execution_count": 225,
     "metadata": {},
     "output_type": "execute_result"
    }
   ],
   "source": [
    "final_recloc_list = merge_sorted_table['RECLOC'].tolist()\n",
    "final_pax_cnt=merge_sorted_table['PAX_CNT'].tolist()\n",
    "final_seg_seq_cnt=merge_sorted_table['SEG_SEQ'].tolist()\n",
    "final_score=merge_sorted_table['final_score'].tolist()\n",
    "\n",
    "\n",
    "\n",
    "len(final_pax_cnt)"
   ]
  },
  {
   "cell_type": "markdown",
   "metadata": {},
   "source": [
    "# Direct Flight Ordered List"
   ]
  },
  {
   "cell_type": "code",
   "execution_count": 226,
   "metadata": {
    "id": "lriYi97lLbxg"
   },
   "outputs": [
    {
     "data": {
      "text/plain": [
       "'ZZ20240510IDRHYD2792'"
      ]
     },
     "execution_count": 226,
     "metadata": {},
     "output_type": "execute_result"
    }
   ],
   "source": [
    "specific_dep_key"
   ]
  },
  {
   "cell_type": "code",
   "execution_count": 227,
   "metadata": {},
   "outputs": [],
   "source": [
    "f = pd.read_csv('INV-ZZ-20231208_041852.csv')\n",
    "f['DepartureDateTime'] = pd.to_datetime(f['DepartureDateTime'])\n",
    "f['ArrivalDateTime'] = pd.to_datetime(f['ArrivalDateTime'])"
   ]
  },
  {
   "cell_type": "code",
   "execution_count": 228,
   "metadata": {},
   "outputs": [],
   "source": [
    "def flights_between(departure_airport,arrival_airport,flight_schedule_df):\n",
    "    filtered_flights = flight_schedule_df[\n",
    "        (flight_schedule_df['DepartureAirport'] == departure_airport) &\n",
    "        (flight_schedule_df['ArrivalAirport'] == arrival_airport)\n",
    "    ]\n",
    "    return filtered_flights"
   ]
  },
  {
   "cell_type": "code",
   "execution_count": 229,
   "metadata": {},
   "outputs": [
    {
     "data": {
      "text/plain": [
       "{'HYD': array(['AMD', 'BLR', 'BOM', 'CCU', 'CJB', 'IDR', 'MAA'], dtype='<U3'),\n",
       " 'AMD': array(['BLR', 'BOM', 'DEL', 'HYD', 'MAA'], dtype='<U3'),\n",
       " 'MAA': array(['AMD', 'BOM', 'CCU', 'DEL', 'GOI'], dtype='<U3'),\n",
       " 'CCU': array(['AMD', 'BLR', 'BOM', 'HYD', 'MAA'], dtype='<U3'),\n",
       " 'BOM': array(['AMD', 'BLR', 'CCU', 'DEL', 'GAU', 'GOI', 'MAA', 'PNQ'],\n",
       "       dtype='<U3'),\n",
       " 'BLR': array(['AMD', 'BBI', 'BOM', 'CCU', 'DEL', 'HYD', 'JAI', 'LKO'],\n",
       "       dtype='<U3'),\n",
       " 'DEL': array(['AMD', 'BLR', 'BOM', 'HYD', 'JAI'], dtype='<U3'),\n",
       " 'CJB': array(['HYD', 'MAA'], dtype='<U3'),\n",
       " 'TRV': array(['MAA'], dtype='<U3'),\n",
       " 'PNQ': array(['BOM', 'GAU', 'GOI'], dtype='<U3'),\n",
       " 'IDR': array(['HYD'], dtype='<U3'),\n",
       " 'LKO': array(['JAI'], dtype='<U3'),\n",
       " 'GAU': array(['GOI', 'PNQ'], dtype='<U3'),\n",
       " 'GOI': array(['PNQ'], dtype='<U3')}"
      ]
     },
     "execution_count": 229,
     "metadata": {},
     "output_type": "execute_result"
    }
   ],
   "source": [
    "# Function to get City Mapping like Key(Arrival City): Values(List of Departure Cities)\n",
    "city_mapping = {}\n",
    "\n",
    "# Iterate over each row in the DataFrame\n",
    "for index, row in f.iterrows():\n",
    "    arrival_city = row['ArrivalAirport']\n",
    "    departure_city = row['DepartureAirport']\n",
    "\n",
    "    # Check if arrival city is already in the dictionary\n",
    "    if arrival_city in city_mapping:\n",
    "        # Append departure city to the existing list\n",
    "        city_mapping[arrival_city].append(departure_city)\n",
    "    else:\n",
    "        # Create a new list for the arrival city\n",
    "        city_mapping[arrival_city] = [departure_city]\n",
    "for key in city_mapping.keys():\n",
    "    city_mapping[key] = np.unique(city_mapping[key])\n",
    "city_mapping"
   ]
  },
  {
   "cell_type": "code",
   "execution_count": 230,
   "metadata": {},
   "outputs": [
    {
     "data": {
      "text/html": [
       "<div>\n",
       "<style scoped>\n",
       "    .dataframe tbody tr th:only-of-type {\n",
       "        vertical-align: middle;\n",
       "    }\n",
       "\n",
       "    .dataframe tbody tr th {\n",
       "        vertical-align: top;\n",
       "    }\n",
       "\n",
       "    .dataframe thead th {\n",
       "        text-align: right;\n",
       "    }\n",
       "</style>\n",
       "<table border=\"1\" class=\"dataframe\">\n",
       "  <thead>\n",
       "    <tr style=\"text-align: right;\">\n",
       "      <th></th>\n",
       "      <th>InventoryId</th>\n",
       "      <th>ScheduleId</th>\n",
       "      <th>CarrierCode</th>\n",
       "      <th>Dep_Key</th>\n",
       "      <th>FlightNumber</th>\n",
       "      <th>AircraftType</th>\n",
       "      <th>DepartureDate</th>\n",
       "      <th>DepartureDateTime</th>\n",
       "      <th>ArrivalDateTime</th>\n",
       "      <th>DepartureAirport</th>\n",
       "      <th>...</th>\n",
       "      <th>PC_Oversold</th>\n",
       "      <th>PC_AvailableInventory</th>\n",
       "      <th>EC_TotalInventory</th>\n",
       "      <th>EC_BookedInventory</th>\n",
       "      <th>EC_Oversold</th>\n",
       "      <th>EC_AvailableInventory</th>\n",
       "      <th>FC_CD</th>\n",
       "      <th>BC_CD</th>\n",
       "      <th>PC_CD</th>\n",
       "      <th>EC_CD</th>\n",
       "    </tr>\n",
       "  </thead>\n",
       "  <tbody>\n",
       "    <tr>\n",
       "      <th>892</th>\n",
       "      <td>INV-ZZ-7703162</td>\n",
       "      <td>SCH-ZZ-5156445</td>\n",
       "      <td>ZZ</td>\n",
       "      <td>ZZ20240514AMDBLR3782.0</td>\n",
       "      <td>3782.0</td>\n",
       "      <td>Boeing 787</td>\n",
       "      <td>05/14/2024</td>\n",
       "      <td>2024-05-14 15:57:00</td>\n",
       "      <td>2024-05-15 07:24:00</td>\n",
       "      <td>AMD</td>\n",
       "      <td>...</td>\n",
       "      <td>32</td>\n",
       "      <td>43</td>\n",
       "      <td>120</td>\n",
       "      <td>65</td>\n",
       "      <td>43</td>\n",
       "      <td>55</td>\n",
       "      <td>{'F': 16, 'P': 11}</td>\n",
       "      <td>{'C': 22, 'J': 16, 'Z': 16}</td>\n",
       "      <td>{'Q': 24, 'R': 16, 'S': 8, 'T': 8, 'H': 16, 'M...</td>\n",
       "      <td>{'Y': 8, 'A': 8, 'B': 4, 'D': 4, 'E': 4, 'G': ...</td>\n",
       "    </tr>\n",
       "    <tr>\n",
       "      <th>893</th>\n",
       "      <td>INV-ZZ-7431689</td>\n",
       "      <td>SCH-ZZ-5156445</td>\n",
       "      <td>ZZ</td>\n",
       "      <td>ZZ20240515AMDBLR3782.0</td>\n",
       "      <td>3782.0</td>\n",
       "      <td>Boeing 787</td>\n",
       "      <td>05/15/2024</td>\n",
       "      <td>2024-05-15 15:57:00</td>\n",
       "      <td>2024-05-16 07:24:00</td>\n",
       "      <td>AMD</td>\n",
       "      <td>...</td>\n",
       "      <td>33</td>\n",
       "      <td>42</td>\n",
       "      <td>125</td>\n",
       "      <td>66</td>\n",
       "      <td>42</td>\n",
       "      <td>59</td>\n",
       "      <td>{'F': 16, 'P': 11}</td>\n",
       "      <td>{'C': 22, 'J': 16, 'Z': 16}</td>\n",
       "      <td>{'Q': 24, 'R': 16, 'S': 8, 'T': 8, 'H': 16, 'M...</td>\n",
       "      <td>{'Y': 8, 'A': 8, 'B': 4, 'D': 4, 'E': 4, 'G': ...</td>\n",
       "    </tr>\n",
       "    <tr>\n",
       "      <th>894</th>\n",
       "      <td>INV-ZZ-1603837</td>\n",
       "      <td>SCH-ZZ-5156445</td>\n",
       "      <td>ZZ</td>\n",
       "      <td>ZZ20240517AMDBLR3782.0</td>\n",
       "      <td>3782.0</td>\n",
       "      <td>Boeing 787</td>\n",
       "      <td>05/17/2024</td>\n",
       "      <td>2024-05-17 15:57:00</td>\n",
       "      <td>2024-05-18 07:24:00</td>\n",
       "      <td>AMD</td>\n",
       "      <td>...</td>\n",
       "      <td>35</td>\n",
       "      <td>50</td>\n",
       "      <td>119</td>\n",
       "      <td>57</td>\n",
       "      <td>51</td>\n",
       "      <td>62</td>\n",
       "      <td>{'F': 16, 'P': 11}</td>\n",
       "      <td>{'C': 22, 'J': 16, 'Z': 16}</td>\n",
       "      <td>{'Q': 24, 'R': 16, 'S': 8, 'T': 8, 'H': 16, 'M...</td>\n",
       "      <td>{'Y': 8, 'A': 8, 'B': 4, 'D': 4, 'E': 4, 'G': ...</td>\n",
       "    </tr>\n",
       "    <tr>\n",
       "      <th>895</th>\n",
       "      <td>INV-ZZ-6060194</td>\n",
       "      <td>SCH-ZZ-5156445</td>\n",
       "      <td>ZZ</td>\n",
       "      <td>ZZ20240518AMDBLR3782.0</td>\n",
       "      <td>3782.0</td>\n",
       "      <td>Boeing 787</td>\n",
       "      <td>05/18/2024</td>\n",
       "      <td>2024-05-18 15:57:00</td>\n",
       "      <td>2024-05-19 07:24:00</td>\n",
       "      <td>AMD</td>\n",
       "      <td>...</td>\n",
       "      <td>35</td>\n",
       "      <td>49</td>\n",
       "      <td>121</td>\n",
       "      <td>58</td>\n",
       "      <td>50</td>\n",
       "      <td>63</td>\n",
       "      <td>{'F': 16, 'P': 11}</td>\n",
       "      <td>{'C': 22, 'J': 16, 'Z': 16}</td>\n",
       "      <td>{'Q': 24, 'R': 16, 'S': 8, 'T': 8, 'H': 16, 'M...</td>\n",
       "      <td>{'Y': 8, 'A': 8, 'B': 4, 'D': 4, 'E': 4, 'G': ...</td>\n",
       "    </tr>\n",
       "    <tr>\n",
       "      <th>896</th>\n",
       "      <td>INV-ZZ-3258972</td>\n",
       "      <td>SCH-ZZ-5156445</td>\n",
       "      <td>ZZ</td>\n",
       "      <td>ZZ20240521AMDBLR3782.0</td>\n",
       "      <td>3782.0</td>\n",
       "      <td>Boeing 787</td>\n",
       "      <td>05/21/2024</td>\n",
       "      <td>2024-05-21 15:57:00</td>\n",
       "      <td>2024-05-22 07:24:00</td>\n",
       "      <td>AMD</td>\n",
       "      <td>...</td>\n",
       "      <td>35</td>\n",
       "      <td>45</td>\n",
       "      <td>123</td>\n",
       "      <td>62</td>\n",
       "      <td>46</td>\n",
       "      <td>61</td>\n",
       "      <td>{'F': 16, 'P': 11}</td>\n",
       "      <td>{'C': 22, 'J': 16, 'Z': 16}</td>\n",
       "      <td>{'Q': 24, 'R': 16, 'S': 8, 'T': 8, 'H': 16, 'M...</td>\n",
       "      <td>{'Y': 8, 'A': 8, 'B': 4, 'D': 4, 'E': 4, 'G': ...</td>\n",
       "    </tr>\n",
       "    <tr>\n",
       "      <th>...</th>\n",
       "      <td>...</td>\n",
       "      <td>...</td>\n",
       "      <td>...</td>\n",
       "      <td>...</td>\n",
       "      <td>...</td>\n",
       "      <td>...</td>\n",
       "      <td>...</td>\n",
       "      <td>...</td>\n",
       "      <td>...</td>\n",
       "      <td>...</td>\n",
       "      <td>...</td>\n",
       "      <td>...</td>\n",
       "      <td>...</td>\n",
       "      <td>...</td>\n",
       "      <td>...</td>\n",
       "      <td>...</td>\n",
       "      <td>...</td>\n",
       "      <td>...</td>\n",
       "      <td>...</td>\n",
       "      <td>...</td>\n",
       "      <td>...</td>\n",
       "    </tr>\n",
       "    <tr>\n",
       "      <th>1198</th>\n",
       "      <td>INV-ZZ-4855587</td>\n",
       "      <td>SCH-ZZ-4843596</td>\n",
       "      <td>ZZ</td>\n",
       "      <td>ZZ20240519AMDBLR3041.0</td>\n",
       "      <td>3041.0</td>\n",
       "      <td>Airbus A321-200</td>\n",
       "      <td>05/19/2024</td>\n",
       "      <td>2024-05-19 14:26:00</td>\n",
       "      <td>2024-05-19 18:12:00</td>\n",
       "      <td>AMD</td>\n",
       "      <td>...</td>\n",
       "      <td>28</td>\n",
       "      <td>36</td>\n",
       "      <td>93</td>\n",
       "      <td>44</td>\n",
       "      <td>36</td>\n",
       "      <td>49</td>\n",
       "      <td>{'F': 12, 'P': 8}</td>\n",
       "      <td>{'C': 16, 'J': 12, 'Z': 12}</td>\n",
       "      <td>{'Q': 18, 'R': 12, 'S': 6, 'T': 6, 'H': 12, 'M...</td>\n",
       "      <td>{'Y': 6, 'A': 6, 'B': 3, 'D': 3, 'E': 3, 'G': ...</td>\n",
       "    </tr>\n",
       "    <tr>\n",
       "      <th>1199</th>\n",
       "      <td>INV-ZZ-4725843</td>\n",
       "      <td>SCH-ZZ-4843596</td>\n",
       "      <td>ZZ</td>\n",
       "      <td>ZZ20240520AMDBLR3041.0</td>\n",
       "      <td>3041.0</td>\n",
       "      <td>Airbus A321-200</td>\n",
       "      <td>05/20/2024</td>\n",
       "      <td>2024-05-20 14:26:00</td>\n",
       "      <td>2024-05-20 18:12:00</td>\n",
       "      <td>AMD</td>\n",
       "      <td>...</td>\n",
       "      <td>27</td>\n",
       "      <td>36</td>\n",
       "      <td>92</td>\n",
       "      <td>45</td>\n",
       "      <td>35</td>\n",
       "      <td>47</td>\n",
       "      <td>{'F': 12, 'P': 8}</td>\n",
       "      <td>{'C': 16, 'J': 12, 'Z': 12}</td>\n",
       "      <td>{'Q': 18, 'R': 12, 'S': 6, 'T': 6, 'H': 12, 'M...</td>\n",
       "      <td>{'Y': 6, 'A': 6, 'B': 3, 'D': 3, 'E': 3, 'G': ...</td>\n",
       "    </tr>\n",
       "    <tr>\n",
       "      <th>1200</th>\n",
       "      <td>INV-ZZ-1805422</td>\n",
       "      <td>SCH-ZZ-4843596</td>\n",
       "      <td>ZZ</td>\n",
       "      <td>ZZ20240524AMDBLR3041.0</td>\n",
       "      <td>3041.0</td>\n",
       "      <td>Airbus A321-200</td>\n",
       "      <td>05/24/2024</td>\n",
       "      <td>2024-05-24 14:26:00</td>\n",
       "      <td>2024-05-24 18:12:00</td>\n",
       "      <td>AMD</td>\n",
       "      <td>...</td>\n",
       "      <td>26</td>\n",
       "      <td>33</td>\n",
       "      <td>92</td>\n",
       "      <td>46</td>\n",
       "      <td>34</td>\n",
       "      <td>46</td>\n",
       "      <td>{'F': 12, 'P': 8}</td>\n",
       "      <td>{'C': 16, 'J': 12, 'Z': 12}</td>\n",
       "      <td>{'Q': 18, 'R': 12, 'S': 6, 'T': 6, 'H': 12, 'M...</td>\n",
       "      <td>{'Y': 6, 'A': 6, 'B': 3, 'D': 3, 'E': 3, 'G': ...</td>\n",
       "    </tr>\n",
       "    <tr>\n",
       "      <th>1201</th>\n",
       "      <td>INV-ZZ-6244039</td>\n",
       "      <td>SCH-ZZ-4843596</td>\n",
       "      <td>ZZ</td>\n",
       "      <td>ZZ20240526AMDBLR3041.0</td>\n",
       "      <td>3041.0</td>\n",
       "      <td>Airbus A321-200</td>\n",
       "      <td>05/26/2024</td>\n",
       "      <td>2024-05-26 14:26:00</td>\n",
       "      <td>2024-05-26 18:12:00</td>\n",
       "      <td>AMD</td>\n",
       "      <td>...</td>\n",
       "      <td>29</td>\n",
       "      <td>36</td>\n",
       "      <td>90</td>\n",
       "      <td>41</td>\n",
       "      <td>39</td>\n",
       "      <td>49</td>\n",
       "      <td>{'F': 12, 'P': 8}</td>\n",
       "      <td>{'C': 16, 'J': 12, 'Z': 12}</td>\n",
       "      <td>{'Q': 18, 'R': 12, 'S': 6, 'T': 6, 'H': 12, 'M...</td>\n",
       "      <td>{'Y': 6, 'A': 6, 'B': 3, 'D': 3, 'E': 3, 'G': ...</td>\n",
       "    </tr>\n",
       "    <tr>\n",
       "      <th>1202</th>\n",
       "      <td>INV-ZZ-4426236</td>\n",
       "      <td>SCH-ZZ-4843596</td>\n",
       "      <td>ZZ</td>\n",
       "      <td>ZZ20240527AMDBLR3041.0</td>\n",
       "      <td>3041.0</td>\n",
       "      <td>Airbus A321-200</td>\n",
       "      <td>05/27/2024</td>\n",
       "      <td>2024-05-27 14:26:00</td>\n",
       "      <td>2024-05-27 18:12:00</td>\n",
       "      <td>AMD</td>\n",
       "      <td>...</td>\n",
       "      <td>27</td>\n",
       "      <td>38</td>\n",
       "      <td>90</td>\n",
       "      <td>42</td>\n",
       "      <td>38</td>\n",
       "      <td>48</td>\n",
       "      <td>{'F': 12, 'P': 8}</td>\n",
       "      <td>{'C': 16, 'J': 12, 'Z': 12}</td>\n",
       "      <td>{'Q': 18, 'R': 12, 'S': 6, 'T': 6, 'H': 12, 'M...</td>\n",
       "      <td>{'Y': 6, 'A': 6, 'B': 3, 'D': 3, 'E': 3, 'G': ...</td>\n",
       "    </tr>\n",
       "  </tbody>\n",
       "</table>\n",
       "<p>74 rows × 40 columns</p>\n",
       "</div>"
      ],
      "text/plain": [
       "         InventoryId      ScheduleId CarrierCode                 Dep_Key  \\\n",
       "892   INV-ZZ-7703162  SCH-ZZ-5156445          ZZ  ZZ20240514AMDBLR3782.0   \n",
       "893   INV-ZZ-7431689  SCH-ZZ-5156445          ZZ  ZZ20240515AMDBLR3782.0   \n",
       "894   INV-ZZ-1603837  SCH-ZZ-5156445          ZZ  ZZ20240517AMDBLR3782.0   \n",
       "895   INV-ZZ-6060194  SCH-ZZ-5156445          ZZ  ZZ20240518AMDBLR3782.0   \n",
       "896   INV-ZZ-3258972  SCH-ZZ-5156445          ZZ  ZZ20240521AMDBLR3782.0   \n",
       "...              ...             ...         ...                     ...   \n",
       "1198  INV-ZZ-4855587  SCH-ZZ-4843596          ZZ  ZZ20240519AMDBLR3041.0   \n",
       "1199  INV-ZZ-4725843  SCH-ZZ-4843596          ZZ  ZZ20240520AMDBLR3041.0   \n",
       "1200  INV-ZZ-1805422  SCH-ZZ-4843596          ZZ  ZZ20240524AMDBLR3041.0   \n",
       "1201  INV-ZZ-6244039  SCH-ZZ-4843596          ZZ  ZZ20240526AMDBLR3041.0   \n",
       "1202  INV-ZZ-4426236  SCH-ZZ-4843596          ZZ  ZZ20240527AMDBLR3041.0   \n",
       "\n",
       "      FlightNumber     AircraftType DepartureDate   DepartureDateTime  \\\n",
       "892         3782.0       Boeing 787    05/14/2024 2024-05-14 15:57:00   \n",
       "893         3782.0       Boeing 787    05/15/2024 2024-05-15 15:57:00   \n",
       "894         3782.0       Boeing 787    05/17/2024 2024-05-17 15:57:00   \n",
       "895         3782.0       Boeing 787    05/18/2024 2024-05-18 15:57:00   \n",
       "896         3782.0       Boeing 787    05/21/2024 2024-05-21 15:57:00   \n",
       "...            ...              ...           ...                 ...   \n",
       "1198        3041.0  Airbus A321-200    05/19/2024 2024-05-19 14:26:00   \n",
       "1199        3041.0  Airbus A321-200    05/20/2024 2024-05-20 14:26:00   \n",
       "1200        3041.0  Airbus A321-200    05/24/2024 2024-05-24 14:26:00   \n",
       "1201        3041.0  Airbus A321-200    05/26/2024 2024-05-26 14:26:00   \n",
       "1202        3041.0  Airbus A321-200    05/27/2024 2024-05-27 14:26:00   \n",
       "\n",
       "         ArrivalDateTime DepartureAirport  ... PC_Oversold  \\\n",
       "892  2024-05-15 07:24:00              AMD  ...          32   \n",
       "893  2024-05-16 07:24:00              AMD  ...          33   \n",
       "894  2024-05-18 07:24:00              AMD  ...          35   \n",
       "895  2024-05-19 07:24:00              AMD  ...          35   \n",
       "896  2024-05-22 07:24:00              AMD  ...          35   \n",
       "...                  ...              ...  ...         ...   \n",
       "1198 2024-05-19 18:12:00              AMD  ...          28   \n",
       "1199 2024-05-20 18:12:00              AMD  ...          27   \n",
       "1200 2024-05-24 18:12:00              AMD  ...          26   \n",
       "1201 2024-05-26 18:12:00              AMD  ...          29   \n",
       "1202 2024-05-27 18:12:00              AMD  ...          27   \n",
       "\n",
       "      PC_AvailableInventory  EC_TotalInventory  EC_BookedInventory  \\\n",
       "892                      43                120                  65   \n",
       "893                      42                125                  66   \n",
       "894                      50                119                  57   \n",
       "895                      49                121                  58   \n",
       "896                      45                123                  62   \n",
       "...                     ...                ...                 ...   \n",
       "1198                     36                 93                  44   \n",
       "1199                     36                 92                  45   \n",
       "1200                     33                 92                  46   \n",
       "1201                     36                 90                  41   \n",
       "1202                     38                 90                  42   \n",
       "\n",
       "      EC_Oversold  EC_AvailableInventory               FC_CD  \\\n",
       "892            43                     55  {'F': 16, 'P': 11}   \n",
       "893            42                     59  {'F': 16, 'P': 11}   \n",
       "894            51                     62  {'F': 16, 'P': 11}   \n",
       "895            50                     63  {'F': 16, 'P': 11}   \n",
       "896            46                     61  {'F': 16, 'P': 11}   \n",
       "...           ...                    ...                 ...   \n",
       "1198           36                     49   {'F': 12, 'P': 8}   \n",
       "1199           35                     47   {'F': 12, 'P': 8}   \n",
       "1200           34                     46   {'F': 12, 'P': 8}   \n",
       "1201           39                     49   {'F': 12, 'P': 8}   \n",
       "1202           38                     48   {'F': 12, 'P': 8}   \n",
       "\n",
       "                            BC_CD  \\\n",
       "892   {'C': 22, 'J': 16, 'Z': 16}   \n",
       "893   {'C': 22, 'J': 16, 'Z': 16}   \n",
       "894   {'C': 22, 'J': 16, 'Z': 16}   \n",
       "895   {'C': 22, 'J': 16, 'Z': 16}   \n",
       "896   {'C': 22, 'J': 16, 'Z': 16}   \n",
       "...                           ...   \n",
       "1198  {'C': 16, 'J': 12, 'Z': 12}   \n",
       "1199  {'C': 16, 'J': 12, 'Z': 12}   \n",
       "1200  {'C': 16, 'J': 12, 'Z': 12}   \n",
       "1201  {'C': 16, 'J': 12, 'Z': 12}   \n",
       "1202  {'C': 16, 'J': 12, 'Z': 12}   \n",
       "\n",
       "                                                  PC_CD  \\\n",
       "892   {'Q': 24, 'R': 16, 'S': 8, 'T': 8, 'H': 16, 'M...   \n",
       "893   {'Q': 24, 'R': 16, 'S': 8, 'T': 8, 'H': 16, 'M...   \n",
       "894   {'Q': 24, 'R': 16, 'S': 8, 'T': 8, 'H': 16, 'M...   \n",
       "895   {'Q': 24, 'R': 16, 'S': 8, 'T': 8, 'H': 16, 'M...   \n",
       "896   {'Q': 24, 'R': 16, 'S': 8, 'T': 8, 'H': 16, 'M...   \n",
       "...                                                 ...   \n",
       "1198  {'Q': 18, 'R': 12, 'S': 6, 'T': 6, 'H': 12, 'M...   \n",
       "1199  {'Q': 18, 'R': 12, 'S': 6, 'T': 6, 'H': 12, 'M...   \n",
       "1200  {'Q': 18, 'R': 12, 'S': 6, 'T': 6, 'H': 12, 'M...   \n",
       "1201  {'Q': 18, 'R': 12, 'S': 6, 'T': 6, 'H': 12, 'M...   \n",
       "1202  {'Q': 18, 'R': 12, 'S': 6, 'T': 6, 'H': 12, 'M...   \n",
       "\n",
       "                                                  EC_CD  \n",
       "892   {'Y': 8, 'A': 8, 'B': 4, 'D': 4, 'E': 4, 'G': ...  \n",
       "893   {'Y': 8, 'A': 8, 'B': 4, 'D': 4, 'E': 4, 'G': ...  \n",
       "894   {'Y': 8, 'A': 8, 'B': 4, 'D': 4, 'E': 4, 'G': ...  \n",
       "895   {'Y': 8, 'A': 8, 'B': 4, 'D': 4, 'E': 4, 'G': ...  \n",
       "896   {'Y': 8, 'A': 8, 'B': 4, 'D': 4, 'E': 4, 'G': ...  \n",
       "...                                                 ...  \n",
       "1198  {'Y': 6, 'A': 6, 'B': 3, 'D': 3, 'E': 3, 'G': ...  \n",
       "1199  {'Y': 6, 'A': 6, 'B': 3, 'D': 3, 'E': 3, 'G': ...  \n",
       "1200  {'Y': 6, 'A': 6, 'B': 3, 'D': 3, 'E': 3, 'G': ...  \n",
       "1201  {'Y': 6, 'A': 6, 'B': 3, 'D': 3, 'E': 3, 'G': ...  \n",
       "1202  {'Y': 6, 'A': 6, 'B': 3, 'D': 3, 'E': 3, 'G': ...  \n",
       "\n",
       "[74 rows x 40 columns]"
      ]
     },
     "execution_count": 230,
     "metadata": {},
     "output_type": "execute_result"
    }
   ],
   "source": [
    "b = flights_between(city_mapping['BLR'][0],'BLR',f)\n",
    "b"
   ]
  },
  {
   "cell_type": "code",
   "execution_count": 231,
   "metadata": {},
   "outputs": [
    {
     "name": "stdout",
     "output_type": "stream",
     "text": [
      "<class 'pandas.core.series.Series'>\n"
     ]
    }
   ],
   "source": [
    "print(type(b.iloc[3]))"
   ]
  },
  {
   "cell_type": "code",
   "execution_count": 232,
   "metadata": {},
   "outputs": [
    {
     "name": "stderr",
     "output_type": "stream",
     "text": [
      "C:\\Users\\Vamsi Krishna\\AppData\\Local\\Temp\\ipykernel_6468\\1152031819.py:42: SettingWithCopyWarning: \n",
      "A value is trying to be set on a copy of a slice from a DataFrame\n",
      "\n",
      "See the caveats in the documentation: https://pandas.pydata.org/pandas-docs/stable/user_guide/indexing.html#returning-a-view-versus-a-copy\n",
      "  flights_list_['Cost'].iloc[i] += arrival_delay_cost_function(flights_list_['ArrivalDateTimeDiff'].iloc[i])\n",
      "C:\\Users\\Vamsi Krishna\\AppData\\Local\\Temp\\ipykernel_6468\\1152031819.py:43: SettingWithCopyWarning: \n",
      "A value is trying to be set on a copy of a slice from a DataFrame\n",
      "\n",
      "See the caveats in the documentation: https://pandas.pydata.org/pandas-docs/stable/user_guide/indexing.html#returning-a-view-versus-a-copy\n",
      "  flights_list_['Cost'].iloc[i] += departure_delay_cost_function(flights_list_['DepartureDateTimeDiff'].iloc[i])\n",
      "C:\\Users\\Vamsi Krishna\\AppData\\Local\\Temp\\ipykernel_6468\\1152031819.py:44: SettingWithCopyWarning: \n",
      "A value is trying to be set on a copy of a slice from a DataFrame\n",
      "\n",
      "See the caveats in the documentation: https://pandas.pydata.org/pandas-docs/stable/user_guide/indexing.html#returning-a-view-versus-a-copy\n",
      "  flights_list_['Cost'].iloc[i] += 40 # Same City Pairs\n",
      "C:\\Users\\Vamsi Krishna\\AppData\\Local\\Temp\\ipykernel_6468\\1152031819.py:42: SettingWithCopyWarning: \n",
      "A value is trying to be set on a copy of a slice from a DataFrame\n",
      "\n",
      "See the caveats in the documentation: https://pandas.pydata.org/pandas-docs/stable/user_guide/indexing.html#returning-a-view-versus-a-copy\n",
      "  flights_list_['Cost'].iloc[i] += arrival_delay_cost_function(flights_list_['ArrivalDateTimeDiff'].iloc[i])\n",
      "C:\\Users\\Vamsi Krishna\\AppData\\Local\\Temp\\ipykernel_6468\\1152031819.py:43: SettingWithCopyWarning: \n",
      "A value is trying to be set on a copy of a slice from a DataFrame\n",
      "\n",
      "See the caveats in the documentation: https://pandas.pydata.org/pandas-docs/stable/user_guide/indexing.html#returning-a-view-versus-a-copy\n",
      "  flights_list_['Cost'].iloc[i] += departure_delay_cost_function(flights_list_['DepartureDateTimeDiff'].iloc[i])\n",
      "C:\\Users\\Vamsi Krishna\\AppData\\Local\\Temp\\ipykernel_6468\\1152031819.py:44: SettingWithCopyWarning: \n",
      "A value is trying to be set on a copy of a slice from a DataFrame\n",
      "\n",
      "See the caveats in the documentation: https://pandas.pydata.org/pandas-docs/stable/user_guide/indexing.html#returning-a-view-versus-a-copy\n",
      "  flights_list_['Cost'].iloc[i] += 40 # Same City Pairs\n",
      "C:\\Users\\Vamsi Krishna\\AppData\\Local\\Temp\\ipykernel_6468\\1152031819.py:42: SettingWithCopyWarning: \n",
      "A value is trying to be set on a copy of a slice from a DataFrame\n",
      "\n",
      "See the caveats in the documentation: https://pandas.pydata.org/pandas-docs/stable/user_guide/indexing.html#returning-a-view-versus-a-copy\n",
      "  flights_list_['Cost'].iloc[i] += arrival_delay_cost_function(flights_list_['ArrivalDateTimeDiff'].iloc[i])\n",
      "C:\\Users\\Vamsi Krishna\\AppData\\Local\\Temp\\ipykernel_6468\\1152031819.py:43: SettingWithCopyWarning: \n",
      "A value is trying to be set on a copy of a slice from a DataFrame\n",
      "\n",
      "See the caveats in the documentation: https://pandas.pydata.org/pandas-docs/stable/user_guide/indexing.html#returning-a-view-versus-a-copy\n",
      "  flights_list_['Cost'].iloc[i] += departure_delay_cost_function(flights_list_['DepartureDateTimeDiff'].iloc[i])\n",
      "C:\\Users\\Vamsi Krishna\\AppData\\Local\\Temp\\ipykernel_6468\\1152031819.py:44: SettingWithCopyWarning: \n",
      "A value is trying to be set on a copy of a slice from a DataFrame\n",
      "\n",
      "See the caveats in the documentation: https://pandas.pydata.org/pandas-docs/stable/user_guide/indexing.html#returning-a-view-versus-a-copy\n",
      "  flights_list_['Cost'].iloc[i] += 40 # Same City Pairs\n"
     ]
    },
    {
     "data": {
      "text/html": [
       "<div>\n",
       "<style scoped>\n",
       "    .dataframe tbody tr th:only-of-type {\n",
       "        vertical-align: middle;\n",
       "    }\n",
       "\n",
       "    .dataframe tbody tr th {\n",
       "        vertical-align: top;\n",
       "    }\n",
       "\n",
       "    .dataframe thead th {\n",
       "        text-align: right;\n",
       "    }\n",
       "</style>\n",
       "<table border=\"1\" class=\"dataframe\">\n",
       "  <thead>\n",
       "    <tr style=\"text-align: right;\">\n",
       "      <th></th>\n",
       "      <th>InventoryId</th>\n",
       "      <th>ScheduleId</th>\n",
       "      <th>CarrierCode</th>\n",
       "      <th>Dep_Key</th>\n",
       "      <th>FlightNumber</th>\n",
       "      <th>AircraftType</th>\n",
       "      <th>DepartureDate</th>\n",
       "      <th>DepartureDateTime</th>\n",
       "      <th>ArrivalDateTime</th>\n",
       "      <th>DepartureAirport</th>\n",
       "      <th>...</th>\n",
       "      <th>EC_BookedInventory</th>\n",
       "      <th>EC_Oversold</th>\n",
       "      <th>EC_AvailableInventory</th>\n",
       "      <th>FC_CD</th>\n",
       "      <th>BC_CD</th>\n",
       "      <th>PC_CD</th>\n",
       "      <th>EC_CD</th>\n",
       "      <th>DepartureDateTimeDiff</th>\n",
       "      <th>ArrivalDateTimeDiff</th>\n",
       "      <th>Cost</th>\n",
       "    </tr>\n",
       "  </thead>\n",
       "  <tbody>\n",
       "    <tr>\n",
       "      <th>2</th>\n",
       "      <td>INV-ZZ-7767976</td>\n",
       "      <td>SCH-ZZ-6755803</td>\n",
       "      <td>ZZ</td>\n",
       "      <td>ZZ20240511IDRHYD3455.0</td>\n",
       "      <td>3455.0</td>\n",
       "      <td>Boeing 777</td>\n",
       "      <td>05/11/2024</td>\n",
       "      <td>2024-05-11 03:41:00</td>\n",
       "      <td>2024-05-12 01:59:00</td>\n",
       "      <td>IDR</td>\n",
       "      <td>...</td>\n",
       "      <td>107</td>\n",
       "      <td>63</td>\n",
       "      <td>84</td>\n",
       "      <td>{'F': 25, 'P': 17}</td>\n",
       "      <td>{'C': 34, 'J': 26, 'Z': 26}</td>\n",
       "      <td>{'Q': 38, 'R': 25, 'S': 13, 'T': 13, 'H': 25, ...</td>\n",
       "      <td>{'Y': 13, 'A': 13, 'B': 6, 'D': 6, 'E': 6, 'G'...</td>\n",
       "      <td>0 days 15:19:00</td>\n",
       "      <td>1 days 11:47:00</td>\n",
       "      <td>110</td>\n",
       "    </tr>\n",
       "    <tr>\n",
       "      <th>1</th>\n",
       "      <td>INV-ZZ-5004957</td>\n",
       "      <td>SCH-ZZ-2098565</td>\n",
       "      <td>ZZ</td>\n",
       "      <td>ZZ20240512IDRHYD2792.0</td>\n",
       "      <td>2792.0</td>\n",
       "      <td>BAe 146</td>\n",
       "      <td>05/12/2024</td>\n",
       "      <td>2024-05-12 12:22:00</td>\n",
       "      <td>2024-05-12 14:12:00</td>\n",
       "      <td>IDR</td>\n",
       "      <td>...</td>\n",
       "      <td>20</td>\n",
       "      <td>16</td>\n",
       "      <td>20</td>\n",
       "      <td>{'F': 5, 'P': 4}</td>\n",
       "      <td>{'C': 7, 'J': 5, 'Z': 5}</td>\n",
       "      <td>{'Q': 8, 'R': 5, 'S': 3, 'T': 3, 'H': 5, 'M': 3}</td>\n",
       "      <td>{'Y': 3, 'A': 3, 'B': 1, 'D': 1, 'E': 1, 'G': ...</td>\n",
       "      <td>2 days 00:00:00</td>\n",
       "      <td>2 days 00:00:00</td>\n",
       "      <td>100</td>\n",
       "    </tr>\n",
       "  </tbody>\n",
       "</table>\n",
       "<p>2 rows × 43 columns</p>\n",
       "</div>"
      ],
      "text/plain": [
       "      InventoryId      ScheduleId CarrierCode                 Dep_Key  \\\n",
       "2  INV-ZZ-7767976  SCH-ZZ-6755803          ZZ  ZZ20240511IDRHYD3455.0   \n",
       "1  INV-ZZ-5004957  SCH-ZZ-2098565          ZZ  ZZ20240512IDRHYD2792.0   \n",
       "\n",
       "  FlightNumber AircraftType DepartureDate    DepartureDateTime  \\\n",
       "2       3455.0   Boeing 777    05/11/2024  2024-05-11 03:41:00   \n",
       "1       2792.0      BAe 146    05/12/2024  2024-05-12 12:22:00   \n",
       "\n",
       "       ArrivalDateTime DepartureAirport  ... EC_BookedInventory EC_Oversold  \\\n",
       "2  2024-05-12 01:59:00              IDR  ...                107          63   \n",
       "1  2024-05-12 14:12:00              IDR  ...                 20          16   \n",
       "\n",
       "  EC_AvailableInventory               FC_CD                        BC_CD  \\\n",
       "2                    84  {'F': 25, 'P': 17}  {'C': 34, 'J': 26, 'Z': 26}   \n",
       "1                    20    {'F': 5, 'P': 4}     {'C': 7, 'J': 5, 'Z': 5}   \n",
       "\n",
       "                                               PC_CD  \\\n",
       "2  {'Q': 38, 'R': 25, 'S': 13, 'T': 13, 'H': 25, ...   \n",
       "1   {'Q': 8, 'R': 5, 'S': 3, 'T': 3, 'H': 5, 'M': 3}   \n",
       "\n",
       "                                               EC_CD DepartureDateTimeDiff  \\\n",
       "2  {'Y': 13, 'A': 13, 'B': 6, 'D': 6, 'E': 6, 'G'...       0 days 15:19:00   \n",
       "1  {'Y': 3, 'A': 3, 'B': 1, 'D': 1, 'E': 1, 'G': ...       2 days 00:00:00   \n",
       "\n",
       "  ArrivalDateTimeDiff Cost  \n",
       "2     1 days 11:47:00  110  \n",
       "1     2 days 00:00:00  100  \n",
       "\n",
       "[2 rows x 43 columns]"
      ]
     },
     "execution_count": 232,
     "metadata": {},
     "output_type": "execute_result"
    }
   ],
   "source": [
    "import pandas as pd\n",
    "\n",
    "def arrival_delay_cost_function(time_diff):\n",
    "    if(time_diff <= pd.Timedelta('6 hours')):\n",
    "        return 70\n",
    "    elif(time_diff <= pd.Timedelta('12 hours')):\n",
    "        return 50\n",
    "    elif(time_diff <= pd.Timedelta('24 hours')):\n",
    "        return 40\n",
    "    elif(time_diff <= pd.Timedelta('48 hours')):\n",
    "        return 30\n",
    "    else:\n",
    "        return 0\n",
    "def departure_delay_cost_function(time_diff):\n",
    "    if(time_diff <= pd.Timedelta('6 hours')):\n",
    "        return 70\n",
    "    elif(time_diff <= pd.Timedelta('12 hours')):\n",
    "        return 50\n",
    "    elif(time_diff <= pd.Timedelta('24 hours')):\n",
    "        return 40\n",
    "    elif(time_diff <= pd.Timedelta('48 hours')):\n",
    "        return 30\n",
    "    else:\n",
    "        return 0\n",
    "        \n",
    "def alternate_direct_flights(cancelled_flight_dep_key, df):\n",
    "    cancelled_flight = df[df['Dep_Key'] == cancelled_flight_dep_key+'.0'].iloc[0]\n",
    "    flights_list = flights_between(cancelled_flight['DepartureAirport'], cancelled_flight['ArrivalAirport'], df).copy()\n",
    "    \n",
    "    flights_list['DepartureDateTimeDiff'] = [i-cancelled_flight['DepartureDateTime'] for i in flights_list['DepartureDateTime']]\n",
    "    flights_list['ArrivalDateTimeDiff'] = [i-cancelled_flight['ArrivalDateTime'] for i in flights_list['ArrivalDateTime']]\n",
    "\n",
    "        \n",
    "    flights_list_ = flights_list.copy().iloc[0:0]\n",
    "    for i in range(len(flights_list)):\n",
    "        if(((flights_list.iloc[i].DepartureDateTimeDiff) >= pd.Timedelta('0 days')) and ((flights_list.iloc[i].ArrivalDateTimeDiff) >= pd.Timedelta('0 days'))):\n",
    "            if(((flights_list.iloc[i].DepartureDateTimeDiff) <= pd.Timedelta('2 days')) and ((flights_list.iloc[i].ArrivalDateTimeDiff) <= pd.Timedelta('2 days'))):\n",
    "                flights_list_.loc[len(flights_list_)]=flights_list.iloc[i]\n",
    "\n",
    "    flights_list_['Cost'] = 0\n",
    "    for i in range(len(flights_list_)):\n",
    "        flights_list_['Cost'].iloc[i] += arrival_delay_cost_function(flights_list_['ArrivalDateTimeDiff'].iloc[i])\n",
    "        flights_list_['Cost'].iloc[i] += departure_delay_cost_function(flights_list_['DepartureDateTimeDiff'].iloc[i])\n",
    "        flights_list_['Cost'].iloc[i] += 40 # Same City Pairs\n",
    "    return flights_list_.sort_values(by='Cost', ascending=False).iloc[1:]\n",
    "\n",
    "# Assuming y and f are defined somewhere\n",
    "x = alternate_direct_flights(specific_dep_key, f)\n",
    "x"
   ]
  },
  {
   "cell_type": "markdown",
   "metadata": {},
   "source": [
    "FIRST CLASS\n"
   ]
  },
  {
   "cell_type": "code",
   "execution_count": 233,
   "metadata": {},
   "outputs": [
    {
     "data": {
      "text/plain": [
       "[22, 5]"
      ]
     },
     "execution_count": 233,
     "metadata": {},
     "output_type": "execute_result"
    }
   ],
   "source": [
    "(x.FC_AvailableInventory).tolist()"
   ]
  },
  {
   "cell_type": "code",
   "execution_count": 234,
   "metadata": {},
   "outputs": [
    {
     "data": {
      "text/plain": [
       "2    110\n",
       "1    100\n",
       "Name: Cost, dtype: int64"
      ]
     },
     "execution_count": 234,
     "metadata": {},
     "output_type": "execute_result"
    }
   ],
   "source": [
    "(x.Cost)"
   ]
  },
  {
   "cell_type": "code",
   "execution_count": 235,
   "metadata": {},
   "outputs": [
    {
     "data": {
      "text/html": [
       "<div>\n",
       "<style scoped>\n",
       "    .dataframe tbody tr th:only-of-type {\n",
       "        vertical-align: middle;\n",
       "    }\n",
       "\n",
       "    .dataframe tbody tr th {\n",
       "        vertical-align: top;\n",
       "    }\n",
       "\n",
       "    .dataframe thead th {\n",
       "        text-align: right;\n",
       "    }\n",
       "</style>\n",
       "<table border=\"1\" class=\"dataframe\">\n",
       "  <thead>\n",
       "    <tr style=\"text-align: right;\">\n",
       "      <th></th>\n",
       "      <th>RECLOC</th>\n",
       "      <th>CREATION_DTZ</th>\n",
       "      <th>DEP_KEY</th>\n",
       "      <th>ACTION_CD</th>\n",
       "      <th>COS_CD</th>\n",
       "      <th>SEG_SEQ</th>\n",
       "      <th>SEG_TOTAL</th>\n",
       "      <th>PAX_CNT</th>\n",
       "      <th>CARRIER_CD</th>\n",
       "      <th>FLT_NUM</th>\n",
       "      <th>ORIG_CD</th>\n",
       "      <th>DEST_CD</th>\n",
       "      <th>DEP_DT</th>\n",
       "      <th>DEP_DTML</th>\n",
       "      <th>ARR_DTML</th>\n",
       "      <th>DEP_DTMZ</th>\n",
       "      <th>ARR_DTMZ</th>\n",
       "      <th>final_score</th>\n",
       "    </tr>\n",
       "  </thead>\n",
       "  <tbody>\n",
       "    <tr>\n",
       "      <th>2</th>\n",
       "      <td>GQDX67</td>\n",
       "      <td>2/1/2024 8:26</td>\n",
       "      <td>ZZ20240510IDRHYD2792</td>\n",
       "      <td>XX</td>\n",
       "      <td>FirstClass</td>\n",
       "      <td>1</td>\n",
       "      <td>2</td>\n",
       "      <td>3</td>\n",
       "      <td>ZZ</td>\n",
       "      <td>2792</td>\n",
       "      <td>IDR</td>\n",
       "      <td>HYD</td>\n",
       "      <td>5/10/2024</td>\n",
       "      <td>5/10/2024 12:22</td>\n",
       "      <td>5/10/2024 14:12</td>\n",
       "      <td>5/10/2024 6:52</td>\n",
       "      <td>5/10/2024 8:42</td>\n",
       "      <td>2550.0</td>\n",
       "    </tr>\n",
       "    <tr>\n",
       "      <th>10</th>\n",
       "      <td>SQMP46</td>\n",
       "      <td>2/1/2024 8:26</td>\n",
       "      <td>ZZ20240510IDRHYD2792</td>\n",
       "      <td>XX</td>\n",
       "      <td>FirstClass</td>\n",
       "      <td>1</td>\n",
       "      <td>4</td>\n",
       "      <td>2</td>\n",
       "      <td>ZZ</td>\n",
       "      <td>2792</td>\n",
       "      <td>IDR</td>\n",
       "      <td>HYD</td>\n",
       "      <td>5/10/2024</td>\n",
       "      <td>5/10/2024 12:22</td>\n",
       "      <td>5/10/2024 14:12</td>\n",
       "      <td>5/10/2024 6:52</td>\n",
       "      <td>5/10/2024 8:42</td>\n",
       "      <td>2500.0</td>\n",
       "    </tr>\n",
       "  </tbody>\n",
       "</table>\n",
       "</div>"
      ],
      "text/plain": [
       "    RECLOC   CREATION_DTZ               DEP_KEY ACTION_CD      COS_CD  \\\n",
       "2   GQDX67  2/1/2024 8:26  ZZ20240510IDRHYD2792        XX  FirstClass   \n",
       "10  SQMP46  2/1/2024 8:26  ZZ20240510IDRHYD2792        XX  FirstClass   \n",
       "\n",
       "    SEG_SEQ  SEG_TOTAL  PAX_CNT CARRIER_CD  FLT_NUM ORIG_CD DEST_CD  \\\n",
       "2         1          2        3         ZZ     2792     IDR     HYD   \n",
       "10        1          4        2         ZZ     2792     IDR     HYD   \n",
       "\n",
       "       DEP_DT         DEP_DTML         ARR_DTML        DEP_DTMZ  \\\n",
       "2   5/10/2024  5/10/2024 12:22  5/10/2024 14:12  5/10/2024 6:52   \n",
       "10  5/10/2024  5/10/2024 12:22  5/10/2024 14:12  5/10/2024 6:52   \n",
       "\n",
       "          ARR_DTMZ  final_score  \n",
       "2   5/10/2024 8:42       2550.0  \n",
       "10  5/10/2024 8:42       2500.0  "
      ]
     },
     "execution_count": 235,
     "metadata": {},
     "output_type": "execute_result"
    }
   ],
   "source": [
    "merged_sorted_passengers = sorted_passengers.groupby('RECLOC')['Total_score'].sum().reset_index()\n",
    "# merged_sorted_passengers\n",
    "merged_table = pd.merge(merged_sorted_passengers, filtered_f_copy, on='RECLOC', how='outer')\n",
    "merged_table['final_score'] = merged_table['Total_score'] + merged_table['SUM_SEG_PAX']\n",
    "merged_table=merged_table.drop(['Total_score', 'SEG_TOTAL_MULTIPLIED', 'PAX_CNT_MULTIPLIED' ,'SUM_SEG_PAX'], axis=1)\n",
    "merge_sorted_table = merged_table.sort_values('final_score', ascending=False)\n",
    "\n",
    "economy_final_table= merge_sorted_table[merge_sorted_table[\"COS_CD\"]== 'EconomyClass']\n",
    "premium_economy_final_table= merge_sorted_table[merge_sorted_table[\"COS_CD\"]== 'PremiumEconomyClass']\n",
    "business_final_table= merge_sorted_table[merge_sorted_table[\"COS_CD\"]== 'BusinessClass']\n",
    "first_final_table= merge_sorted_table[merge_sorted_table[\"COS_CD\"]== 'FirstClass']\n",
    "# economy_final_table\n",
    "# premium_economy_final_table\n",
    "# business_final_table\n",
    "first_final_table\n",
    "# merge_sorted_table"
   ]
  },
  {
   "cell_type": "code",
   "execution_count": 236,
   "metadata": {},
   "outputs": [
    {
     "data": {
      "text/plain": [
       "['GQDX67', 'SQMP46']"
      ]
     },
     "execution_count": 236,
     "metadata": {},
     "output_type": "execute_result"
    }
   ],
   "source": [
    "final_recloc_list = first_final_table['RECLOC'].tolist()\n",
    "final_pax_cnt=first_final_table['PAX_CNT'].tolist()\n",
    "final_seg_seq_cnt=first_final_table['SEG_SEQ'].tolist()\n",
    "final_score=first_final_table['final_score'].tolist()\n",
    "final_recloc_list"
   ]
  },
  {
   "cell_type": "code",
   "execution_count": 237,
   "metadata": {},
   "outputs": [
    {
     "data": {
      "text/plain": [
       "[3, 2]"
      ]
     },
     "execution_count": 237,
     "metadata": {},
     "output_type": "execute_result"
    }
   ],
   "source": [
    "a=(x.FC_AvailableInventory).tolist()\n",
    "ac=(x.Cost).tolist()\n",
    "pc=final_score\n",
    "p=final_pax_cnt\n",
    "\n",
    "m=len(a)\n",
    "n=len(p)\n",
    "\n",
    "p\n"
   ]
  },
  {
   "cell_type": "code",
   "execution_count": 238,
   "metadata": {},
   "outputs": [
    {
     "data": {
      "text/plain": [
       "[['pas_0_in_fli_0', 'pas_0_in_fli_1'], ['pas_1_in_fli_0', 'pas_1_in_fli_1']]"
      ]
     },
     "execution_count": 238,
     "metadata": {},
     "output_type": "execute_result"
    }
   ],
   "source": [
    "pas_in_fli = [[f'pas_{i}_in_fli_{j}' for j in range(m)] for i in range(n)]\n",
    "pas_in_fli"
   ]
  },
  {
   "cell_type": "code",
   "execution_count": 239,
   "metadata": {},
   "outputs": [
    {
     "data": {
      "text/plain": [
       "[-2660.0, -2650.0, -2610.0, -2600.0]"
      ]
     },
     "execution_count": 239,
     "metadata": {},
     "output_type": "execute_result"
    }
   ],
   "source": [
    "coe=[]\n",
    "\n",
    "for k in range(m*n):\n",
    "    coe.append(-(pc[k//m]+ac[k%m]))\n",
    "\n",
    "coe"
   ]
  },
  {
   "cell_type": "code",
   "execution_count": 240,
   "metadata": {},
   "outputs": [
    {
     "data": {
      "text/plain": [
       "{'pas_0_in_fli_0': -2660.0,\n",
       " 'pas_0_in_fli_1': -2650.0,\n",
       " 'pas_1_in_fli_0': -2610.0,\n",
       " 'pas_1_in_fli_1': -2600.0}"
      ]
     },
     "execution_count": 240,
     "metadata": {},
     "output_type": "execute_result"
    }
   ],
   "source": [
    "list=[]\n",
    "for k in pas_in_fli:\n",
    "    for n in k:\n",
    "        list.append(n)\n",
    "\n",
    "linear=dict(zip(list,coe))\n",
    "linear"
   ]
  },
  {
   "cell_type": "code",
   "execution_count": 241,
   "metadata": {},
   "outputs": [],
   "source": [
    "from dimod import BinaryQuadraticModel\n",
    "import hybrid\n",
    "from hybrid import SimulatedAnnealingProblemSampler,TabuProblemSampler,min_sample,State\n",
    "\n",
    "bqm = BinaryQuadraticModel(linear,{},\"BINARY\")\n",
    "lmbd = 10000"
   ]
  },
  {
   "cell_type": "code",
   "execution_count": 242,
   "metadata": {},
   "outputs": [
    {
     "name": "stdout",
     "output_type": "stream",
     "text": [
      "[('pas_0_in_fli_0', 1), ('pas_0_in_fli_1', 1)]\n",
      "[('pas_1_in_fli_0', 1), ('pas_1_in_fli_1', 1)]\n"
     ]
    }
   ],
   "source": [
    "for i in range(len(p)):\n",
    "    cons1=[]\n",
    "    for j in range(len(ac)):\n",
    "        cons1.append((f'pas_{i}_in_fli_{j}', 1))\n",
    "    print(cons1)\n",
    "    bqm.add_linear_equality_constraint(cons1, lmbd*10, -1)\n",
    "\n",
    "# for each passenger get 1 flight"
   ]
  },
  {
   "cell_type": "code",
   "execution_count": 244,
   "metadata": {},
   "outputs": [
    {
     "name": "stdout",
     "output_type": "stream",
     "text": [
      "[('pas_0_in_fli_0', 3), ('pas_1_in_fli_0', 2)] 22\n",
      "[('pas_0_in_fli_1', 3), ('pas_1_in_fli_1', 2)] 5\n"
     ]
    }
   ],
   "source": [
    "for j in range(len(a)):\n",
    "    cons2=[]\n",
    "    \n",
    "    for i in range(len(p)):\n",
    "        cons2.append((f'pas_{i}_in_fli_{j}',p[i]))\n",
    "    print(cons2,a[j])   \n",
    "    bqm.add_linear_inequality_constraint(terms=cons2, lagrange_multiplier=lmbd*10, constant=0, label='s', lb=0, ub=a[j])\n",
    "    "
   ]
  },
  {
   "cell_type": "code",
   "execution_count": 245,
   "metadata": {},
   "outputs": [],
   "source": [
    "sampler = SimulatedAnnealingProblemSampler()\n",
    "state = State.from_sample(min_sample(bqm), bqm)\n",
    "new_state = sampler.run(state).result()\n",
    "solute=new_state.samples.first.sample, new_state.samples.first.energy"
   ]
  },
  {
   "cell_type": "code",
   "execution_count": 246,
   "metadata": {},
   "outputs": [
    {
     "data": {
      "text/plain": [
       "{'pas_0_in_fli_0': 0,\n",
       " 'pas_0_in_fli_1': 1,\n",
       " 'pas_1_in_fli_0': 1,\n",
       " 'pas_1_in_fli_1': 0}"
      ]
     },
     "execution_count": 246,
     "metadata": {},
     "output_type": "execute_result"
    }
   ],
   "source": [
    "solute[0]"
   ]
  },
  {
   "cell_type": "code",
   "execution_count": 247,
   "metadata": {},
   "outputs": [
    {
     "data": {
      "text/plain": [
       "2"
      ]
     },
     "execution_count": 247,
     "metadata": {},
     "output_type": "execute_result"
    }
   ],
   "source": [
    "no_pas=0\n",
    "\n",
    "for i in range(len(p)):\n",
    "    for j in range(len(a)):\n",
    "     if solute[0][f'pas_{i}_in_fli_{j}']==1:\n",
    "        no_pas=no_pas+1\n",
    "no_pas"
   ]
  },
  {
   "cell_type": "code",
   "execution_count": 248,
   "metadata": {},
   "outputs": [
    {
     "name": "stdout",
     "output_type": "stream",
     "text": [
      "[22, 5]\n"
     ]
    },
    {
     "data": {
      "text/plain": [
       "[2, 3]"
      ]
     },
     "execution_count": 248,
     "metadata": {},
     "output_type": "execute_result"
    }
   ],
   "source": [
    "fli_cap=[]\n",
    "print(a)\n",
    "for j in range(len(a)):\n",
    "    count=0\n",
    "    for i in range(len(pc)):\n",
    "        if solute[0][f'pas_{i}_in_fli_{j}']==1:\n",
    "            count=count+p[i]\n",
    "    fli_cap.append(count) \n",
    "\n",
    "fli_cap"
   ]
  },
  {
   "cell_type": "code",
   "execution_count": 249,
   "metadata": {},
   "outputs": [],
   "source": [
    "for i in range(len(p)):\n",
    " sum=0\n",
    " for j in range(len(a)):\n",
    "  sum=sum+solute[0][f'pas_{i}_in_fli_{j}']\n",
    "  if sum >1 :\n",
    "    solute[0][f'pas_{i}_in_fli_{j}']=0\n"
   ]
  },
  {
   "cell_type": "code",
   "execution_count": 250,
   "metadata": {},
   "outputs": [],
   "source": [
    "for j in range(len(p)):\n",
    " sum=0\n",
    " for i in range(len(a)):\n",
    "  sum=sum+solute[0][f'pas_{i}_in_fli_{j}']\n",
    "  if sum >a[j] :\n",
    "    solute[0][f'pas_{i}_in_fli_{j}']=0"
   ]
  },
  {
   "cell_type": "code",
   "execution_count": 251,
   "metadata": {},
   "outputs": [
    {
     "data": {
      "text/plain": [
       "2"
      ]
     },
     "execution_count": 251,
     "metadata": {},
     "output_type": "execute_result"
    }
   ],
   "source": [
    "no_pas=0\n",
    "\n",
    "for i in range(len(p)):\n",
    "    for j in range(len(a)):\n",
    "     if solute[0][f'pas_{i}_in_fli_{j}']==1:\n",
    "        no_pas=no_pas+1\n",
    "no_pas"
   ]
  },
  {
   "cell_type": "code",
   "execution_count": 252,
   "metadata": {},
   "outputs": [
    {
     "name": "stdout",
     "output_type": "stream",
     "text": [
      "[22, 5]\n"
     ]
    },
    {
     "data": {
      "text/plain": [
       "[2, 3]"
      ]
     },
     "execution_count": 252,
     "metadata": {},
     "output_type": "execute_result"
    }
   ],
   "source": [
    "fli_cap=[]\n",
    "print(a)\n",
    "for j in range(len(a)):\n",
    "    count=0\n",
    "    for i in range(len(pc)):\n",
    "        if solute[0][f'pas_{i}_in_fli_{j}']==1:\n",
    "            count=count+p[i]\n",
    "    fli_cap.append(count) \n",
    "\n",
    "fli_cap"
   ]
  },
  {
   "cell_type": "code",
   "execution_count": 253,
   "metadata": {},
   "outputs": [
    {
     "data": {
      "text/plain": [
       "{'pas_0_in_fli_0': 0,\n",
       " 'pas_0_in_fli_1': 1,\n",
       " 'pas_1_in_fli_0': 1,\n",
       " 'pas_1_in_fli_1': 0}"
      ]
     },
     "execution_count": 253,
     "metadata": {},
     "output_type": "execute_result"
    }
   ],
   "source": [
    "fc1=solute[0]\n",
    "fc1"
   ]
  },
  {
   "cell_type": "code",
   "execution_count": 254,
   "metadata": {},
   "outputs": [
    {
     "name": "stdout",
     "output_type": "stream",
     "text": [
      "[22, 5]\n"
     ]
    },
    {
     "data": {
      "text/plain": [
       "[20, 2]"
      ]
     },
     "execution_count": 254,
     "metadata": {},
     "output_type": "execute_result"
    }
   ],
   "source": [
    "fc_total_available_updated = []\n",
    "for i in range(len(a)):\n",
    "    fc_total_available_updated.append(a[i]-fli_cap[i])\n",
    "print(a)\n",
    "fc_total_available_updated"
   ]
  },
  {
   "cell_type": "code",
   "execution_count": 255,
   "metadata": {},
   "outputs": [
    {
     "name": "stdout",
     "output_type": "stream",
     "text": [
      "[27, 6]\n"
     ]
    },
    {
     "data": {
      "text/plain": [
       "[29, 9]"
      ]
     },
     "execution_count": 255,
     "metadata": {},
     "output_type": "execute_result"
    }
   ],
   "source": [
    "fc_og_booked_inv = x.FC_BookedInventory.tolist()\n",
    "fc_updated_booked_inv = []\n",
    "for i in range(len(fc_og_booked_inv)):\n",
    "    fc_updated_booked_inv.append(fc_og_booked_inv[i]+fli_cap[i])\n",
    "print(fc_og_booked_inv)\n",
    "fc_updated_booked_inv"
   ]
  },
  {
   "cell_type": "code",
   "execution_count": 256,
   "metadata": {},
   "outputs": [
    {
     "data": {
      "text/plain": [
       "['ZZ20240511IDRHYD3455.0', 'ZZ20240512IDRHYD2792.0']"
      ]
     },
     "execution_count": 256,
     "metadata": {},
     "output_type": "execute_result"
    }
   ],
   "source": [
    "depkey = x.Dep_Key.tolist()\n",
    "depkey"
   ]
  },
  {
   "cell_type": "code",
   "execution_count": 257,
   "metadata": {},
   "outputs": [
    {
     "name": "stdout",
     "output_type": "stream",
     "text": [
      "         InventoryId      ScheduleId CarrierCode               Dep_Key  \\\n",
      "0     INV-ZZ-2774494  SCH-ZZ-3400127          ZZ  ZZ20240505AMDHYD2223   \n",
      "1     INV-ZZ-8029879  SCH-ZZ-3400127          ZZ  ZZ20240506AMDHYD2223   \n",
      "2     INV-ZZ-6852033  SCH-ZZ-3400127          ZZ  ZZ20240507AMDHYD2223   \n",
      "3     INV-ZZ-7065859  SCH-ZZ-3400127          ZZ  ZZ20240508AMDHYD2223   \n",
      "4     INV-ZZ-1595392  SCH-ZZ-3400127          ZZ  ZZ20240512AMDHYD2223   \n",
      "...              ...             ...         ...                   ...   \n",
      "2007  INV-ZZ-6129434  SCH-ZZ-9762124          ZZ   ZZ20240617GAUPNQ344   \n",
      "2008  INV-ZZ-2755720  SCH-ZZ-9762124          ZZ   ZZ20240620GAUPNQ344   \n",
      "2009  INV-ZZ-2707415  SCH-ZZ-9762124          ZZ   ZZ20240621GAUPNQ344   \n",
      "2010  INV-ZZ-1293533  SCH-ZZ-9762124          ZZ   ZZ20240623GAUPNQ344   \n",
      "2011  INV-ZZ-1560576  SCH-ZZ-9762124          ZZ   ZZ20240624GAUPNQ344   \n",
      "\n",
      "      FlightNumber AircraftType DepartureDate    DepartureDateTime  \\\n",
      "0           2223.0   Boeing 777    05/05/2024  2024-05-05 10:52:00   \n",
      "1           2223.0   Boeing 777    05/06/2024  2024-05-06 10:52:00   \n",
      "2           2223.0   Boeing 777    05/07/2024  2024-05-07 10:52:00   \n",
      "3           2223.0   Boeing 777    05/08/2024  2024-05-08 10:52:00   \n",
      "4           2223.0   Boeing 777    05/12/2024  2024-05-12 10:52:00   \n",
      "...            ...          ...           ...                  ...   \n",
      "2007        3440.0   Boeing 757    06/17/2024  2024-06-17 15:57:00   \n",
      "2008        3440.0   Boeing 757    06/20/2024  2024-06-20 15:57:00   \n",
      "2009        3440.0   Boeing 757    06/21/2024  2024-06-21 15:57:00   \n",
      "2010        3440.0   Boeing 757    06/23/2024  2024-06-23 15:57:00   \n",
      "2011        3440.0   Boeing 757    06/24/2024  2024-06-24 15:57:00   \n",
      "\n",
      "          ArrivalDateTime DepartureAirport  ... PC_Oversold  \\\n",
      "0     2024-05-05 19:30:00              AMD  ...          49   \n",
      "1     2024-05-06 19:30:00              AMD  ...          47   \n",
      "2     2024-05-07 19:30:00              AMD  ...          44   \n",
      "3     2024-05-08 19:30:00              AMD  ...          51   \n",
      "4     2024-05-12 19:30:00              AMD  ...          48   \n",
      "...                   ...              ...  ...         ...   \n",
      "2007  2024-06-18 05:13:00              GAU  ...          29   \n",
      "2008  2024-06-21 05:13:00              GAU  ...          29   \n",
      "2009  2024-06-22 05:13:00              GAU  ...          31   \n",
      "2010  2024-06-24 05:13:00              GAU  ...          29   \n",
      "2011  2024-06-25 05:13:00              GAU  ...          34   \n",
      "\n",
      "      PC_AvailableInventory  EC_TotalInventory  EC_BookedInventory  \\\n",
      "0                        74                199                 102   \n",
      "1                        72                202                 106   \n",
      "2                        61                197                 114   \n",
      "3                        66                192                 103   \n",
      "4                        66                197                 107   \n",
      "...                     ...                ...                 ...   \n",
      "2007                     37                 96                  45   \n",
      "2008                     39                 93                  43   \n",
      "2009                     40                 93                  40   \n",
      "2010                     41                 98                  43   \n",
      "2011                     42                 99                  40   \n",
      "\n",
      "      EC_Oversold  EC_AvailableInventory               FC_CD  \\\n",
      "0              68                     97  {'F': 25, 'P': 17}   \n",
      "1              64                     96  {'F': 25, 'P': 17}   \n",
      "2              56                     83  {'F': 25, 'P': 17}   \n",
      "3              67                     89  {'F': 25, 'P': 17}   \n",
      "4              63                     90  {'F': 25, 'P': 17}   \n",
      "...           ...                    ...                 ...   \n",
      "2007           38                     51   {'F': 12, 'P': 8}   \n",
      "2008           40                     50   {'F': 12, 'P': 8}   \n",
      "2009           43                     53   {'F': 12, 'P': 8}   \n",
      "2010           40                     55   {'F': 12, 'P': 8}   \n",
      "2011           43                     59   {'F': 12, 'P': 8}   \n",
      "\n",
      "                            BC_CD  \\\n",
      "0     {'C': 34, 'J': 26, 'Z': 26}   \n",
      "1     {'C': 34, 'J': 26, 'Z': 26}   \n",
      "2     {'C': 34, 'J': 26, 'Z': 26}   \n",
      "3     {'C': 34, 'J': 26, 'Z': 26}   \n",
      "4     {'C': 34, 'J': 26, 'Z': 26}   \n",
      "...                           ...   \n",
      "2007  {'C': 16, 'J': 12, 'Z': 12}   \n",
      "2008  {'C': 16, 'J': 12, 'Z': 12}   \n",
      "2009  {'C': 16, 'J': 12, 'Z': 12}   \n",
      "2010  {'C': 16, 'J': 12, 'Z': 12}   \n",
      "2011  {'C': 16, 'J': 12, 'Z': 12}   \n",
      "\n",
      "                                                  PC_CD  \\\n",
      "0     {'Q': 38, 'R': 25, 'S': 13, 'T': 13, 'H': 25, ...   \n",
      "1     {'Q': 38, 'R': 25, 'S': 13, 'T': 13, 'H': 25, ...   \n",
      "2     {'Q': 38, 'R': 25, 'S': 13, 'T': 13, 'H': 25, ...   \n",
      "3     {'Q': 38, 'R': 25, 'S': 13, 'T': 13, 'H': 25, ...   \n",
      "4     {'Q': 38, 'R': 25, 'S': 13, 'T': 13, 'H': 25, ...   \n",
      "...                                                 ...   \n",
      "2007  {'Q': 19, 'R': 12, 'S': 6, 'T': 6, 'H': 12, 'M...   \n",
      "2008  {'Q': 19, 'R': 12, 'S': 6, 'T': 6, 'H': 12, 'M...   \n",
      "2009  {'Q': 19, 'R': 12, 'S': 6, 'T': 6, 'H': 12, 'M...   \n",
      "2010  {'Q': 19, 'R': 12, 'S': 6, 'T': 6, 'H': 12, 'M...   \n",
      "2011  {'Q': 19, 'R': 12, 'S': 6, 'T': 6, 'H': 12, 'M...   \n",
      "\n",
      "                                                  EC_CD  \n",
      "0     {'Y': 13, 'A': 13, 'B': 6, 'D': 6, 'E': 6, 'G'...  \n",
      "1     {'Y': 13, 'A': 13, 'B': 6, 'D': 6, 'E': 6, 'G'...  \n",
      "2     {'Y': 13, 'A': 13, 'B': 6, 'D': 6, 'E': 6, 'G'...  \n",
      "3     {'Y': 13, 'A': 13, 'B': 6, 'D': 6, 'E': 6, 'G'...  \n",
      "4     {'Y': 13, 'A': 13, 'B': 6, 'D': 6, 'E': 6, 'G'...  \n",
      "...                                                 ...  \n",
      "2007  {'Y': 6, 'A': 6, 'B': 3, 'D': 3, 'E': 3, 'G': ...  \n",
      "2008  {'Y': 6, 'A': 6, 'B': 3, 'D': 3, 'E': 3, 'G': ...  \n",
      "2009  {'Y': 6, 'A': 6, 'B': 3, 'D': 3, 'E': 3, 'G': ...  \n",
      "2010  {'Y': 6, 'A': 6, 'B': 3, 'D': 3, 'E': 3, 'G': ...  \n",
      "2011  {'Y': 6, 'A': 6, 'B': 3, 'D': 3, 'E': 3, 'G': ...  \n",
      "\n",
      "[2012 rows x 40 columns]\n",
      "Dep_Key 'ZZ20240511IDRHYD3455.0' not found in the DataFrame.\n",
      "Dep_Key 'ZZ20240512IDRHYD2792.0' not found in the DataFrame.\n"
     ]
    }
   ],
   "source": [
    "import pandas as pd\n",
    "\n",
    "file_path = r\"C:\\Users\\Vamsi Krishna\\codes\\QC\\New folder\\2\\test_inv.csv\"\n",
    "df = pd.read_csv(file_path)\n",
    "print(df)\n",
    "\n",
    "for i in range(len(a)):\n",
    "    dep_key_to_update = depkey[i]\n",
    "    fc_new_available_inventory = fc_total_available_updated[i]\n",
    "    fc_new_booked_inventory = fc_updated_booked_inv[i]\n",
    "\n",
    "    row_index = df.index[df['Dep_Key'] == dep_key_to_update].tolist()\n",
    "\n",
    "    if row_index:\n",
    "        row_index = row_index[0] \n",
    "        \n",
    "        df.at[row_index, 'FC_AvailableInventory'] = fc_new_available_inventory\n",
    "        df.at[row_index, 'FC_BookedInventory'] = fc_new_booked_inventory\n",
    "\n",
    "        df.to_csv(file_path, index=False)\n",
    "        print(f\"Values for Dep_Key '{dep_key_to_update}' updated successfully.\")\n",
    "    else:\n",
    "        print(f\"Dep_Key '{dep_key_to_update}' not found in the DataFrame.\")"
   ]
  },
  {
   "cell_type": "code",
   "execution_count": 259,
   "metadata": {},
   "outputs": [
    {
     "data": {
      "text/html": [
       "<div>\n",
       "<style scoped>\n",
       "    .dataframe tbody tr th:only-of-type {\n",
       "        vertical-align: middle;\n",
       "    }\n",
       "\n",
       "    .dataframe tbody tr th {\n",
       "        vertical-align: top;\n",
       "    }\n",
       "\n",
       "    .dataframe thead th {\n",
       "        text-align: right;\n",
       "    }\n",
       "</style>\n",
       "<table border=\"1\" class=\"dataframe\">\n",
       "  <thead>\n",
       "    <tr style=\"text-align: right;\">\n",
       "      <th></th>\n",
       "      <th>RECLOC</th>\n",
       "      <th>CREATION_DTZ</th>\n",
       "      <th>DEP_KEY</th>\n",
       "      <th>ACTION_CD</th>\n",
       "      <th>COS_CD</th>\n",
       "      <th>SEG_SEQ</th>\n",
       "      <th>SEG_TOTAL</th>\n",
       "      <th>PAX_CNT</th>\n",
       "      <th>CARRIER_CD</th>\n",
       "      <th>FLT_NUM</th>\n",
       "      <th>ORIG_CD</th>\n",
       "      <th>DEST_CD</th>\n",
       "      <th>DEP_DT</th>\n",
       "      <th>DEP_DTML</th>\n",
       "      <th>ARR_DTML</th>\n",
       "      <th>DEP_DTMZ</th>\n",
       "      <th>ARR_DTMZ</th>\n",
       "    </tr>\n",
       "  </thead>\n",
       "  <tbody>\n",
       "    <tr>\n",
       "      <th>32909</th>\n",
       "      <td>GQDX67</td>\n",
       "      <td>2/1/2024 8:26</td>\n",
       "      <td>ZZ20240510IDRHYD2792</td>\n",
       "      <td>XX</td>\n",
       "      <td>FirstClass</td>\n",
       "      <td>1</td>\n",
       "      <td>2</td>\n",
       "      <td>3</td>\n",
       "      <td>ZZ</td>\n",
       "      <td>2792</td>\n",
       "      <td>IDR</td>\n",
       "      <td>HYD</td>\n",
       "      <td>5/10/2024</td>\n",
       "      <td>5/10/2024 12:22</td>\n",
       "      <td>5/10/2024 14:12</td>\n",
       "      <td>5/10/2024 6:52</td>\n",
       "      <td>5/10/2024 8:42</td>\n",
       "    </tr>\n",
       "    <tr>\n",
       "      <th>32926</th>\n",
       "      <td>GQDX67</td>\n",
       "      <td>2/1/2024 8:26</td>\n",
       "      <td>ZZ20240513HYDIDR4122</td>\n",
       "      <td>GN</td>\n",
       "      <td>FirstClass</td>\n",
       "      <td>2</td>\n",
       "      <td>2</td>\n",
       "      <td>3</td>\n",
       "      <td>ZZ</td>\n",
       "      <td>4122</td>\n",
       "      <td>HYD</td>\n",
       "      <td>IDR</td>\n",
       "      <td>5/13/2024</td>\n",
       "      <td>5/13/2024 6:08</td>\n",
       "      <td>5/13/2024 10:32</td>\n",
       "      <td>5/13/2024 0:38</td>\n",
       "      <td>5/13/2024 5:02</td>\n",
       "    </tr>\n",
       "    <tr>\n",
       "      <th>32908</th>\n",
       "      <td>SQMP46</td>\n",
       "      <td>2/1/2024 8:26</td>\n",
       "      <td>ZZ20240510IDRHYD2792</td>\n",
       "      <td>XX</td>\n",
       "      <td>FirstClass</td>\n",
       "      <td>1</td>\n",
       "      <td>4</td>\n",
       "      <td>2</td>\n",
       "      <td>ZZ</td>\n",
       "      <td>2792</td>\n",
       "      <td>IDR</td>\n",
       "      <td>HYD</td>\n",
       "      <td>5/10/2024</td>\n",
       "      <td>5/10/2024 12:22</td>\n",
       "      <td>5/10/2024 14:12</td>\n",
       "      <td>5/10/2024 6:52</td>\n",
       "      <td>5/10/2024 8:42</td>\n",
       "    </tr>\n",
       "    <tr>\n",
       "      <th>32923</th>\n",
       "      <td>SQMP46</td>\n",
       "      <td>2/1/2024 8:26</td>\n",
       "      <td>ZZ20240511HYDBLR2887</td>\n",
       "      <td>HK</td>\n",
       "      <td>FirstClass</td>\n",
       "      <td>2</td>\n",
       "      <td>4</td>\n",
       "      <td>2</td>\n",
       "      <td>ZZ</td>\n",
       "      <td>2887</td>\n",
       "      <td>HYD</td>\n",
       "      <td>BLR</td>\n",
       "      <td>5/11/2024</td>\n",
       "      <td>5/11/2024 0:30</td>\n",
       "      <td>5/11/2024 13:36</td>\n",
       "      <td>5/10/2024 19:00</td>\n",
       "      <td>5/11/2024 8:06</td>\n",
       "    </tr>\n",
       "    <tr>\n",
       "      <th>32924</th>\n",
       "      <td>SQMP46</td>\n",
       "      <td>2/1/2024 8:26</td>\n",
       "      <td>ZZ20240513BLRAMD4647</td>\n",
       "      <td>GN</td>\n",
       "      <td>FirstClass</td>\n",
       "      <td>3</td>\n",
       "      <td>4</td>\n",
       "      <td>2</td>\n",
       "      <td>ZZ</td>\n",
       "      <td>4647</td>\n",
       "      <td>BLR</td>\n",
       "      <td>AMD</td>\n",
       "      <td>5/13/2024</td>\n",
       "      <td>5/13/2024 3:34</td>\n",
       "      <td>5/13/2024 6:37</td>\n",
       "      <td>5/12/2024 22:04</td>\n",
       "      <td>5/13/2024 1:07</td>\n",
       "    </tr>\n",
       "    <tr>\n",
       "      <th>32925</th>\n",
       "      <td>SQMP46</td>\n",
       "      <td>2/1/2024 8:26</td>\n",
       "      <td>ZZ20240514AMDBLR3782</td>\n",
       "      <td>GN</td>\n",
       "      <td>FirstClass</td>\n",
       "      <td>4</td>\n",
       "      <td>4</td>\n",
       "      <td>2</td>\n",
       "      <td>ZZ</td>\n",
       "      <td>3782</td>\n",
       "      <td>AMD</td>\n",
       "      <td>BLR</td>\n",
       "      <td>5/14/2024</td>\n",
       "      <td>5/14/2024 15:57</td>\n",
       "      <td>5/15/2024 7:24</td>\n",
       "      <td>5/14/2024 10:27</td>\n",
       "      <td>5/15/2024 1:54</td>\n",
       "    </tr>\n",
       "  </tbody>\n",
       "</table>\n",
       "</div>"
      ],
      "text/plain": [
       "       RECLOC   CREATION_DTZ               DEP_KEY ACTION_CD      COS_CD  \\\n",
       "32909  GQDX67  2/1/2024 8:26  ZZ20240510IDRHYD2792        XX  FirstClass   \n",
       "32926  GQDX67  2/1/2024 8:26  ZZ20240513HYDIDR4122        GN  FirstClass   \n",
       "32908  SQMP46  2/1/2024 8:26  ZZ20240510IDRHYD2792        XX  FirstClass   \n",
       "32923  SQMP46  2/1/2024 8:26  ZZ20240511HYDBLR2887        HK  FirstClass   \n",
       "32924  SQMP46  2/1/2024 8:26  ZZ20240513BLRAMD4647        GN  FirstClass   \n",
       "32925  SQMP46  2/1/2024 8:26  ZZ20240514AMDBLR3782        GN  FirstClass   \n",
       "\n",
       "       SEG_SEQ  SEG_TOTAL  PAX_CNT CARRIER_CD  FLT_NUM ORIG_CD DEST_CD  \\\n",
       "32909        1          2        3         ZZ     2792     IDR     HYD   \n",
       "32926        2          2        3         ZZ     4122     HYD     IDR   \n",
       "32908        1          4        2         ZZ     2792     IDR     HYD   \n",
       "32923        2          4        2         ZZ     2887     HYD     BLR   \n",
       "32924        3          4        2         ZZ     4647     BLR     AMD   \n",
       "32925        4          4        2         ZZ     3782     AMD     BLR   \n",
       "\n",
       "          DEP_DT         DEP_DTML         ARR_DTML         DEP_DTMZ  \\\n",
       "32909  5/10/2024  5/10/2024 12:22  5/10/2024 14:12   5/10/2024 6:52   \n",
       "32926  5/13/2024   5/13/2024 6:08  5/13/2024 10:32   5/13/2024 0:38   \n",
       "32908  5/10/2024  5/10/2024 12:22  5/10/2024 14:12   5/10/2024 6:52   \n",
       "32923  5/11/2024   5/11/2024 0:30  5/11/2024 13:36  5/10/2024 19:00   \n",
       "32924  5/13/2024   5/13/2024 3:34   5/13/2024 6:37  5/12/2024 22:04   \n",
       "32925  5/14/2024  5/14/2024 15:57   5/15/2024 7:24  5/14/2024 10:27   \n",
       "\n",
       "             ARR_DTMZ  \n",
       "32909  5/10/2024 8:42  \n",
       "32926  5/13/2024 5:02  \n",
       "32908  5/10/2024 8:42  \n",
       "32923  5/11/2024 8:06  \n",
       "32924  5/13/2024 1:07  \n",
       "32925  5/15/2024 1:54  "
      ]
     },
     "execution_count": 259,
     "metadata": {},
     "output_type": "execute_result"
    }
   ],
   "source": [
    "import pandas as pd\n",
    "\n",
    "df = pd.read_csv(r\"C:\\Users\\Vamsi Krishna\\codes\\QC\\New folder\\2\\test_pnr.csv\")\n",
    "\n",
    "\n",
    "pnr_result_df = pd.DataFrame()\n",
    "\n",
    "for desired_dep_key in final_recloc_list:\n",
    "    result_row = df[df['RECLOC'].str.contains(desired_dep_key, case=False, na=False)]\n",
    "    \n",
    "    if not result_row.empty:\n",
    "        pnr_result_df = pd.concat([pnr_result_df, result_row])\n",
    "\n",
    "pnr_result_df['RECLOC'] = pnr_result_df['RECLOC'].astype(str).str.rstrip('.0')\n",
    "\n",
    "pnr_result_df.to_csv(r\"C:\\Users\\Vamsi Krishna\\codes\\QC\\New folder\\2\\FC_Sorted_PNR.csv\", index=False)\n",
    "pnr_result_df\n"
   ]
  },
  {
   "cell_type": "markdown",
   "metadata": {},
   "source": [
    "Business class"
   ]
  },
  {
   "cell_type": "code",
   "execution_count": 260,
   "metadata": {},
   "outputs": [
    {
     "data": {
      "text/plain": [
       "[4, 4, 1, 1]"
      ]
     },
     "execution_count": 260,
     "metadata": {},
     "output_type": "execute_result"
    }
   ],
   "source": [
    "merged_sorted_passengers = sorted_passengers.groupby('RECLOC')['Total_score'].sum().reset_index()\n",
    "# merged_sorted_passengers\n",
    "merged_table = pd.merge(merged_sorted_passengers, filtered_f_copy, on='RECLOC', how='outer')\n",
    "merged_table['final_score'] = merged_table['Total_score'] + merged_table['SUM_SEG_PAX']\n",
    "merged_table=merged_table.drop(['Total_score', 'SEG_TOTAL_MULTIPLIED', 'PAX_CNT_MULTIPLIED' ,'SUM_SEG_PAX'], axis=1)\n",
    "merge_sorted_table = merged_table.sort_values('final_score', ascending=False)\n",
    "\n",
    "economy_final_table= merge_sorted_table[merge_sorted_table[\"COS_CD\"]== 'EconomyClass']\n",
    "premium_economy_final_table= merge_sorted_table[merge_sorted_table[\"COS_CD\"]== 'PremiumEconomyClass']\n",
    "business_final_table= merge_sorted_table[merge_sorted_table[\"COS_CD\"]== 'BusinessClass']\n",
    "first_final_table= merge_sorted_table[merge_sorted_table[\"COS_CD\"]== 'FirstClass']\n",
    "# economy_final_table\n",
    "# premium_economy_final_table\n",
    "business_final_table\n",
    "#first_final_table\n",
    "# merge_sorted_table\n",
    "\n",
    "final_recloc_list = business_final_table['RECLOC'].tolist()\n",
    "final_pax_cnt=business_final_table['PAX_CNT'].tolist()\n",
    "final_seg_seq_cnt=business_final_table['SEG_SEQ'].tolist()\n",
    "final_score=business_final_table['final_score'].tolist()\n",
    "\n",
    "\n",
    "\n",
    "len(final_pax_cnt)\n",
    "\n",
    "\n",
    "a=(x.BC_AvailableInventory).tolist()\n",
    "ac=(x.Cost).tolist()\n",
    "pc=final_score\n",
    "p=final_pax_cnt\n",
    "\n",
    "m=len(a)\n",
    "n=len(p)\n",
    "\n",
    "p\n",
    "\n"
   ]
  },
  {
   "cell_type": "code",
   "execution_count": 261,
   "metadata": {},
   "outputs": [
    {
     "data": {
      "text/plain": [
       "[['pas_0_in_fli_0', 'pas_0_in_fli_1'],\n",
       " ['pas_1_in_fli_0', 'pas_1_in_fli_1'],\n",
       " ['pas_2_in_fli_0', 'pas_2_in_fli_1'],\n",
       " ['pas_3_in_fli_0', 'pas_3_in_fli_1']]"
      ]
     },
     "execution_count": 261,
     "metadata": {},
     "output_type": "execute_result"
    }
   ],
   "source": [
    "pas_in_fli = [[f'pas_{i}_in_fli_{j}' for j in range(m)] for i in range(n)]\n",
    "pas_in_fli"
   ]
  },
  {
   "cell_type": "code",
   "execution_count": 262,
   "metadata": {},
   "outputs": [
    {
     "data": {
      "text/plain": [
       "[-8710.0, -8700.0, -4610.0, -4600.0, -2560.0, -2550.0, -460.0, -450.0]"
      ]
     },
     "execution_count": 262,
     "metadata": {},
     "output_type": "execute_result"
    }
   ],
   "source": [
    "coe=[]\n",
    "\n",
    "for k in range(m*n):\n",
    "    coe.append(-(pc[k//m]+ac[k%m]))\n",
    "\n",
    "coe"
   ]
  },
  {
   "cell_type": "code",
   "execution_count": 263,
   "metadata": {},
   "outputs": [
    {
     "data": {
      "text/plain": [
       "{'pas_0_in_fli_0': -8710.0,\n",
       " 'pas_0_in_fli_1': -8700.0,\n",
       " 'pas_1_in_fli_0': -4610.0,\n",
       " 'pas_1_in_fli_1': -4600.0,\n",
       " 'pas_2_in_fli_0': -2560.0,\n",
       " 'pas_2_in_fli_1': -2550.0,\n",
       " 'pas_3_in_fli_0': -460.0,\n",
       " 'pas_3_in_fli_1': -450.0}"
      ]
     },
     "execution_count": 263,
     "metadata": {},
     "output_type": "execute_result"
    }
   ],
   "source": [
    "list=[]\n",
    "for k in pas_in_fli:\n",
    "    for n in k:\n",
    "        list.append(n)\n",
    "\n",
    "linear=dict(zip(list,coe))\n",
    "linear"
   ]
  },
  {
   "cell_type": "code",
   "execution_count": 264,
   "metadata": {},
   "outputs": [],
   "source": [
    "from dimod import BinaryQuadraticModel\n",
    "import hybrid\n",
    "from hybrid import SimulatedAnnealingProblemSampler,TabuProblemSampler,min_sample,State\n",
    "\n",
    "bqm = BinaryQuadraticModel(linear,{},\"BINARY\")\n",
    "lmbd = 10000"
   ]
  },
  {
   "cell_type": "code",
   "execution_count": 265,
   "metadata": {},
   "outputs": [
    {
     "name": "stdout",
     "output_type": "stream",
     "text": [
      "[('pas_0_in_fli_0', 1), ('pas_0_in_fli_1', 1)]\n",
      "[('pas_1_in_fli_0', 1), ('pas_1_in_fli_1', 1)]\n",
      "[('pas_2_in_fli_0', 1), ('pas_2_in_fli_1', 1)]\n",
      "[('pas_3_in_fli_0', 1), ('pas_3_in_fli_1', 1)]\n"
     ]
    }
   ],
   "source": [
    "for i in range(len(p)):\n",
    "    cons1=[]\n",
    "    for j in range(len(ac)):\n",
    "        cons1.append((f'pas_{i}_in_fli_{j}', 1))\n",
    "    print(cons1)\n",
    "    bqm.add_linear_equality_constraint(cons1, lmbd*10, -1)\n",
    "\n",
    "# for each passenger get 1 flight"
   ]
  },
  {
   "cell_type": "code",
   "execution_count": 266,
   "metadata": {},
   "outputs": [
    {
     "name": "stdout",
     "output_type": "stream",
     "text": [
      "[('pas_0_in_fli_0', 4), ('pas_1_in_fli_0', 4), ('pas_2_in_fli_0', 1), ('pas_3_in_fli_0', 1)] 42\n",
      "[('pas_0_in_fli_1', 4), ('pas_1_in_fli_1', 4), ('pas_2_in_fli_1', 1), ('pas_3_in_fli_1', 1)] 11\n"
     ]
    },
    {
     "name": "stderr",
     "output_type": "stream",
     "text": [
      "c:\\Users\\Vamsi Krishna\\anaconda3\\envs\\qc\\lib\\site-packages\\dimod\\binary\\binary_quadratic_model.py:770: UserWarning: Did not add constraint s. This constraint is feasible with any value for state variables.\n",
      "  warnings.warn(\n"
     ]
    }
   ],
   "source": [
    "for j in range(len(a)):\n",
    "    cons2=[]\n",
    "    \n",
    "    for i in range(len(p)):\n",
    "        cons2.append((f'pas_{i}_in_fli_{j}',p[i]))\n",
    "    print(cons2,a[j])   \n",
    "    bqm.add_linear_inequality_constraint(terms=cons2, lagrange_multiplier=lmbd*10, constant=0, label='s', lb=0, ub=a[j])\n",
    "    "
   ]
  },
  {
   "cell_type": "code",
   "execution_count": 267,
   "metadata": {},
   "outputs": [],
   "source": [
    "sampler = SimulatedAnnealingProblemSampler()\n",
    "state = State.from_sample(min_sample(bqm), bqm)\n",
    "new_state = sampler.run(state).result()\n",
    "solute=new_state.samples.first.sample, new_state.samples.first.energy"
   ]
  },
  {
   "cell_type": "code",
   "execution_count": 268,
   "metadata": {},
   "outputs": [
    {
     "data": {
      "text/plain": [
       "{'pas_0_in_fli_0': 1,\n",
       " 'pas_0_in_fli_1': 0,\n",
       " 'pas_1_in_fli_0': 1,\n",
       " 'pas_1_in_fli_1': 0,\n",
       " 'pas_2_in_fli_0': 1,\n",
       " 'pas_2_in_fli_1': 0,\n",
       " 'pas_3_in_fli_0': 0,\n",
       " 'pas_3_in_fli_1': 1}"
      ]
     },
     "execution_count": 268,
     "metadata": {},
     "output_type": "execute_result"
    }
   ],
   "source": [
    "solute[0]"
   ]
  },
  {
   "cell_type": "code",
   "execution_count": 269,
   "metadata": {},
   "outputs": [
    {
     "data": {
      "text/plain": [
       "4"
      ]
     },
     "execution_count": 269,
     "metadata": {},
     "output_type": "execute_result"
    }
   ],
   "source": [
    "no_pas=0\n",
    "\n",
    "for i in range(len(p)):\n",
    "    for j in range(len(a)):\n",
    "     if solute[0][f'pas_{i}_in_fli_{j}']==1:\n",
    "        no_pas=no_pas+1\n",
    "no_pas"
   ]
  },
  {
   "cell_type": "code",
   "execution_count": 270,
   "metadata": {},
   "outputs": [
    {
     "name": "stdout",
     "output_type": "stream",
     "text": [
      "[42, 11]\n"
     ]
    },
    {
     "data": {
      "text/plain": [
       "[9, 1]"
      ]
     },
     "execution_count": 270,
     "metadata": {},
     "output_type": "execute_result"
    }
   ],
   "source": [
    "fli_cap=[]\n",
    "print(a)\n",
    "for j in range(len(a)):\n",
    "    count=0\n",
    "    for i in range(len(pc)):\n",
    "        if solute[0][f'pas_{i}_in_fli_{j}']==1:\n",
    "            count=count+p[i]\n",
    "    fli_cap.append(count) \n",
    "\n",
    "fli_cap"
   ]
  },
  {
   "cell_type": "code",
   "execution_count": 271,
   "metadata": {},
   "outputs": [],
   "source": [
    "for i in range(len(p)):\n",
    " sum=0\n",
    " for j in range(len(a)):\n",
    "  sum=sum+solute[0][f'pas_{i}_in_fli_{j}']\n",
    "  if sum >1 :\n",
    "    solute[0][f'pas_{i}_in_fli_{j}']=0\n",
    "\n"
   ]
  },
  {
   "cell_type": "code",
   "execution_count": 272,
   "metadata": {},
   "outputs": [],
   "source": [
    "for j in range(len(a)):\n",
    " sum=0\n",
    " for i in range(len(p)):\n",
    "  sum=sum+solute[0][f'pas_{i}_in_fli_{j}']\n",
    "  if sum >a[j] :\n",
    "    solute[0][f'pas_{i}_in_fli_{j}']=0"
   ]
  },
  {
   "cell_type": "code",
   "execution_count": 273,
   "metadata": {},
   "outputs": [
    {
     "data": {
      "text/plain": [
       "4"
      ]
     },
     "execution_count": 273,
     "metadata": {},
     "output_type": "execute_result"
    }
   ],
   "source": [
    "no_pas=0\n",
    "\n",
    "for i in range(len(p)):\n",
    "    for j in range(len(a)):\n",
    "     if solute[0][f'pas_{i}_in_fli_{j}']==1:\n",
    "        no_pas=no_pas+1\n",
    "no_pas"
   ]
  },
  {
   "cell_type": "code",
   "execution_count": 274,
   "metadata": {},
   "outputs": [
    {
     "name": "stdout",
     "output_type": "stream",
     "text": [
      "[42, 11]\n"
     ]
    },
    {
     "data": {
      "text/plain": [
       "[9, 1]"
      ]
     },
     "execution_count": 274,
     "metadata": {},
     "output_type": "execute_result"
    }
   ],
   "source": [
    "fli_cap=[]\n",
    "print(a)\n",
    "for j in range(len(a)):\n",
    "    count=0\n",
    "    for i in range(len(pc)):\n",
    "        if solute[0][f'pas_{i}_in_fli_{j}']==1:\n",
    "            count=count+p[i]\n",
    "    fli_cap.append(count) \n",
    "\n",
    "fli_cap"
   ]
  },
  {
   "cell_type": "code",
   "execution_count": 275,
   "metadata": {},
   "outputs": [
    {
     "data": {
      "text/plain": [
       "{'pas_0_in_fli_0': 1,\n",
       " 'pas_0_in_fli_1': 0,\n",
       " 'pas_1_in_fli_0': 1,\n",
       " 'pas_1_in_fli_1': 0,\n",
       " 'pas_2_in_fli_0': 1,\n",
       " 'pas_2_in_fli_1': 0,\n",
       " 'pas_3_in_fli_0': 0,\n",
       " 'pas_3_in_fli_1': 1}"
      ]
     },
     "execution_count": 275,
     "metadata": {},
     "output_type": "execute_result"
    }
   ],
   "source": [
    "bc1=solute[0]\n",
    "bc1"
   ]
  },
  {
   "cell_type": "code",
   "execution_count": 276,
   "metadata": {},
   "outputs": [
    {
     "name": "stdout",
     "output_type": "stream",
     "text": [
      "[42, 11]\n"
     ]
    },
    {
     "data": {
      "text/plain": [
       "[33, 10]"
      ]
     },
     "execution_count": 276,
     "metadata": {},
     "output_type": "execute_result"
    }
   ],
   "source": [
    "bc_total_available_updated = []\n",
    "for i in range(len(a)):\n",
    "    bc_total_available_updated.append(a[i]-fli_cap[i])\n",
    "print(a)\n",
    "bc_total_available_updated"
   ]
  },
  {
   "cell_type": "code",
   "execution_count": 277,
   "metadata": {},
   "outputs": [
    {
     "name": "stdout",
     "output_type": "stream",
     "text": [
      "[54, 11]\n"
     ]
    },
    {
     "data": {
      "text/plain": [
       "[63, 12]"
      ]
     },
     "execution_count": 277,
     "metadata": {},
     "output_type": "execute_result"
    }
   ],
   "source": [
    "bc_og_booked_inv = x.BC_BookedInventory.tolist()\n",
    "bc_updated_booked_inv = []\n",
    "for i in range(len(bc_og_booked_inv)):\n",
    "    bc_updated_booked_inv.append(bc_og_booked_inv[i]+fli_cap[i])\n",
    "print(bc_og_booked_inv)\n",
    "bc_updated_booked_inv"
   ]
  },
  {
   "cell_type": "code",
   "execution_count": 278,
   "metadata": {},
   "outputs": [
    {
     "data": {
      "text/plain": [
       "['ZZ20240511IDRHYD3455.0', 'ZZ20240512IDRHYD2792.0']"
      ]
     },
     "execution_count": 278,
     "metadata": {},
     "output_type": "execute_result"
    }
   ],
   "source": [
    "depkey = x.Dep_Key.tolist()\n",
    "depkey"
   ]
  },
  {
   "cell_type": "code",
   "execution_count": 279,
   "metadata": {},
   "outputs": [
    {
     "name": "stdout",
     "output_type": "stream",
     "text": [
      "         InventoryId      ScheduleId CarrierCode               Dep_Key  \\\n",
      "0     INV-ZZ-2774494  SCH-ZZ-3400127          ZZ  ZZ20240505AMDHYD2223   \n",
      "1     INV-ZZ-8029879  SCH-ZZ-3400127          ZZ  ZZ20240506AMDHYD2223   \n",
      "2     INV-ZZ-6852033  SCH-ZZ-3400127          ZZ  ZZ20240507AMDHYD2223   \n",
      "3     INV-ZZ-7065859  SCH-ZZ-3400127          ZZ  ZZ20240508AMDHYD2223   \n",
      "4     INV-ZZ-1595392  SCH-ZZ-3400127          ZZ  ZZ20240512AMDHYD2223   \n",
      "...              ...             ...         ...                   ...   \n",
      "2007  INV-ZZ-6129434  SCH-ZZ-9762124          ZZ   ZZ20240617GAUPNQ344   \n",
      "2008  INV-ZZ-2755720  SCH-ZZ-9762124          ZZ   ZZ20240620GAUPNQ344   \n",
      "2009  INV-ZZ-2707415  SCH-ZZ-9762124          ZZ   ZZ20240621GAUPNQ344   \n",
      "2010  INV-ZZ-1293533  SCH-ZZ-9762124          ZZ   ZZ20240623GAUPNQ344   \n",
      "2011  INV-ZZ-1560576  SCH-ZZ-9762124          ZZ   ZZ20240624GAUPNQ344   \n",
      "\n",
      "      FlightNumber AircraftType DepartureDate    DepartureDateTime  \\\n",
      "0           2223.0   Boeing 777    05/05/2024  2024-05-05 10:52:00   \n",
      "1           2223.0   Boeing 777    05/06/2024  2024-05-06 10:52:00   \n",
      "2           2223.0   Boeing 777    05/07/2024  2024-05-07 10:52:00   \n",
      "3           2223.0   Boeing 777    05/08/2024  2024-05-08 10:52:00   \n",
      "4           2223.0   Boeing 777    05/12/2024  2024-05-12 10:52:00   \n",
      "...            ...          ...           ...                  ...   \n",
      "2007        3440.0   Boeing 757    06/17/2024  2024-06-17 15:57:00   \n",
      "2008        3440.0   Boeing 757    06/20/2024  2024-06-20 15:57:00   \n",
      "2009        3440.0   Boeing 757    06/21/2024  2024-06-21 15:57:00   \n",
      "2010        3440.0   Boeing 757    06/23/2024  2024-06-23 15:57:00   \n",
      "2011        3440.0   Boeing 757    06/24/2024  2024-06-24 15:57:00   \n",
      "\n",
      "          ArrivalDateTime DepartureAirport  ... PC_Oversold  \\\n",
      "0     2024-05-05 19:30:00              AMD  ...          49   \n",
      "1     2024-05-06 19:30:00              AMD  ...          47   \n",
      "2     2024-05-07 19:30:00              AMD  ...          44   \n",
      "3     2024-05-08 19:30:00              AMD  ...          51   \n",
      "4     2024-05-12 19:30:00              AMD  ...          48   \n",
      "...                   ...              ...  ...         ...   \n",
      "2007  2024-06-18 05:13:00              GAU  ...          29   \n",
      "2008  2024-06-21 05:13:00              GAU  ...          29   \n",
      "2009  2024-06-22 05:13:00              GAU  ...          31   \n",
      "2010  2024-06-24 05:13:00              GAU  ...          29   \n",
      "2011  2024-06-25 05:13:00              GAU  ...          34   \n",
      "\n",
      "      PC_AvailableInventory  EC_TotalInventory  EC_BookedInventory  \\\n",
      "0                        74                199                 102   \n",
      "1                        72                202                 106   \n",
      "2                        61                197                 114   \n",
      "3                        66                192                 103   \n",
      "4                        66                197                 107   \n",
      "...                     ...                ...                 ...   \n",
      "2007                     37                 96                  45   \n",
      "2008                     39                 93                  43   \n",
      "2009                     40                 93                  40   \n",
      "2010                     41                 98                  43   \n",
      "2011                     42                 99                  40   \n",
      "\n",
      "      EC_Oversold  EC_AvailableInventory               FC_CD  \\\n",
      "0              68                     97  {'F': 25, 'P': 17}   \n",
      "1              64                     96  {'F': 25, 'P': 17}   \n",
      "2              56                     83  {'F': 25, 'P': 17}   \n",
      "3              67                     89  {'F': 25, 'P': 17}   \n",
      "4              63                     90  {'F': 25, 'P': 17}   \n",
      "...           ...                    ...                 ...   \n",
      "2007           38                     51   {'F': 12, 'P': 8}   \n",
      "2008           40                     50   {'F': 12, 'P': 8}   \n",
      "2009           43                     53   {'F': 12, 'P': 8}   \n",
      "2010           40                     55   {'F': 12, 'P': 8}   \n",
      "2011           43                     59   {'F': 12, 'P': 8}   \n",
      "\n",
      "                            BC_CD  \\\n",
      "0     {'C': 34, 'J': 26, 'Z': 26}   \n",
      "1     {'C': 34, 'J': 26, 'Z': 26}   \n",
      "2     {'C': 34, 'J': 26, 'Z': 26}   \n",
      "3     {'C': 34, 'J': 26, 'Z': 26}   \n",
      "4     {'C': 34, 'J': 26, 'Z': 26}   \n",
      "...                           ...   \n",
      "2007  {'C': 16, 'J': 12, 'Z': 12}   \n",
      "2008  {'C': 16, 'J': 12, 'Z': 12}   \n",
      "2009  {'C': 16, 'J': 12, 'Z': 12}   \n",
      "2010  {'C': 16, 'J': 12, 'Z': 12}   \n",
      "2011  {'C': 16, 'J': 12, 'Z': 12}   \n",
      "\n",
      "                                                  PC_CD  \\\n",
      "0     {'Q': 38, 'R': 25, 'S': 13, 'T': 13, 'H': 25, ...   \n",
      "1     {'Q': 38, 'R': 25, 'S': 13, 'T': 13, 'H': 25, ...   \n",
      "2     {'Q': 38, 'R': 25, 'S': 13, 'T': 13, 'H': 25, ...   \n",
      "3     {'Q': 38, 'R': 25, 'S': 13, 'T': 13, 'H': 25, ...   \n",
      "4     {'Q': 38, 'R': 25, 'S': 13, 'T': 13, 'H': 25, ...   \n",
      "...                                                 ...   \n",
      "2007  {'Q': 19, 'R': 12, 'S': 6, 'T': 6, 'H': 12, 'M...   \n",
      "2008  {'Q': 19, 'R': 12, 'S': 6, 'T': 6, 'H': 12, 'M...   \n",
      "2009  {'Q': 19, 'R': 12, 'S': 6, 'T': 6, 'H': 12, 'M...   \n",
      "2010  {'Q': 19, 'R': 12, 'S': 6, 'T': 6, 'H': 12, 'M...   \n",
      "2011  {'Q': 19, 'R': 12, 'S': 6, 'T': 6, 'H': 12, 'M...   \n",
      "\n",
      "                                                  EC_CD  \n",
      "0     {'Y': 13, 'A': 13, 'B': 6, 'D': 6, 'E': 6, 'G'...  \n",
      "1     {'Y': 13, 'A': 13, 'B': 6, 'D': 6, 'E': 6, 'G'...  \n",
      "2     {'Y': 13, 'A': 13, 'B': 6, 'D': 6, 'E': 6, 'G'...  \n",
      "3     {'Y': 13, 'A': 13, 'B': 6, 'D': 6, 'E': 6, 'G'...  \n",
      "4     {'Y': 13, 'A': 13, 'B': 6, 'D': 6, 'E': 6, 'G'...  \n",
      "...                                                 ...  \n",
      "2007  {'Y': 6, 'A': 6, 'B': 3, 'D': 3, 'E': 3, 'G': ...  \n",
      "2008  {'Y': 6, 'A': 6, 'B': 3, 'D': 3, 'E': 3, 'G': ...  \n",
      "2009  {'Y': 6, 'A': 6, 'B': 3, 'D': 3, 'E': 3, 'G': ...  \n",
      "2010  {'Y': 6, 'A': 6, 'B': 3, 'D': 3, 'E': 3, 'G': ...  \n",
      "2011  {'Y': 6, 'A': 6, 'B': 3, 'D': 3, 'E': 3, 'G': ...  \n",
      "\n",
      "[2012 rows x 40 columns]\n",
      "Dep_Key 'ZZ20240511IDRHYD3455.0' not found in the DataFrame.\n",
      "Dep_Key 'ZZ20240512IDRHYD2792.0' not found in the DataFrame.\n"
     ]
    }
   ],
   "source": [
    "import pandas as pd\n",
    "\n",
    "file_path = r\"C:\\Users\\Vamsi Krishna\\codes\\QC\\New folder\\2\\test_inv.csv\"\n",
    "df = pd.read_csv(file_path)\n",
    "print(df)\n",
    "\n",
    "for i in range(len(a)):\n",
    "    dep_key_to_update = depkey[i]\n",
    "    bc_new_available_inventory = bc_total_available_updated[i]\n",
    "    bc_new_booked_inventory = bc_updated_booked_inv[i]\n",
    "\n",
    "    row_index = df.index[df['Dep_Key'] == dep_key_to_update].tolist()\n",
    "\n",
    "    if row_index:\n",
    "        row_index = row_index[0] \n",
    "        \n",
    "        df.at[row_index, 'BC_AvailableInventory'] = bc_new_available_inventory\n",
    "        df.at[row_index, 'BC_BookedInventory'] = bc_new_booked_inventory\n",
    "\n",
    "        df.to_csv(file_path, index=False)\n",
    "        print(f\"Values for Dep_Key '{dep_key_to_update}' updated successfully.\")\n",
    "    else:\n",
    "        print(f\"Dep_Key '{dep_key_to_update}' not found in the DataFrame.\")"
   ]
  },
  {
   "cell_type": "code",
   "execution_count": 280,
   "metadata": {},
   "outputs": [
    {
     "data": {
      "text/html": [
       "<div>\n",
       "<style scoped>\n",
       "    .dataframe tbody tr th:only-of-type {\n",
       "        vertical-align: middle;\n",
       "    }\n",
       "\n",
       "    .dataframe tbody tr th {\n",
       "        vertical-align: top;\n",
       "    }\n",
       "\n",
       "    .dataframe thead th {\n",
       "        text-align: right;\n",
       "    }\n",
       "</style>\n",
       "<table border=\"1\" class=\"dataframe\">\n",
       "  <thead>\n",
       "    <tr style=\"text-align: right;\">\n",
       "      <th></th>\n",
       "      <th>RECLOC</th>\n",
       "      <th>CREATION_DTZ</th>\n",
       "      <th>DEP_KEY</th>\n",
       "      <th>ACTION_CD</th>\n",
       "      <th>COS_CD</th>\n",
       "      <th>SEG_SEQ</th>\n",
       "      <th>SEG_TOTAL</th>\n",
       "      <th>PAX_CNT</th>\n",
       "      <th>CARRIER_CD</th>\n",
       "      <th>FLT_NUM</th>\n",
       "      <th>ORIG_CD</th>\n",
       "      <th>DEST_CD</th>\n",
       "      <th>DEP_DT</th>\n",
       "      <th>DEP_DTML</th>\n",
       "      <th>ARR_DTML</th>\n",
       "      <th>DEP_DTMZ</th>\n",
       "      <th>ARR_DTMZ</th>\n",
       "    </tr>\n",
       "  </thead>\n",
       "  <tbody>\n",
       "    <tr>\n",
       "      <th>32912</th>\n",
       "      <td>PSGX74</td>\n",
       "      <td>2/1/2024 8:26</td>\n",
       "      <td>ZZ20240510IDRHYD2792</td>\n",
       "      <td>XX</td>\n",
       "      <td>BusinessClass</td>\n",
       "      <td>1</td>\n",
       "      <td>4</td>\n",
       "      <td>4</td>\n",
       "      <td>ZZ</td>\n",
       "      <td>2792</td>\n",
       "      <td>IDR</td>\n",
       "      <td>HYD</td>\n",
       "      <td>5/10/2024</td>\n",
       "      <td>5/10/2024 12:22</td>\n",
       "      <td>5/10/2024 14:12</td>\n",
       "      <td>5/10/2024 6:52</td>\n",
       "      <td>5/10/2024 8:42</td>\n",
       "    </tr>\n",
       "    <tr>\n",
       "      <th>32929</th>\n",
       "      <td>PSGX74</td>\n",
       "      <td>2/1/2024 8:26</td>\n",
       "      <td>ZZ20240511HYDCCU3772</td>\n",
       "      <td>HK</td>\n",
       "      <td>BusinessClass</td>\n",
       "      <td>2</td>\n",
       "      <td>4</td>\n",
       "      <td>4</td>\n",
       "      <td>ZZ</td>\n",
       "      <td>3772</td>\n",
       "      <td>HYD</td>\n",
       "      <td>CCU</td>\n",
       "      <td>5/11/2024</td>\n",
       "      <td>5/11/2024 5:58</td>\n",
       "      <td>5/12/2024 3:23</td>\n",
       "      <td>5/11/2024 0:28</td>\n",
       "      <td>5/11/2024 21:53</td>\n",
       "    </tr>\n",
       "    <tr>\n",
       "      <th>32910</th>\n",
       "      <td>ERZL7</td>\n",
       "      <td>2/1/2024 8:26</td>\n",
       "      <td>ZZ20240510IDRHYD2792</td>\n",
       "      <td>XX</td>\n",
       "      <td>BusinessClass</td>\n",
       "      <td>1</td>\n",
       "      <td>3</td>\n",
       "      <td>4</td>\n",
       "      <td>ZZ</td>\n",
       "      <td>2792</td>\n",
       "      <td>IDR</td>\n",
       "      <td>HYD</td>\n",
       "      <td>5/10/2024</td>\n",
       "      <td>5/10/2024 12:22</td>\n",
       "      <td>5/10/2024 14:12</td>\n",
       "      <td>5/10/2024 6:52</td>\n",
       "      <td>5/10/2024 8:42</td>\n",
       "    </tr>\n",
       "    <tr>\n",
       "      <th>32927</th>\n",
       "      <td>ERZL7</td>\n",
       "      <td>2/1/2024 8:26</td>\n",
       "      <td>ZZ20240511HYDBLR2887</td>\n",
       "      <td>HL</td>\n",
       "      <td>BusinessClass</td>\n",
       "      <td>2</td>\n",
       "      <td>3</td>\n",
       "      <td>4</td>\n",
       "      <td>ZZ</td>\n",
       "      <td>2887</td>\n",
       "      <td>HYD</td>\n",
       "      <td>BLR</td>\n",
       "      <td>5/11/2024</td>\n",
       "      <td>5/11/2024 0:30</td>\n",
       "      <td>5/11/2024 13:36</td>\n",
       "      <td>5/10/2024 19:00</td>\n",
       "      <td>5/11/2024 8:06</td>\n",
       "    </tr>\n",
       "    <tr>\n",
       "      <th>32928</th>\n",
       "      <td>ERZL7</td>\n",
       "      <td>2/1/2024 8:26</td>\n",
       "      <td>ZZ20240615BLRHYD2811</td>\n",
       "      <td>GN</td>\n",
       "      <td>BusinessClass</td>\n",
       "      <td>3</td>\n",
       "      <td>3</td>\n",
       "      <td>4</td>\n",
       "      <td>ZZ</td>\n",
       "      <td>2811</td>\n",
       "      <td>BLR</td>\n",
       "      <td>HYD</td>\n",
       "      <td>6/15/2024</td>\n",
       "      <td>6/15/2024 14:16</td>\n",
       "      <td>6/16/2024 7:15</td>\n",
       "      <td>6/15/2024 8:46</td>\n",
       "      <td>6/16/2024 1:45</td>\n",
       "    </tr>\n",
       "    <tr>\n",
       "      <th>32911</th>\n",
       "      <td>HQAO84</td>\n",
       "      <td>2/1/2024 8:26</td>\n",
       "      <td>ZZ20240510IDRHYD2792</td>\n",
       "      <td>XX</td>\n",
       "      <td>BusinessClass</td>\n",
       "      <td>1</td>\n",
       "      <td>4</td>\n",
       "      <td>1</td>\n",
       "      <td>ZZ</td>\n",
       "      <td>2792</td>\n",
       "      <td>IDR</td>\n",
       "      <td>HYD</td>\n",
       "      <td>5/10/2024</td>\n",
       "      <td>5/10/2024 12:22</td>\n",
       "      <td>5/10/2024 14:12</td>\n",
       "      <td>5/10/2024 6:52</td>\n",
       "      <td>5/10/2024 8:42</td>\n",
       "    </tr>\n",
       "    <tr>\n",
       "      <th>32913</th>\n",
       "      <td>TWFD73</td>\n",
       "      <td>2/1/2024 8:26</td>\n",
       "      <td>ZZ20240510IDRHYD2792</td>\n",
       "      <td>XX</td>\n",
       "      <td>BusinessClass</td>\n",
       "      <td>1</td>\n",
       "      <td>1</td>\n",
       "      <td>1</td>\n",
       "      <td>ZZ</td>\n",
       "      <td>2792</td>\n",
       "      <td>IDR</td>\n",
       "      <td>HYD</td>\n",
       "      <td>5/10/2024</td>\n",
       "      <td>5/10/2024 12:22</td>\n",
       "      <td>5/10/2024 14:12</td>\n",
       "      <td>5/10/2024 6:52</td>\n",
       "      <td>5/10/2024 8:42</td>\n",
       "    </tr>\n",
       "  </tbody>\n",
       "</table>\n",
       "</div>"
      ],
      "text/plain": [
       "       RECLOC   CREATION_DTZ               DEP_KEY ACTION_CD         COS_CD  \\\n",
       "32912  PSGX74  2/1/2024 8:26  ZZ20240510IDRHYD2792        XX  BusinessClass   \n",
       "32929  PSGX74  2/1/2024 8:26  ZZ20240511HYDCCU3772        HK  BusinessClass   \n",
       "32910   ERZL7  2/1/2024 8:26  ZZ20240510IDRHYD2792        XX  BusinessClass   \n",
       "32927   ERZL7  2/1/2024 8:26  ZZ20240511HYDBLR2887        HL  BusinessClass   \n",
       "32928   ERZL7  2/1/2024 8:26  ZZ20240615BLRHYD2811        GN  BusinessClass   \n",
       "32911  HQAO84  2/1/2024 8:26  ZZ20240510IDRHYD2792        XX  BusinessClass   \n",
       "32913  TWFD73  2/1/2024 8:26  ZZ20240510IDRHYD2792        XX  BusinessClass   \n",
       "\n",
       "       SEG_SEQ  SEG_TOTAL  PAX_CNT CARRIER_CD  FLT_NUM ORIG_CD DEST_CD  \\\n",
       "32912        1          4        4         ZZ     2792     IDR     HYD   \n",
       "32929        2          4        4         ZZ     3772     HYD     CCU   \n",
       "32910        1          3        4         ZZ     2792     IDR     HYD   \n",
       "32927        2          3        4         ZZ     2887     HYD     BLR   \n",
       "32928        3          3        4         ZZ     2811     BLR     HYD   \n",
       "32911        1          4        1         ZZ     2792     IDR     HYD   \n",
       "32913        1          1        1         ZZ     2792     IDR     HYD   \n",
       "\n",
       "          DEP_DT         DEP_DTML         ARR_DTML         DEP_DTMZ  \\\n",
       "32912  5/10/2024  5/10/2024 12:22  5/10/2024 14:12   5/10/2024 6:52   \n",
       "32929  5/11/2024   5/11/2024 5:58   5/12/2024 3:23   5/11/2024 0:28   \n",
       "32910  5/10/2024  5/10/2024 12:22  5/10/2024 14:12   5/10/2024 6:52   \n",
       "32927  5/11/2024   5/11/2024 0:30  5/11/2024 13:36  5/10/2024 19:00   \n",
       "32928  6/15/2024  6/15/2024 14:16   6/16/2024 7:15   6/15/2024 8:46   \n",
       "32911  5/10/2024  5/10/2024 12:22  5/10/2024 14:12   5/10/2024 6:52   \n",
       "32913  5/10/2024  5/10/2024 12:22  5/10/2024 14:12   5/10/2024 6:52   \n",
       "\n",
       "              ARR_DTMZ  \n",
       "32912   5/10/2024 8:42  \n",
       "32929  5/11/2024 21:53  \n",
       "32910   5/10/2024 8:42  \n",
       "32927   5/11/2024 8:06  \n",
       "32928   6/16/2024 1:45  \n",
       "32911   5/10/2024 8:42  \n",
       "32913   5/10/2024 8:42  "
      ]
     },
     "execution_count": 280,
     "metadata": {},
     "output_type": "execute_result"
    }
   ],
   "source": [
    "import pandas as pd\n",
    "\n",
    "df = pd.read_csv(r\"C:\\Users\\Vamsi Krishna\\codes\\QC\\New folder\\2\\test_pnr.csv\")\n",
    "\n",
    "\n",
    "pnr_result_df = pd.DataFrame()\n",
    "\n",
    "for desired_dep_key in final_recloc_list:\n",
    "    result_row = df[df['RECLOC'].str.contains(desired_dep_key, case=False, na=False)]\n",
    "    \n",
    "    if not result_row.empty:\n",
    "        pnr_result_df = pd.concat([pnr_result_df, result_row])\n",
    "\n",
    "pnr_result_df['RECLOC'] = pnr_result_df['RECLOC'].astype(str).str.rstrip('.0')\n",
    "\n",
    "pnr_result_df.to_csv(r\"C:\\Users\\Vamsi Krishna\\codes\\QC\\New folder\\2\\BC_Sorted_PNR.csv\", index=False)\n",
    "pnr_result_df\n"
   ]
  },
  {
   "cell_type": "markdown",
   "metadata": {},
   "source": [
    "ECONOMY CLASS"
   ]
  },
  {
   "cell_type": "code",
   "execution_count": 281,
   "metadata": {},
   "outputs": [
    {
     "data": {
      "text/plain": [
       "['BUHV67', 'RHDO70', 'MCNQ94', 'YXHR85']"
      ]
     },
     "execution_count": 281,
     "metadata": {},
     "output_type": "execute_result"
    }
   ],
   "source": [
    "merged_sorted_passengers = sorted_passengers.groupby('RECLOC')['Total_score'].sum().reset_index()\n",
    "# merged_sorted_passengers\n",
    "merged_table = pd.merge(merged_sorted_passengers, filtered_f_copy, on='RECLOC', how='outer')\n",
    "merged_table['final_score'] = merged_table['Total_score'] + merged_table['SUM_SEG_PAX']\n",
    "merged_table=merged_table.drop(['Total_score', 'SEG_TOTAL_MULTIPLIED', 'PAX_CNT_MULTIPLIED' ,'SUM_SEG_PAX'], axis=1)\n",
    "merge_sorted_table = merged_table.sort_values('final_score', ascending=False)\n",
    "\n",
    "economy_final_table= merge_sorted_table[merge_sorted_table[\"COS_CD\"]== 'EconomyClass']\n",
    "premium_economy_final_table= merge_sorted_table[merge_sorted_table[\"COS_CD\"]== 'PremiumEconomyClass']\n",
    "business_final_table= merge_sorted_table[merge_sorted_table[\"COS_CD\"]== 'BusinessClass']\n",
    "first_final_table= merge_sorted_table[merge_sorted_table[\"COS_CD\"]== 'FirstClass']\n",
    "\n",
    "economy_final_table\n",
    "# premium_economy_final_table\n",
    "# business_final_table\n",
    "# first_final_table\n",
    "# merge_sorted_table\n",
    "\n",
    "final_recloc_list = economy_final_table['RECLOC'].tolist()\n",
    "final_pax_cnt=economy_final_table['PAX_CNT'].tolist()\n",
    "final_seg_seq_cnt=economy_final_table['SEG_SEQ'].tolist()\n",
    "final_score=economy_final_table['final_score'].tolist()\n",
    "\n",
    "\n",
    "\n",
    "len(final_pax_cnt)\n",
    "\n",
    "\n",
    "a=(x.EC_AvailableInventory).tolist()\n",
    "ac=(x.Cost).tolist()\n",
    "pc=final_score\n",
    "p=final_pax_cnt\n",
    "\n",
    "m=len(a)\n",
    "n=len(p)\n",
    "\n",
    "\n",
    "final_recloc_list"
   ]
  },
  {
   "cell_type": "code",
   "execution_count": 282,
   "metadata": {},
   "outputs": [
    {
     "data": {
      "text/plain": [
       "[['pas_0_in_fli_0', 'pas_0_in_fli_1'],\n",
       " ['pas_1_in_fli_0', 'pas_1_in_fli_1'],\n",
       " ['pas_2_in_fli_0', 'pas_2_in_fli_1'],\n",
       " ['pas_3_in_fli_0', 'pas_3_in_fli_1']]"
      ]
     },
     "execution_count": 282,
     "metadata": {},
     "output_type": "execute_result"
    }
   ],
   "source": [
    "pas_in_fli = [[f'pas_{i}_in_fli_{j}' for j in range(m)] for i in range(n)]\n",
    "pas_in_fli"
   ]
  },
  {
   "cell_type": "code",
   "execution_count": 283,
   "metadata": {},
   "outputs": [
    {
     "data": {
      "text/plain": [
       "[-13060.0, -13050.0, -8910.0, -8900.0, -7110.0, -7100.0, -410.0, -400.0]"
      ]
     },
     "execution_count": 283,
     "metadata": {},
     "output_type": "execute_result"
    }
   ],
   "source": [
    "coe=[]\n",
    "\n",
    "for k in range(m*n):\n",
    "    coe.append(-(pc[k//m]+ac[k%m]))\n",
    "\n",
    "coe"
   ]
  },
  {
   "cell_type": "code",
   "execution_count": 284,
   "metadata": {},
   "outputs": [
    {
     "data": {
      "text/plain": [
       "{'pas_0_in_fli_0': -13060.0,\n",
       " 'pas_0_in_fli_1': -13050.0,\n",
       " 'pas_1_in_fli_0': -8910.0,\n",
       " 'pas_1_in_fli_1': -8900.0,\n",
       " 'pas_2_in_fli_0': -7110.0,\n",
       " 'pas_2_in_fli_1': -7100.0,\n",
       " 'pas_3_in_fli_0': -410.0,\n",
       " 'pas_3_in_fli_1': -400.0}"
      ]
     },
     "execution_count": 284,
     "metadata": {},
     "output_type": "execute_result"
    }
   ],
   "source": [
    "list=[]\n",
    "for k in pas_in_fli:\n",
    "    for n in k:\n",
    "        list.append(n)\n",
    "\n",
    "linear=dict(zip(list,coe))\n",
    "linear"
   ]
  },
  {
   "cell_type": "code",
   "execution_count": 285,
   "metadata": {},
   "outputs": [],
   "source": [
    "from dimod import BinaryQuadraticModel\n",
    "import hybrid\n",
    "from hybrid import SimulatedAnnealingProblemSampler,TabuProblemSampler,min_sample,State\n",
    "\n",
    "bqm = BinaryQuadraticModel(linear,{},\"BINARY\")\n",
    "lmbd = 10000"
   ]
  },
  {
   "cell_type": "code",
   "execution_count": 286,
   "metadata": {},
   "outputs": [
    {
     "name": "stdout",
     "output_type": "stream",
     "text": [
      "[('pas_0_in_fli_0', 1), ('pas_0_in_fli_1', 1)]\n",
      "[('pas_1_in_fli_0', 1), ('pas_1_in_fli_1', 1)]\n",
      "[('pas_2_in_fli_0', 1), ('pas_2_in_fli_1', 1)]\n",
      "[('pas_3_in_fli_0', 1), ('pas_3_in_fli_1', 1)]\n"
     ]
    }
   ],
   "source": [
    "for i in range(len(p)):\n",
    "    cons1=[]\n",
    "    for j in range(len(ac)):\n",
    "        cons1.append((f'pas_{i}_in_fli_{j}', 1))\n",
    "    print(cons1)\n",
    "    bqm.add_linear_equality_constraint(cons1, lmbd*10, -1)\n",
    "\n",
    "# for each passenger get 1 flight"
   ]
  },
  {
   "cell_type": "code",
   "execution_count": 287,
   "metadata": {},
   "outputs": [
    {
     "name": "stdout",
     "output_type": "stream",
     "text": [
      "[('pas_0_in_fli_0', 9), ('pas_1_in_fli_0', 6), ('pas_2_in_fli_0', 4), ('pas_3_in_fli_0', 2)] 84\n",
      "[('pas_0_in_fli_1', 9), ('pas_1_in_fli_1', 6), ('pas_2_in_fli_1', 4), ('pas_3_in_fli_1', 2)] 20\n"
     ]
    },
    {
     "name": "stderr",
     "output_type": "stream",
     "text": [
      "c:\\Users\\Vamsi Krishna\\anaconda3\\envs\\qc\\lib\\site-packages\\dimod\\binary\\binary_quadratic_model.py:770: UserWarning: Did not add constraint s. This constraint is feasible with any value for state variables.\n",
      "  warnings.warn(\n"
     ]
    }
   ],
   "source": [
    "for j in range(len(a)):\n",
    "    cons2=[]\n",
    "    \n",
    "    for i in range(len(p)):\n",
    "        cons2.append((f'pas_{i}_in_fli_{j}',p[i]))\n",
    "    print(cons2,a[j])   \n",
    "    bqm.add_linear_inequality_constraint(terms=cons2, lagrange_multiplier=lmbd*10, constant=0, label='s', lb=0, ub=a[j])\n",
    "    "
   ]
  },
  {
   "cell_type": "code",
   "execution_count": 288,
   "metadata": {},
   "outputs": [],
   "source": [
    "sampler = SimulatedAnnealingProblemSampler()\n",
    "state = State.from_sample(min_sample(bqm), bqm)\n",
    "new_state = sampler.run(state).result()\n",
    "solute=new_state.samples.first.sample, new_state.samples.first.energy"
   ]
  },
  {
   "cell_type": "code",
   "execution_count": 289,
   "metadata": {},
   "outputs": [
    {
     "data": {
      "text/plain": [
       "{'pas_0_in_fli_0': 1,\n",
       " 'pas_0_in_fli_1': 0,\n",
       " 'pas_1_in_fli_0': 0,\n",
       " 'pas_1_in_fli_1': 1,\n",
       " 'pas_2_in_fli_0': 0,\n",
       " 'pas_2_in_fli_1': 1,\n",
       " 'pas_3_in_fli_0': 1,\n",
       " 'pas_3_in_fli_1': 0,\n",
       " 'slack_s_0': 1,\n",
       " 'slack_s_1': 0,\n",
       " 'slack_s_2': 1,\n",
       " 'slack_s_3': 0,\n",
       " 'slack_s_4': 1}"
      ]
     },
     "execution_count": 289,
     "metadata": {},
     "output_type": "execute_result"
    }
   ],
   "source": [
    "solute[0]"
   ]
  },
  {
   "cell_type": "code",
   "execution_count": 290,
   "metadata": {},
   "outputs": [
    {
     "data": {
      "text/plain": [
       "4"
      ]
     },
     "execution_count": 290,
     "metadata": {},
     "output_type": "execute_result"
    }
   ],
   "source": [
    "no_pas=0\n",
    "\n",
    "for i in range(len(p)):\n",
    "    for j in range(len(a)):\n",
    "     if solute[0][f'pas_{i}_in_fli_{j}']==1:\n",
    "        no_pas=no_pas+1\n",
    "no_pas"
   ]
  },
  {
   "cell_type": "code",
   "execution_count": 291,
   "metadata": {},
   "outputs": [
    {
     "name": "stdout",
     "output_type": "stream",
     "text": [
      "[84, 20]\n"
     ]
    },
    {
     "data": {
      "text/plain": [
       "[11, 10]"
      ]
     },
     "execution_count": 291,
     "metadata": {},
     "output_type": "execute_result"
    }
   ],
   "source": [
    "fli_cap=[]\n",
    "print(a)\n",
    "for j in range(len(a)):\n",
    "    count=0\n",
    "    for i in range(len(pc)):\n",
    "        if solute[0][f'pas_{i}_in_fli_{j}']==1:\n",
    "            count=count+p[i]\n",
    "    fli_cap.append(count) \n",
    "\n",
    "fli_cap"
   ]
  },
  {
   "cell_type": "code",
   "execution_count": 292,
   "metadata": {},
   "outputs": [],
   "source": [
    "for i in range(len(p)):\n",
    " sum=0\n",
    " for j in range(len(a)):\n",
    "  sum=sum+solute[0][f'pas_{i}_in_fli_{j}']\n",
    "  if sum >1 :\n",
    "    solute[0][f'pas_{i}_in_fli_{j}']=0\n"
   ]
  },
  {
   "cell_type": "code",
   "execution_count": 293,
   "metadata": {},
   "outputs": [],
   "source": [
    "for j in range(len(a)):\n",
    " sum=0\n",
    " for i in range(len(p)):\n",
    "  sum=sum+solute[0][f'pas_{i}_in_fli_{j}']\n",
    "  if sum >a[j] :\n",
    "    solute[0][f'pas_{i}_in_fli_{j}']=0"
   ]
  },
  {
   "cell_type": "code",
   "execution_count": 294,
   "metadata": {},
   "outputs": [],
   "source": [
    "ec=solute[0]"
   ]
  },
  {
   "cell_type": "code",
   "execution_count": 295,
   "metadata": {},
   "outputs": [
    {
     "name": "stdout",
     "output_type": "stream",
     "text": [
      "[84, 20]\n"
     ]
    },
    {
     "data": {
      "text/plain": [
       "[73, 10]"
      ]
     },
     "execution_count": 295,
     "metadata": {},
     "output_type": "execute_result"
    }
   ],
   "source": [
    "ec_total_available_updated = []\n",
    "for i in range(len(a)):\n",
    "    ec_total_available_updated.append(a[i]-fli_cap[i])\n",
    "print(a)\n",
    "ec_total_available_updated"
   ]
  },
  {
   "cell_type": "code",
   "execution_count": 296,
   "metadata": {},
   "outputs": [
    {
     "name": "stdout",
     "output_type": "stream",
     "text": [
      "[107, 20]\n"
     ]
    },
    {
     "data": {
      "text/plain": [
       "[118, 30]"
      ]
     },
     "execution_count": 296,
     "metadata": {},
     "output_type": "execute_result"
    }
   ],
   "source": [
    "ec_og_booked_inv = x.EC_BookedInventory.tolist()\n",
    "ec_updated_booked_inv = []\n",
    "for i in range(len(ec_og_booked_inv)):\n",
    "    ec_updated_booked_inv.append(ec_og_booked_inv[i]+fli_cap[i])\n",
    "print(ec_og_booked_inv)\n",
    "ec_updated_booked_inv"
   ]
  },
  {
   "cell_type": "code",
   "execution_count": 297,
   "metadata": {},
   "outputs": [
    {
     "data": {
      "text/plain": [
       "['ZZ20240511IDRHYD3455.0', 'ZZ20240512IDRHYD2792.0']"
      ]
     },
     "execution_count": 297,
     "metadata": {},
     "output_type": "execute_result"
    }
   ],
   "source": [
    "depkey = x.Dep_Key.tolist()\n",
    "depkey"
   ]
  },
  {
   "cell_type": "code",
   "execution_count": 298,
   "metadata": {},
   "outputs": [
    {
     "name": "stdout",
     "output_type": "stream",
     "text": [
      "         InventoryId      ScheduleId CarrierCode               Dep_Key  \\\n",
      "0     INV-ZZ-2774494  SCH-ZZ-3400127          ZZ  ZZ20240505AMDHYD2223   \n",
      "1     INV-ZZ-8029879  SCH-ZZ-3400127          ZZ  ZZ20240506AMDHYD2223   \n",
      "2     INV-ZZ-6852033  SCH-ZZ-3400127          ZZ  ZZ20240507AMDHYD2223   \n",
      "3     INV-ZZ-7065859  SCH-ZZ-3400127          ZZ  ZZ20240508AMDHYD2223   \n",
      "4     INV-ZZ-1595392  SCH-ZZ-3400127          ZZ  ZZ20240512AMDHYD2223   \n",
      "...              ...             ...         ...                   ...   \n",
      "2007  INV-ZZ-6129434  SCH-ZZ-9762124          ZZ   ZZ20240617GAUPNQ344   \n",
      "2008  INV-ZZ-2755720  SCH-ZZ-9762124          ZZ   ZZ20240620GAUPNQ344   \n",
      "2009  INV-ZZ-2707415  SCH-ZZ-9762124          ZZ   ZZ20240621GAUPNQ344   \n",
      "2010  INV-ZZ-1293533  SCH-ZZ-9762124          ZZ   ZZ20240623GAUPNQ344   \n",
      "2011  INV-ZZ-1560576  SCH-ZZ-9762124          ZZ   ZZ20240624GAUPNQ344   \n",
      "\n",
      "      FlightNumber AircraftType DepartureDate    DepartureDateTime  \\\n",
      "0           2223.0   Boeing 777    05/05/2024  2024-05-05 10:52:00   \n",
      "1           2223.0   Boeing 777    05/06/2024  2024-05-06 10:52:00   \n",
      "2           2223.0   Boeing 777    05/07/2024  2024-05-07 10:52:00   \n",
      "3           2223.0   Boeing 777    05/08/2024  2024-05-08 10:52:00   \n",
      "4           2223.0   Boeing 777    05/12/2024  2024-05-12 10:52:00   \n",
      "...            ...          ...           ...                  ...   \n",
      "2007        3440.0   Boeing 757    06/17/2024  2024-06-17 15:57:00   \n",
      "2008        3440.0   Boeing 757    06/20/2024  2024-06-20 15:57:00   \n",
      "2009        3440.0   Boeing 757    06/21/2024  2024-06-21 15:57:00   \n",
      "2010        3440.0   Boeing 757    06/23/2024  2024-06-23 15:57:00   \n",
      "2011        3440.0   Boeing 757    06/24/2024  2024-06-24 15:57:00   \n",
      "\n",
      "          ArrivalDateTime DepartureAirport  ... PC_Oversold  \\\n",
      "0     2024-05-05 19:30:00              AMD  ...          49   \n",
      "1     2024-05-06 19:30:00              AMD  ...          47   \n",
      "2     2024-05-07 19:30:00              AMD  ...          44   \n",
      "3     2024-05-08 19:30:00              AMD  ...          51   \n",
      "4     2024-05-12 19:30:00              AMD  ...          48   \n",
      "...                   ...              ...  ...         ...   \n",
      "2007  2024-06-18 05:13:00              GAU  ...          29   \n",
      "2008  2024-06-21 05:13:00              GAU  ...          29   \n",
      "2009  2024-06-22 05:13:00              GAU  ...          31   \n",
      "2010  2024-06-24 05:13:00              GAU  ...          29   \n",
      "2011  2024-06-25 05:13:00              GAU  ...          34   \n",
      "\n",
      "      PC_AvailableInventory  EC_TotalInventory  EC_BookedInventory  \\\n",
      "0                        74                199                 102   \n",
      "1                        72                202                 106   \n",
      "2                        61                197                 114   \n",
      "3                        66                192                 103   \n",
      "4                        66                197                 107   \n",
      "...                     ...                ...                 ...   \n",
      "2007                     37                 96                  45   \n",
      "2008                     39                 93                  43   \n",
      "2009                     40                 93                  40   \n",
      "2010                     41                 98                  43   \n",
      "2011                     42                 99                  40   \n",
      "\n",
      "      EC_Oversold  EC_AvailableInventory               FC_CD  \\\n",
      "0              68                     97  {'F': 25, 'P': 17}   \n",
      "1              64                     96  {'F': 25, 'P': 17}   \n",
      "2              56                     83  {'F': 25, 'P': 17}   \n",
      "3              67                     89  {'F': 25, 'P': 17}   \n",
      "4              63                     90  {'F': 25, 'P': 17}   \n",
      "...           ...                    ...                 ...   \n",
      "2007           38                     51   {'F': 12, 'P': 8}   \n",
      "2008           40                     50   {'F': 12, 'P': 8}   \n",
      "2009           43                     53   {'F': 12, 'P': 8}   \n",
      "2010           40                     55   {'F': 12, 'P': 8}   \n",
      "2011           43                     59   {'F': 12, 'P': 8}   \n",
      "\n",
      "                            BC_CD  \\\n",
      "0     {'C': 34, 'J': 26, 'Z': 26}   \n",
      "1     {'C': 34, 'J': 26, 'Z': 26}   \n",
      "2     {'C': 34, 'J': 26, 'Z': 26}   \n",
      "3     {'C': 34, 'J': 26, 'Z': 26}   \n",
      "4     {'C': 34, 'J': 26, 'Z': 26}   \n",
      "...                           ...   \n",
      "2007  {'C': 16, 'J': 12, 'Z': 12}   \n",
      "2008  {'C': 16, 'J': 12, 'Z': 12}   \n",
      "2009  {'C': 16, 'J': 12, 'Z': 12}   \n",
      "2010  {'C': 16, 'J': 12, 'Z': 12}   \n",
      "2011  {'C': 16, 'J': 12, 'Z': 12}   \n",
      "\n",
      "                                                  PC_CD  \\\n",
      "0     {'Q': 38, 'R': 25, 'S': 13, 'T': 13, 'H': 25, ...   \n",
      "1     {'Q': 38, 'R': 25, 'S': 13, 'T': 13, 'H': 25, ...   \n",
      "2     {'Q': 38, 'R': 25, 'S': 13, 'T': 13, 'H': 25, ...   \n",
      "3     {'Q': 38, 'R': 25, 'S': 13, 'T': 13, 'H': 25, ...   \n",
      "4     {'Q': 38, 'R': 25, 'S': 13, 'T': 13, 'H': 25, ...   \n",
      "...                                                 ...   \n",
      "2007  {'Q': 19, 'R': 12, 'S': 6, 'T': 6, 'H': 12, 'M...   \n",
      "2008  {'Q': 19, 'R': 12, 'S': 6, 'T': 6, 'H': 12, 'M...   \n",
      "2009  {'Q': 19, 'R': 12, 'S': 6, 'T': 6, 'H': 12, 'M...   \n",
      "2010  {'Q': 19, 'R': 12, 'S': 6, 'T': 6, 'H': 12, 'M...   \n",
      "2011  {'Q': 19, 'R': 12, 'S': 6, 'T': 6, 'H': 12, 'M...   \n",
      "\n",
      "                                                  EC_CD  \n",
      "0     {'Y': 13, 'A': 13, 'B': 6, 'D': 6, 'E': 6, 'G'...  \n",
      "1     {'Y': 13, 'A': 13, 'B': 6, 'D': 6, 'E': 6, 'G'...  \n",
      "2     {'Y': 13, 'A': 13, 'B': 6, 'D': 6, 'E': 6, 'G'...  \n",
      "3     {'Y': 13, 'A': 13, 'B': 6, 'D': 6, 'E': 6, 'G'...  \n",
      "4     {'Y': 13, 'A': 13, 'B': 6, 'D': 6, 'E': 6, 'G'...  \n",
      "...                                                 ...  \n",
      "2007  {'Y': 6, 'A': 6, 'B': 3, 'D': 3, 'E': 3, 'G': ...  \n",
      "2008  {'Y': 6, 'A': 6, 'B': 3, 'D': 3, 'E': 3, 'G': ...  \n",
      "2009  {'Y': 6, 'A': 6, 'B': 3, 'D': 3, 'E': 3, 'G': ...  \n",
      "2010  {'Y': 6, 'A': 6, 'B': 3, 'D': 3, 'E': 3, 'G': ...  \n",
      "2011  {'Y': 6, 'A': 6, 'B': 3, 'D': 3, 'E': 3, 'G': ...  \n",
      "\n",
      "[2012 rows x 40 columns]\n",
      "Dep_Key 'ZZ20240511IDRHYD3455.0' not found in the DataFrame.\n",
      "Dep_Key 'ZZ20240512IDRHYD2792.0' not found in the DataFrame.\n"
     ]
    }
   ],
   "source": [
    "import pandas as pd\n",
    "\n",
    "file_path = r\"C:\\Users\\Vamsi Krishna\\codes\\QC\\New folder\\2\\test_inv.csv\"\n",
    "df = pd.read_csv(file_path)\n",
    "print(df)\n",
    "\n",
    "for i in range(len(a)):\n",
    "    dep_key_to_update = depkey[i]\n",
    "    ec_new_available_inventory = ec_total_available_updated[i]\n",
    "    ec_new_booked_inventory = ec_updated_booked_inv[i]\n",
    "\n",
    "    row_index = df.index[df['Dep_Key'] == dep_key_to_update].tolist()\n",
    "\n",
    "    if row_index:\n",
    "        row_index = row_index[0] \n",
    "        \n",
    "        df.at[row_index, 'EC_AvailableInventory'] = ec_new_available_inventory\n",
    "        df.at[row_index, 'EC_BookedInventory'] = ec_new_booked_inventory\n",
    "\n",
    "        df.to_csv(file_path, index=False)\n",
    "        print(f\"Values for Dep_Key '{dep_key_to_update}' updated successfully.\")\n",
    "    else:\n",
    "        print(f\"Dep_Key '{dep_key_to_update}' not found in the DataFrame.\")"
   ]
  },
  {
   "cell_type": "code",
   "execution_count": 299,
   "metadata": {},
   "outputs": [
    {
     "name": "stdout",
     "output_type": "stream",
     "text": [
      "[84, 20]\n"
     ]
    },
    {
     "data": {
      "text/plain": [
       "[73, 10]"
      ]
     },
     "execution_count": 299,
     "metadata": {},
     "output_type": "execute_result"
    }
   ],
   "source": [
    "total_available_updated = []\n",
    "for i in range(len(a)):\n",
    "    total_available_updated.append(a[i]-fli_cap[i])\n",
    "print(a)\n",
    "total_available_updated"
   ]
  },
  {
   "cell_type": "code",
   "execution_count": 300,
   "metadata": {},
   "outputs": [
    {
     "data": {
      "text/html": [
       "<div>\n",
       "<style scoped>\n",
       "    .dataframe tbody tr th:only-of-type {\n",
       "        vertical-align: middle;\n",
       "    }\n",
       "\n",
       "    .dataframe tbody tr th {\n",
       "        vertical-align: top;\n",
       "    }\n",
       "\n",
       "    .dataframe thead th {\n",
       "        text-align: right;\n",
       "    }\n",
       "</style>\n",
       "<table border=\"1\" class=\"dataframe\">\n",
       "  <thead>\n",
       "    <tr style=\"text-align: right;\">\n",
       "      <th></th>\n",
       "      <th>RECLOC</th>\n",
       "      <th>CREATION_DTZ</th>\n",
       "      <th>DEP_KEY</th>\n",
       "      <th>ACTION_CD</th>\n",
       "      <th>COS_CD</th>\n",
       "      <th>SEG_SEQ</th>\n",
       "      <th>SEG_TOTAL</th>\n",
       "      <th>PAX_CNT</th>\n",
       "      <th>CARRIER_CD</th>\n",
       "      <th>FLT_NUM</th>\n",
       "      <th>ORIG_CD</th>\n",
       "      <th>DEST_CD</th>\n",
       "      <th>DEP_DT</th>\n",
       "      <th>DEP_DTML</th>\n",
       "      <th>ARR_DTML</th>\n",
       "      <th>DEP_DTMZ</th>\n",
       "      <th>ARR_DTMZ</th>\n",
       "    </tr>\n",
       "  </thead>\n",
       "  <tbody>\n",
       "    <tr>\n",
       "      <th>32921</th>\n",
       "      <td>BUHV67</td>\n",
       "      <td>2/1/2024 8:26</td>\n",
       "      <td>ZZ20240510IDRHYD2792</td>\n",
       "      <td>XX</td>\n",
       "      <td>EconomyClass</td>\n",
       "      <td>1</td>\n",
       "      <td>1</td>\n",
       "      <td>9</td>\n",
       "      <td>ZZ</td>\n",
       "      <td>2792</td>\n",
       "      <td>IDR</td>\n",
       "      <td>HYD</td>\n",
       "      <td>5/10/2024</td>\n",
       "      <td>5/10/2024 12:22</td>\n",
       "      <td>5/10/2024 14:12</td>\n",
       "      <td>5/10/2024 6:52</td>\n",
       "      <td>5/10/2024 8:42</td>\n",
       "    </tr>\n",
       "    <tr>\n",
       "      <th>32922</th>\n",
       "      <td>RHDO7</td>\n",
       "      <td>2/1/2024 8:26</td>\n",
       "      <td>ZZ20240510IDRHYD2792</td>\n",
       "      <td>XX</td>\n",
       "      <td>EconomyClass</td>\n",
       "      <td>1</td>\n",
       "      <td>3</td>\n",
       "      <td>6</td>\n",
       "      <td>ZZ</td>\n",
       "      <td>2792</td>\n",
       "      <td>IDR</td>\n",
       "      <td>HYD</td>\n",
       "      <td>5/10/2024</td>\n",
       "      <td>5/10/2024 12:22</td>\n",
       "      <td>5/10/2024 14:12</td>\n",
       "      <td>5/10/2024 6:52</td>\n",
       "      <td>5/10/2024 8:42</td>\n",
       "    </tr>\n",
       "    <tr>\n",
       "      <th>32938</th>\n",
       "      <td>RHDO7</td>\n",
       "      <td>2/1/2024 8:26</td>\n",
       "      <td>ZZ20240511HYDAMD3723</td>\n",
       "      <td>HL</td>\n",
       "      <td>EconomyClass</td>\n",
       "      <td>2</td>\n",
       "      <td>3</td>\n",
       "      <td>6</td>\n",
       "      <td>ZZ</td>\n",
       "      <td>3723</td>\n",
       "      <td>HYD</td>\n",
       "      <td>AMD</td>\n",
       "      <td>5/11/2024</td>\n",
       "      <td>5/11/2024 20:40</td>\n",
       "      <td>5/12/2024 12:24</td>\n",
       "      <td>5/11/2024 15:10</td>\n",
       "      <td>5/12/2024 6:54</td>\n",
       "    </tr>\n",
       "    <tr>\n",
       "      <th>32939</th>\n",
       "      <td>RHDO7</td>\n",
       "      <td>2/1/2024 8:26</td>\n",
       "      <td>ZZ20240512AMDBLR3041</td>\n",
       "      <td>HK</td>\n",
       "      <td>EconomyClass</td>\n",
       "      <td>3</td>\n",
       "      <td>3</td>\n",
       "      <td>6</td>\n",
       "      <td>ZZ</td>\n",
       "      <td>3041</td>\n",
       "      <td>AMD</td>\n",
       "      <td>BLR</td>\n",
       "      <td>5/12/2024</td>\n",
       "      <td>5/12/2024 14:26</td>\n",
       "      <td>5/12/2024 18:12</td>\n",
       "      <td>5/12/2024 8:56</td>\n",
       "      <td>5/12/2024 12:42</td>\n",
       "    </tr>\n",
       "    <tr>\n",
       "      <th>32920</th>\n",
       "      <td>MCNQ94</td>\n",
       "      <td>2/1/2024 8:26</td>\n",
       "      <td>ZZ20240510IDRHYD2792</td>\n",
       "      <td>XX</td>\n",
       "      <td>EconomyClass</td>\n",
       "      <td>1</td>\n",
       "      <td>4</td>\n",
       "      <td>4</td>\n",
       "      <td>ZZ</td>\n",
       "      <td>2792</td>\n",
       "      <td>IDR</td>\n",
       "      <td>HYD</td>\n",
       "      <td>5/10/2024</td>\n",
       "      <td>5/10/2024 12:22</td>\n",
       "      <td>5/10/2024 14:12</td>\n",
       "      <td>5/10/2024 6:52</td>\n",
       "      <td>5/10/2024 8:42</td>\n",
       "    </tr>\n",
       "    <tr>\n",
       "      <th>32937</th>\n",
       "      <td>MCNQ94</td>\n",
       "      <td>2/1/2024 8:26</td>\n",
       "      <td>ZZ20240511HYDCCU3772</td>\n",
       "      <td>GN</td>\n",
       "      <td>EconomyClass</td>\n",
       "      <td>2</td>\n",
       "      <td>4</td>\n",
       "      <td>4</td>\n",
       "      <td>ZZ</td>\n",
       "      <td>3772</td>\n",
       "      <td>HYD</td>\n",
       "      <td>CCU</td>\n",
       "      <td>5/11/2024</td>\n",
       "      <td>5/11/2024 5:58</td>\n",
       "      <td>5/12/2024 3:23</td>\n",
       "      <td>5/11/2024 0:28</td>\n",
       "      <td>5/11/2024 21:53</td>\n",
       "    </tr>\n",
       "    <tr>\n",
       "      <th>32919</th>\n",
       "      <td>YXHR85</td>\n",
       "      <td>2/1/2024 8:26</td>\n",
       "      <td>ZZ20240510IDRHYD2792</td>\n",
       "      <td>XX</td>\n",
       "      <td>EconomyClass</td>\n",
       "      <td>1</td>\n",
       "      <td>2</td>\n",
       "      <td>2</td>\n",
       "      <td>ZZ</td>\n",
       "      <td>2792</td>\n",
       "      <td>IDR</td>\n",
       "      <td>HYD</td>\n",
       "      <td>5/10/2024</td>\n",
       "      <td>5/10/2024 12:22</td>\n",
       "      <td>5/10/2024 14:12</td>\n",
       "      <td>5/10/2024 6:52</td>\n",
       "      <td>5/10/2024 8:42</td>\n",
       "    </tr>\n",
       "    <tr>\n",
       "      <th>32936</th>\n",
       "      <td>YXHR85</td>\n",
       "      <td>2/1/2024 8:26</td>\n",
       "      <td>ZZ20240513HYDIDR4122</td>\n",
       "      <td>XX</td>\n",
       "      <td>EconomyClass</td>\n",
       "      <td>2</td>\n",
       "      <td>2</td>\n",
       "      <td>2</td>\n",
       "      <td>ZZ</td>\n",
       "      <td>4122</td>\n",
       "      <td>HYD</td>\n",
       "      <td>IDR</td>\n",
       "      <td>5/13/2024</td>\n",
       "      <td>5/13/2024 6:08</td>\n",
       "      <td>5/13/2024 10:32</td>\n",
       "      <td>5/13/2024 0:38</td>\n",
       "      <td>5/13/2024 5:02</td>\n",
       "    </tr>\n",
       "  </tbody>\n",
       "</table>\n",
       "</div>"
      ],
      "text/plain": [
       "       RECLOC   CREATION_DTZ               DEP_KEY ACTION_CD        COS_CD  \\\n",
       "32921  BUHV67  2/1/2024 8:26  ZZ20240510IDRHYD2792        XX  EconomyClass   \n",
       "32922   RHDO7  2/1/2024 8:26  ZZ20240510IDRHYD2792        XX  EconomyClass   \n",
       "32938   RHDO7  2/1/2024 8:26  ZZ20240511HYDAMD3723        HL  EconomyClass   \n",
       "32939   RHDO7  2/1/2024 8:26  ZZ20240512AMDBLR3041        HK  EconomyClass   \n",
       "32920  MCNQ94  2/1/2024 8:26  ZZ20240510IDRHYD2792        XX  EconomyClass   \n",
       "32937  MCNQ94  2/1/2024 8:26  ZZ20240511HYDCCU3772        GN  EconomyClass   \n",
       "32919  YXHR85  2/1/2024 8:26  ZZ20240510IDRHYD2792        XX  EconomyClass   \n",
       "32936  YXHR85  2/1/2024 8:26  ZZ20240513HYDIDR4122        XX  EconomyClass   \n",
       "\n",
       "       SEG_SEQ  SEG_TOTAL  PAX_CNT CARRIER_CD  FLT_NUM ORIG_CD DEST_CD  \\\n",
       "32921        1          1        9         ZZ     2792     IDR     HYD   \n",
       "32922        1          3        6         ZZ     2792     IDR     HYD   \n",
       "32938        2          3        6         ZZ     3723     HYD     AMD   \n",
       "32939        3          3        6         ZZ     3041     AMD     BLR   \n",
       "32920        1          4        4         ZZ     2792     IDR     HYD   \n",
       "32937        2          4        4         ZZ     3772     HYD     CCU   \n",
       "32919        1          2        2         ZZ     2792     IDR     HYD   \n",
       "32936        2          2        2         ZZ     4122     HYD     IDR   \n",
       "\n",
       "          DEP_DT         DEP_DTML         ARR_DTML         DEP_DTMZ  \\\n",
       "32921  5/10/2024  5/10/2024 12:22  5/10/2024 14:12   5/10/2024 6:52   \n",
       "32922  5/10/2024  5/10/2024 12:22  5/10/2024 14:12   5/10/2024 6:52   \n",
       "32938  5/11/2024  5/11/2024 20:40  5/12/2024 12:24  5/11/2024 15:10   \n",
       "32939  5/12/2024  5/12/2024 14:26  5/12/2024 18:12   5/12/2024 8:56   \n",
       "32920  5/10/2024  5/10/2024 12:22  5/10/2024 14:12   5/10/2024 6:52   \n",
       "32937  5/11/2024   5/11/2024 5:58   5/12/2024 3:23   5/11/2024 0:28   \n",
       "32919  5/10/2024  5/10/2024 12:22  5/10/2024 14:12   5/10/2024 6:52   \n",
       "32936  5/13/2024   5/13/2024 6:08  5/13/2024 10:32   5/13/2024 0:38   \n",
       "\n",
       "              ARR_DTMZ  \n",
       "32921   5/10/2024 8:42  \n",
       "32922   5/10/2024 8:42  \n",
       "32938   5/12/2024 6:54  \n",
       "32939  5/12/2024 12:42  \n",
       "32920   5/10/2024 8:42  \n",
       "32937  5/11/2024 21:53  \n",
       "32919   5/10/2024 8:42  \n",
       "32936   5/13/2024 5:02  "
      ]
     },
     "execution_count": 300,
     "metadata": {},
     "output_type": "execute_result"
    }
   ],
   "source": [
    "import pandas as pd\n",
    "\n",
    "df = pd.read_csv(r\"C:\\Users\\Vamsi Krishna\\codes\\QC\\New folder\\2\\test_pnr.csv\")\n",
    "\n",
    "\n",
    "pnr_result_df = pd.DataFrame()\n",
    "\n",
    "for desired_dep_key in final_recloc_list:\n",
    "    result_row = df[df['RECLOC'].str.contains(desired_dep_key, case=False, na=False)]\n",
    "    \n",
    "    if not result_row.empty:\n",
    "        pnr_result_df = pd.concat([pnr_result_df, result_row])\n",
    "\n",
    "pnr_result_df['RECLOC'] = pnr_result_df['RECLOC'].astype(str).str.rstrip('.0')\n",
    "\n",
    "pnr_result_df.to_csv(r\"C:\\Users\\Vamsi Krishna\\codes\\QC\\New folder\\2\\EC_Sorted_PNR.csv\", index=False)\n",
    "pnr_result_df\n"
   ]
  },
  {
   "cell_type": "markdown",
   "metadata": {},
   "source": [
    "PREMIUM ECONOMY"
   ]
  },
  {
   "cell_type": "code",
   "execution_count": 301,
   "metadata": {},
   "outputs": [
    {
     "data": {
      "text/plain": [
       "[8, 2, 4, 1, 1]"
      ]
     },
     "execution_count": 301,
     "metadata": {},
     "output_type": "execute_result"
    }
   ],
   "source": [
    "merged_sorted_passengers = sorted_passengers.groupby('RECLOC')['Total_score'].sum().reset_index()\n",
    "# merged_sorted_passengers\n",
    "merged_table = pd.merge(merged_sorted_passengers, filtered_f_copy, on='RECLOC', how='outer')\n",
    "merged_table['final_score'] = merged_table['Total_score'] + merged_table['SUM_SEG_PAX']\n",
    "merged_table=merged_table.drop(['Total_score', 'SEG_TOTAL_MULTIPLIED', 'PAX_CNT_MULTIPLIED' ,'SUM_SEG_PAX'], axis=1)\n",
    "merge_sorted_table = merged_table.sort_values('final_score', ascending=False)\n",
    "\n",
    "economy_final_table= merge_sorted_table[merge_sorted_table[\"COS_CD\"]== 'EconomyClass']\n",
    "premium_economy_final_table= merge_sorted_table[merge_sorted_table[\"COS_CD\"]== 'PremiumEconomyClass']\n",
    "business_final_table= merge_sorted_table[merge_sorted_table[\"COS_CD\"]== 'BusinessClass']\n",
    "first_final_table= merge_sorted_table[merge_sorted_table[\"COS_CD\"]== 'FirstClass']\n",
    "\n",
    "#economy_final_table\n",
    "premium_economy_final_table\n",
    "# business_final_table\n",
    "# first_final_table\n",
    "# merge_sorted_table\n",
    "\n",
    "final_recloc_list = premium_economy_final_table['RECLOC'].tolist()\n",
    "final_pax_cnt=premium_economy_final_table['PAX_CNT'].tolist()\n",
    "final_seg_seq_cnt=premium_economy_final_table['SEG_SEQ'].tolist()\n",
    "final_score=premium_economy_final_table['final_score'].tolist()\n",
    "\n",
    "\n",
    "\n",
    "len(final_pax_cnt)\n",
    "\n",
    "\n",
    "a=(x.PC_AvailableInventory).tolist()\n",
    "ac=(x.Cost).tolist()\n",
    "pc=final_score\n",
    "p=final_pax_cnt\n",
    "\n",
    "m=len(a)\n",
    "n=len(p)\n",
    "\n",
    "p"
   ]
  },
  {
   "cell_type": "code",
   "execution_count": 302,
   "metadata": {},
   "outputs": [
    {
     "data": {
      "text/plain": [
       "[['pas_0_in_fli_0', 'pas_0_in_fli_1'],\n",
       " ['pas_1_in_fli_0', 'pas_1_in_fli_1'],\n",
       " ['pas_2_in_fli_0', 'pas_2_in_fli_1'],\n",
       " ['pas_3_in_fli_0', 'pas_3_in_fli_1'],\n",
       " ['pas_4_in_fli_0', 'pas_4_in_fli_1']]"
      ]
     },
     "execution_count": 302,
     "metadata": {},
     "output_type": "execute_result"
    }
   ],
   "source": [
    "pas_in_fli = [[f'pas_{i}_in_fli_{j}' for j in range(m)] for i in range(n)]\n",
    "pas_in_fli"
   ]
  },
  {
   "cell_type": "code",
   "execution_count": 303,
   "metadata": {},
   "outputs": [
    {
     "data": {
      "text/plain": [
       "[-8810.0,\n",
       " -8800.0,\n",
       " -4410.0,\n",
       " -4400.0,\n",
       " -4410.0,\n",
       " -4400.0,\n",
       " -2560.0,\n",
       " -2550.0,\n",
       " -2360.0,\n",
       " -2350.0]"
      ]
     },
     "execution_count": 303,
     "metadata": {},
     "output_type": "execute_result"
    }
   ],
   "source": [
    "coe=[]\n",
    "\n",
    "for k in range(m*n):\n",
    "    coe.append(-(pc[k//m]+ac[k%m]))\n",
    "\n",
    "coe"
   ]
  },
  {
   "cell_type": "code",
   "execution_count": 304,
   "metadata": {},
   "outputs": [
    {
     "data": {
      "text/plain": [
       "{'pas_0_in_fli_0': -8810.0,\n",
       " 'pas_0_in_fli_1': -8800.0,\n",
       " 'pas_1_in_fli_0': -4410.0,\n",
       " 'pas_1_in_fli_1': -4400.0,\n",
       " 'pas_2_in_fli_0': -4410.0,\n",
       " 'pas_2_in_fli_1': -4400.0,\n",
       " 'pas_3_in_fli_0': -2560.0,\n",
       " 'pas_3_in_fli_1': -2550.0,\n",
       " 'pas_4_in_fli_0': -2360.0,\n",
       " 'pas_4_in_fli_1': -2350.0}"
      ]
     },
     "execution_count": 304,
     "metadata": {},
     "output_type": "execute_result"
    }
   ],
   "source": [
    "list=[]\n",
    "for k in pas_in_fli:\n",
    "    for n in k:\n",
    "        list.append(n)\n",
    "\n",
    "linear=dict(zip(list,coe))\n",
    "linear"
   ]
  },
  {
   "cell_type": "code",
   "execution_count": 305,
   "metadata": {},
   "outputs": [],
   "source": [
    "from dimod import BinaryQuadraticModel\n",
    "import hybrid\n",
    "from hybrid import SimulatedAnnealingProblemSampler,TabuProblemSampler,min_sample,State\n",
    "\n",
    "bqm = BinaryQuadraticModel(linear,{},\"BINARY\")\n",
    "lmbd = 10000"
   ]
  },
  {
   "cell_type": "code",
   "execution_count": 306,
   "metadata": {},
   "outputs": [
    {
     "name": "stdout",
     "output_type": "stream",
     "text": [
      "[('pas_0_in_fli_0', 1), ('pas_0_in_fli_1', 1)]\n",
      "[('pas_1_in_fli_0', 1), ('pas_1_in_fli_1', 1)]\n",
      "[('pas_2_in_fli_0', 1), ('pas_2_in_fli_1', 1)]\n",
      "[('pas_3_in_fli_0', 1), ('pas_3_in_fli_1', 1)]\n",
      "[('pas_4_in_fli_0', 1), ('pas_4_in_fli_1', 1)]\n"
     ]
    }
   ],
   "source": [
    "for i in range(len(p)):\n",
    "    cons1=[]\n",
    "    for j in range(len(ac)):\n",
    "        cons1.append((f'pas_{i}_in_fli_{j}', 1))\n",
    "    print(cons1)\n",
    "    bqm.add_linear_equality_constraint(cons1, lmbd*10, -1)\n",
    "\n",
    "# for each passenger get 1 flight"
   ]
  },
  {
   "cell_type": "code",
   "execution_count": 307,
   "metadata": {},
   "outputs": [
    {
     "name": "stdout",
     "output_type": "stream",
     "text": [
      "[('pas_0_in_fli_0', 8), ('pas_1_in_fli_0', 2), ('pas_2_in_fli_0', 4), ('pas_3_in_fli_0', 1), ('pas_4_in_fli_0', 1)] 63\n",
      "[('pas_0_in_fli_1', 8), ('pas_1_in_fli_1', 2), ('pas_2_in_fli_1', 4), ('pas_3_in_fli_1', 1), ('pas_4_in_fli_1', 1)] 16\n"
     ]
    },
    {
     "name": "stderr",
     "output_type": "stream",
     "text": [
      "c:\\Users\\Vamsi Krishna\\anaconda3\\envs\\qc\\lib\\site-packages\\dimod\\binary\\binary_quadratic_model.py:770: UserWarning: Did not add constraint s. This constraint is feasible with any value for state variables.\n",
      "  warnings.warn(\n"
     ]
    }
   ],
   "source": [
    "for j in range(len(a)):\n",
    "    cons2=[]\n",
    "    \n",
    "    for i in range(len(p)):\n",
    "        cons2.append((f'pas_{i}_in_fli_{j}',p[i]))\n",
    "    print(cons2,a[j])   \n",
    "    bqm.add_linear_inequality_constraint(terms=cons2, lagrange_multiplier=lmbd*10, constant=0, label='s', lb=0, ub=a[j])\n",
    "    "
   ]
  },
  {
   "cell_type": "code",
   "execution_count": 308,
   "metadata": {},
   "outputs": [],
   "source": [
    "sampler = SimulatedAnnealingProblemSampler()\n",
    "state = State.from_sample(min_sample(bqm), bqm)\n",
    "new_state = sampler.run(state).result()\n",
    "solute=new_state.samples.first.sample, new_state.samples.first.energy"
   ]
  },
  {
   "cell_type": "code",
   "execution_count": 309,
   "metadata": {},
   "outputs": [
    {
     "data": {
      "text/plain": [
       "{'pas_0_in_fli_0': 1,\n",
       " 'pas_0_in_fli_1': 0,\n",
       " 'pas_1_in_fli_0': 0,\n",
       " 'pas_1_in_fli_1': 1,\n",
       " 'pas_2_in_fli_0': 0,\n",
       " 'pas_2_in_fli_1': 1,\n",
       " 'pas_3_in_fli_0': 1,\n",
       " 'pas_3_in_fli_1': 0,\n",
       " 'pas_4_in_fli_0': 1,\n",
       " 'pas_4_in_fli_1': 0}"
      ]
     },
     "execution_count": 309,
     "metadata": {},
     "output_type": "execute_result"
    }
   ],
   "source": [
    "solute[0]"
   ]
  },
  {
   "cell_type": "code",
   "execution_count": 310,
   "metadata": {},
   "outputs": [
    {
     "data": {
      "text/plain": [
       "5"
      ]
     },
     "execution_count": 310,
     "metadata": {},
     "output_type": "execute_result"
    }
   ],
   "source": [
    "no_pas=0\n",
    "\n",
    "for i in range(len(p)):\n",
    "    for j in range(len(a)):\n",
    "     if solute[0][f'pas_{i}_in_fli_{j}']==1:\n",
    "        no_pas=no_pas+1\n",
    "no_pas"
   ]
  },
  {
   "cell_type": "code",
   "execution_count": 311,
   "metadata": {},
   "outputs": [
    {
     "name": "stdout",
     "output_type": "stream",
     "text": [
      "[63, 16]\n"
     ]
    },
    {
     "data": {
      "text/plain": [
       "[10, 6]"
      ]
     },
     "execution_count": 311,
     "metadata": {},
     "output_type": "execute_result"
    }
   ],
   "source": [
    "fli_cap=[]\n",
    "print(a)\n",
    "for j in range(len(a)):\n",
    "    count=0\n",
    "    for i in range(len(pc)):\n",
    "        if solute[0][f'pas_{i}_in_fli_{j}']==1:\n",
    "            count=count+p[i]\n",
    "    fli_cap.append(count) \n",
    "\n",
    "fli_cap"
   ]
  },
  {
   "cell_type": "code",
   "execution_count": 312,
   "metadata": {},
   "outputs": [],
   "source": [
    "for i in range(len(p)):\n",
    " sum=0\n",
    " for j in range(len(a)):\n",
    "  sum=sum+solute[0][f'pas_{i}_in_fli_{j}']\n",
    "  if sum >1 :\n",
    "    solute[0][f'pas_{i}_in_fli_{j}']=0\n"
   ]
  },
  {
   "cell_type": "code",
   "execution_count": 313,
   "metadata": {},
   "outputs": [],
   "source": [
    "for j in range(len(a)):\n",
    " sum=0\n",
    " for i in range(len(p)):\n",
    "  sum=sum+solute[0][f'pas_{i}_in_fli_{j}']\n",
    "  if sum >a[j] :\n",
    "    solute[0][f'pas_{i}_in_fli_{j}']=0"
   ]
  },
  {
   "cell_type": "code",
   "execution_count": 314,
   "metadata": {},
   "outputs": [],
   "source": [
    "pc=solute[0]"
   ]
  },
  {
   "cell_type": "code",
   "execution_count": 315,
   "metadata": {},
   "outputs": [
    {
     "name": "stdout",
     "output_type": "stream",
     "text": [
      "[63, 16]\n"
     ]
    },
    {
     "data": {
      "text/plain": [
       "[53, 10]"
      ]
     },
     "execution_count": 315,
     "metadata": {},
     "output_type": "execute_result"
    }
   ],
   "source": [
    "pc_total_available_updated = []\n",
    "for i in range(len(a)):\n",
    "    pc_total_available_updated.append(a[i]-fli_cap[i])\n",
    "print(a)\n",
    "pc_total_available_updated"
   ]
  },
  {
   "cell_type": "code",
   "execution_count": 316,
   "metadata": {},
   "outputs": [
    {
     "name": "stdout",
     "output_type": "stream",
     "text": [
      "[80, 16]\n"
     ]
    },
    {
     "data": {
      "text/plain": [
       "[90, 22]"
      ]
     },
     "execution_count": 316,
     "metadata": {},
     "output_type": "execute_result"
    }
   ],
   "source": [
    "pc_og_booked_inv = x.PC_BookedInventory.tolist()\n",
    "pc_updated_booked_inv = []\n",
    "for i in range(len(pc_og_booked_inv)):\n",
    "    pc_updated_booked_inv.append(pc_og_booked_inv[i]+fli_cap[i])\n",
    "print(pc_og_booked_inv)\n",
    "pc_updated_booked_inv"
   ]
  },
  {
   "cell_type": "code",
   "execution_count": 317,
   "metadata": {},
   "outputs": [
    {
     "data": {
      "text/plain": [
       "['ZZ20240511IDRHYD3455.0', 'ZZ20240512IDRHYD2792.0']"
      ]
     },
     "execution_count": 317,
     "metadata": {},
     "output_type": "execute_result"
    }
   ],
   "source": [
    "depkey = x.Dep_Key.tolist()\n",
    "depkey"
   ]
  },
  {
   "cell_type": "code",
   "execution_count": 318,
   "metadata": {},
   "outputs": [
    {
     "name": "stdout",
     "output_type": "stream",
     "text": [
      "         InventoryId      ScheduleId CarrierCode               Dep_Key  \\\n",
      "0     INV-ZZ-2774494  SCH-ZZ-3400127          ZZ  ZZ20240505AMDHYD2223   \n",
      "1     INV-ZZ-8029879  SCH-ZZ-3400127          ZZ  ZZ20240506AMDHYD2223   \n",
      "2     INV-ZZ-6852033  SCH-ZZ-3400127          ZZ  ZZ20240507AMDHYD2223   \n",
      "3     INV-ZZ-7065859  SCH-ZZ-3400127          ZZ  ZZ20240508AMDHYD2223   \n",
      "4     INV-ZZ-1595392  SCH-ZZ-3400127          ZZ  ZZ20240512AMDHYD2223   \n",
      "...              ...             ...         ...                   ...   \n",
      "2007  INV-ZZ-6129434  SCH-ZZ-9762124          ZZ   ZZ20240617GAUPNQ344   \n",
      "2008  INV-ZZ-2755720  SCH-ZZ-9762124          ZZ   ZZ20240620GAUPNQ344   \n",
      "2009  INV-ZZ-2707415  SCH-ZZ-9762124          ZZ   ZZ20240621GAUPNQ344   \n",
      "2010  INV-ZZ-1293533  SCH-ZZ-9762124          ZZ   ZZ20240623GAUPNQ344   \n",
      "2011  INV-ZZ-1560576  SCH-ZZ-9762124          ZZ   ZZ20240624GAUPNQ344   \n",
      "\n",
      "      FlightNumber AircraftType DepartureDate    DepartureDateTime  \\\n",
      "0           2223.0   Boeing 777    05/05/2024  2024-05-05 10:52:00   \n",
      "1           2223.0   Boeing 777    05/06/2024  2024-05-06 10:52:00   \n",
      "2           2223.0   Boeing 777    05/07/2024  2024-05-07 10:52:00   \n",
      "3           2223.0   Boeing 777    05/08/2024  2024-05-08 10:52:00   \n",
      "4           2223.0   Boeing 777    05/12/2024  2024-05-12 10:52:00   \n",
      "...            ...          ...           ...                  ...   \n",
      "2007        3440.0   Boeing 757    06/17/2024  2024-06-17 15:57:00   \n",
      "2008        3440.0   Boeing 757    06/20/2024  2024-06-20 15:57:00   \n",
      "2009        3440.0   Boeing 757    06/21/2024  2024-06-21 15:57:00   \n",
      "2010        3440.0   Boeing 757    06/23/2024  2024-06-23 15:57:00   \n",
      "2011        3440.0   Boeing 757    06/24/2024  2024-06-24 15:57:00   \n",
      "\n",
      "          ArrivalDateTime DepartureAirport  ... PC_Oversold  \\\n",
      "0     2024-05-05 19:30:00              AMD  ...          49   \n",
      "1     2024-05-06 19:30:00              AMD  ...          47   \n",
      "2     2024-05-07 19:30:00              AMD  ...          44   \n",
      "3     2024-05-08 19:30:00              AMD  ...          51   \n",
      "4     2024-05-12 19:30:00              AMD  ...          48   \n",
      "...                   ...              ...  ...         ...   \n",
      "2007  2024-06-18 05:13:00              GAU  ...          29   \n",
      "2008  2024-06-21 05:13:00              GAU  ...          29   \n",
      "2009  2024-06-22 05:13:00              GAU  ...          31   \n",
      "2010  2024-06-24 05:13:00              GAU  ...          29   \n",
      "2011  2024-06-25 05:13:00              GAU  ...          34   \n",
      "\n",
      "      PC_AvailableInventory  EC_TotalInventory  EC_BookedInventory  \\\n",
      "0                        74                199                 102   \n",
      "1                        72                202                 106   \n",
      "2                        61                197                 114   \n",
      "3                        66                192                 103   \n",
      "4                        66                197                 107   \n",
      "...                     ...                ...                 ...   \n",
      "2007                     37                 96                  45   \n",
      "2008                     39                 93                  43   \n",
      "2009                     40                 93                  40   \n",
      "2010                     41                 98                  43   \n",
      "2011                     42                 99                  40   \n",
      "\n",
      "      EC_Oversold  EC_AvailableInventory               FC_CD  \\\n",
      "0              68                     97  {'F': 25, 'P': 17}   \n",
      "1              64                     96  {'F': 25, 'P': 17}   \n",
      "2              56                     83  {'F': 25, 'P': 17}   \n",
      "3              67                     89  {'F': 25, 'P': 17}   \n",
      "4              63                     90  {'F': 25, 'P': 17}   \n",
      "...           ...                    ...                 ...   \n",
      "2007           38                     51   {'F': 12, 'P': 8}   \n",
      "2008           40                     50   {'F': 12, 'P': 8}   \n",
      "2009           43                     53   {'F': 12, 'P': 8}   \n",
      "2010           40                     55   {'F': 12, 'P': 8}   \n",
      "2011           43                     59   {'F': 12, 'P': 8}   \n",
      "\n",
      "                            BC_CD  \\\n",
      "0     {'C': 34, 'J': 26, 'Z': 26}   \n",
      "1     {'C': 34, 'J': 26, 'Z': 26}   \n",
      "2     {'C': 34, 'J': 26, 'Z': 26}   \n",
      "3     {'C': 34, 'J': 26, 'Z': 26}   \n",
      "4     {'C': 34, 'J': 26, 'Z': 26}   \n",
      "...                           ...   \n",
      "2007  {'C': 16, 'J': 12, 'Z': 12}   \n",
      "2008  {'C': 16, 'J': 12, 'Z': 12}   \n",
      "2009  {'C': 16, 'J': 12, 'Z': 12}   \n",
      "2010  {'C': 16, 'J': 12, 'Z': 12}   \n",
      "2011  {'C': 16, 'J': 12, 'Z': 12}   \n",
      "\n",
      "                                                  PC_CD  \\\n",
      "0     {'Q': 38, 'R': 25, 'S': 13, 'T': 13, 'H': 25, ...   \n",
      "1     {'Q': 38, 'R': 25, 'S': 13, 'T': 13, 'H': 25, ...   \n",
      "2     {'Q': 38, 'R': 25, 'S': 13, 'T': 13, 'H': 25, ...   \n",
      "3     {'Q': 38, 'R': 25, 'S': 13, 'T': 13, 'H': 25, ...   \n",
      "4     {'Q': 38, 'R': 25, 'S': 13, 'T': 13, 'H': 25, ...   \n",
      "...                                                 ...   \n",
      "2007  {'Q': 19, 'R': 12, 'S': 6, 'T': 6, 'H': 12, 'M...   \n",
      "2008  {'Q': 19, 'R': 12, 'S': 6, 'T': 6, 'H': 12, 'M...   \n",
      "2009  {'Q': 19, 'R': 12, 'S': 6, 'T': 6, 'H': 12, 'M...   \n",
      "2010  {'Q': 19, 'R': 12, 'S': 6, 'T': 6, 'H': 12, 'M...   \n",
      "2011  {'Q': 19, 'R': 12, 'S': 6, 'T': 6, 'H': 12, 'M...   \n",
      "\n",
      "                                                  EC_CD  \n",
      "0     {'Y': 13, 'A': 13, 'B': 6, 'D': 6, 'E': 6, 'G'...  \n",
      "1     {'Y': 13, 'A': 13, 'B': 6, 'D': 6, 'E': 6, 'G'...  \n",
      "2     {'Y': 13, 'A': 13, 'B': 6, 'D': 6, 'E': 6, 'G'...  \n",
      "3     {'Y': 13, 'A': 13, 'B': 6, 'D': 6, 'E': 6, 'G'...  \n",
      "4     {'Y': 13, 'A': 13, 'B': 6, 'D': 6, 'E': 6, 'G'...  \n",
      "...                                                 ...  \n",
      "2007  {'Y': 6, 'A': 6, 'B': 3, 'D': 3, 'E': 3, 'G': ...  \n",
      "2008  {'Y': 6, 'A': 6, 'B': 3, 'D': 3, 'E': 3, 'G': ...  \n",
      "2009  {'Y': 6, 'A': 6, 'B': 3, 'D': 3, 'E': 3, 'G': ...  \n",
      "2010  {'Y': 6, 'A': 6, 'B': 3, 'D': 3, 'E': 3, 'G': ...  \n",
      "2011  {'Y': 6, 'A': 6, 'B': 3, 'D': 3, 'E': 3, 'G': ...  \n",
      "\n",
      "[2012 rows x 40 columns]\n",
      "Dep_Key 'ZZ20240511IDRHYD3455.0' not found in the DataFrame.\n",
      "Dep_Key 'ZZ20240512IDRHYD2792.0' not found in the DataFrame.\n"
     ]
    }
   ],
   "source": [
    "import pandas as pd\n",
    "\n",
    "file_path = r\"C:\\Users\\Vamsi Krishna\\codes\\QC\\New folder\\2\\test_inv.csv\"\n",
    "df = pd.read_csv(file_path)\n",
    "print(df)\n",
    "\n",
    "for i in range(len(a)):\n",
    "    dep_key_to_update = depkey[i]\n",
    "    pc_new_available_inventory = pc_total_available_updated[i]\n",
    "    pc_new_booked_inventory = pc_updated_booked_inv[i]\n",
    "\n",
    "    row_index = df.index[df['Dep_Key'] == dep_key_to_update].tolist()\n",
    "\n",
    "    if row_index:\n",
    "        row_index = row_index[0] \n",
    "        \n",
    "        df.at[row_index, 'PC_AvailableInventory'] = pc_new_available_inventory\n",
    "        df.at[row_index, 'PC_BookedInventory'] = pc_new_booked_inventory\n",
    "\n",
    "        df.to_csv(file_path, index=False)\n",
    "        print(f\"Values for Dep_Key '{dep_key_to_update}' updated successfully.\")\n",
    "    else:\n",
    "        print(f\"Dep_Key '{dep_key_to_update}' not found in the DataFrame.\")"
   ]
  },
  {
   "cell_type": "code",
   "execution_count": 319,
   "metadata": {},
   "outputs": [
    {
     "data": {
      "text/plain": [
       "[268, 54]"
      ]
     },
     "execution_count": 319,
     "metadata": {},
     "output_type": "execute_result"
    }
   ],
   "source": [
    "og_booked_inv = x.BookedInventory.tolist()\n",
    "og_booked_inv"
   ]
  },
  {
   "cell_type": "code",
   "execution_count": 320,
   "metadata": {},
   "outputs": [
    {
     "data": {
      "text/plain": [
       "[209, 52]"
      ]
     },
     "execution_count": 320,
     "metadata": {},
     "output_type": "execute_result"
    }
   ],
   "source": [
    "og_total_available = x.AvailableInventory.tolist()\n",
    "og_total_available"
   ]
  },
  {
   "cell_type": "code",
   "execution_count": 321,
   "metadata": {},
   "outputs": [
    {
     "data": {
      "text/plain": [
       "[300, 73]"
      ]
     },
     "execution_count": 321,
     "metadata": {},
     "output_type": "execute_result"
    }
   ],
   "source": [
    "updated_total_booked = [0]*len(fc_updated_booked_inv)\n",
    "for i in range(len(fc_updated_booked_inv)):\n",
    "    updated_total_booked[i] = fc_updated_booked_inv[i] + bc_updated_booked_inv[i] + pc_updated_booked_inv[i] + ec_updated_booked_inv[i]\n",
    "updated_total_booked"
   ]
  },
  {
   "cell_type": "code",
   "execution_count": 322,
   "metadata": {},
   "outputs": [
    {
     "data": {
      "text/plain": [
       "[177, 33]"
      ]
     },
     "execution_count": 322,
     "metadata": {},
     "output_type": "execute_result"
    }
   ],
   "source": [
    "updated_total_available = [0]*len(fc_updated_booked_inv)\n",
    "for i in range(len(fc_updated_booked_inv)):\n",
    "    updated_total_available[i] = og_total_available[i]-(updated_total_booked[i]-og_booked_inv[i])\n",
    "updated_total_available "
   ]
  },
  {
   "cell_type": "code",
   "execution_count": 323,
   "metadata": {},
   "outputs": [
    {
     "name": "stdout",
     "output_type": "stream",
     "text": [
      "         InventoryId      ScheduleId CarrierCode               Dep_Key  \\\n",
      "0     INV-ZZ-2774494  SCH-ZZ-3400127          ZZ  ZZ20240505AMDHYD2223   \n",
      "1     INV-ZZ-8029879  SCH-ZZ-3400127          ZZ  ZZ20240506AMDHYD2223   \n",
      "2     INV-ZZ-6852033  SCH-ZZ-3400127          ZZ  ZZ20240507AMDHYD2223   \n",
      "3     INV-ZZ-7065859  SCH-ZZ-3400127          ZZ  ZZ20240508AMDHYD2223   \n",
      "4     INV-ZZ-1595392  SCH-ZZ-3400127          ZZ  ZZ20240512AMDHYD2223   \n",
      "...              ...             ...         ...                   ...   \n",
      "2007  INV-ZZ-6129434  SCH-ZZ-9762124          ZZ   ZZ20240617GAUPNQ344   \n",
      "2008  INV-ZZ-2755720  SCH-ZZ-9762124          ZZ   ZZ20240620GAUPNQ344   \n",
      "2009  INV-ZZ-2707415  SCH-ZZ-9762124          ZZ   ZZ20240621GAUPNQ344   \n",
      "2010  INV-ZZ-1293533  SCH-ZZ-9762124          ZZ   ZZ20240623GAUPNQ344   \n",
      "2011  INV-ZZ-1560576  SCH-ZZ-9762124          ZZ   ZZ20240624GAUPNQ344   \n",
      "\n",
      "      FlightNumber AircraftType DepartureDate    DepartureDateTime  \\\n",
      "0           2223.0   Boeing 777    05/05/2024  2024-05-05 10:52:00   \n",
      "1           2223.0   Boeing 777    05/06/2024  2024-05-06 10:52:00   \n",
      "2           2223.0   Boeing 777    05/07/2024  2024-05-07 10:52:00   \n",
      "3           2223.0   Boeing 777    05/08/2024  2024-05-08 10:52:00   \n",
      "4           2223.0   Boeing 777    05/12/2024  2024-05-12 10:52:00   \n",
      "...            ...          ...           ...                  ...   \n",
      "2007        3440.0   Boeing 757    06/17/2024  2024-06-17 15:57:00   \n",
      "2008        3440.0   Boeing 757    06/20/2024  2024-06-20 15:57:00   \n",
      "2009        3440.0   Boeing 757    06/21/2024  2024-06-21 15:57:00   \n",
      "2010        3440.0   Boeing 757    06/23/2024  2024-06-23 15:57:00   \n",
      "2011        3440.0   Boeing 757    06/24/2024  2024-06-24 15:57:00   \n",
      "\n",
      "          ArrivalDateTime DepartureAirport  ... PC_Oversold  \\\n",
      "0     2024-05-05 19:30:00              AMD  ...          49   \n",
      "1     2024-05-06 19:30:00              AMD  ...          47   \n",
      "2     2024-05-07 19:30:00              AMD  ...          44   \n",
      "3     2024-05-08 19:30:00              AMD  ...          51   \n",
      "4     2024-05-12 19:30:00              AMD  ...          48   \n",
      "...                   ...              ...  ...         ...   \n",
      "2007  2024-06-18 05:13:00              GAU  ...          29   \n",
      "2008  2024-06-21 05:13:00              GAU  ...          29   \n",
      "2009  2024-06-22 05:13:00              GAU  ...          31   \n",
      "2010  2024-06-24 05:13:00              GAU  ...          29   \n",
      "2011  2024-06-25 05:13:00              GAU  ...          34   \n",
      "\n",
      "      PC_AvailableInventory  EC_TotalInventory  EC_BookedInventory  \\\n",
      "0                        74                199                 102   \n",
      "1                        72                202                 106   \n",
      "2                        61                197                 114   \n",
      "3                        66                192                 103   \n",
      "4                        66                197                 107   \n",
      "...                     ...                ...                 ...   \n",
      "2007                     37                 96                  45   \n",
      "2008                     39                 93                  43   \n",
      "2009                     40                 93                  40   \n",
      "2010                     41                 98                  43   \n",
      "2011                     42                 99                  40   \n",
      "\n",
      "      EC_Oversold  EC_AvailableInventory               FC_CD  \\\n",
      "0              68                     97  {'F': 25, 'P': 17}   \n",
      "1              64                     96  {'F': 25, 'P': 17}   \n",
      "2              56                     83  {'F': 25, 'P': 17}   \n",
      "3              67                     89  {'F': 25, 'P': 17}   \n",
      "4              63                     90  {'F': 25, 'P': 17}   \n",
      "...           ...                    ...                 ...   \n",
      "2007           38                     51   {'F': 12, 'P': 8}   \n",
      "2008           40                     50   {'F': 12, 'P': 8}   \n",
      "2009           43                     53   {'F': 12, 'P': 8}   \n",
      "2010           40                     55   {'F': 12, 'P': 8}   \n",
      "2011           43                     59   {'F': 12, 'P': 8}   \n",
      "\n",
      "                            BC_CD  \\\n",
      "0     {'C': 34, 'J': 26, 'Z': 26}   \n",
      "1     {'C': 34, 'J': 26, 'Z': 26}   \n",
      "2     {'C': 34, 'J': 26, 'Z': 26}   \n",
      "3     {'C': 34, 'J': 26, 'Z': 26}   \n",
      "4     {'C': 34, 'J': 26, 'Z': 26}   \n",
      "...                           ...   \n",
      "2007  {'C': 16, 'J': 12, 'Z': 12}   \n",
      "2008  {'C': 16, 'J': 12, 'Z': 12}   \n",
      "2009  {'C': 16, 'J': 12, 'Z': 12}   \n",
      "2010  {'C': 16, 'J': 12, 'Z': 12}   \n",
      "2011  {'C': 16, 'J': 12, 'Z': 12}   \n",
      "\n",
      "                                                  PC_CD  \\\n",
      "0     {'Q': 38, 'R': 25, 'S': 13, 'T': 13, 'H': 25, ...   \n",
      "1     {'Q': 38, 'R': 25, 'S': 13, 'T': 13, 'H': 25, ...   \n",
      "2     {'Q': 38, 'R': 25, 'S': 13, 'T': 13, 'H': 25, ...   \n",
      "3     {'Q': 38, 'R': 25, 'S': 13, 'T': 13, 'H': 25, ...   \n",
      "4     {'Q': 38, 'R': 25, 'S': 13, 'T': 13, 'H': 25, ...   \n",
      "...                                                 ...   \n",
      "2007  {'Q': 19, 'R': 12, 'S': 6, 'T': 6, 'H': 12, 'M...   \n",
      "2008  {'Q': 19, 'R': 12, 'S': 6, 'T': 6, 'H': 12, 'M...   \n",
      "2009  {'Q': 19, 'R': 12, 'S': 6, 'T': 6, 'H': 12, 'M...   \n",
      "2010  {'Q': 19, 'R': 12, 'S': 6, 'T': 6, 'H': 12, 'M...   \n",
      "2011  {'Q': 19, 'R': 12, 'S': 6, 'T': 6, 'H': 12, 'M...   \n",
      "\n",
      "                                                  EC_CD  \n",
      "0     {'Y': 13, 'A': 13, 'B': 6, 'D': 6, 'E': 6, 'G'...  \n",
      "1     {'Y': 13, 'A': 13, 'B': 6, 'D': 6, 'E': 6, 'G'...  \n",
      "2     {'Y': 13, 'A': 13, 'B': 6, 'D': 6, 'E': 6, 'G'...  \n",
      "3     {'Y': 13, 'A': 13, 'B': 6, 'D': 6, 'E': 6, 'G'...  \n",
      "4     {'Y': 13, 'A': 13, 'B': 6, 'D': 6, 'E': 6, 'G'...  \n",
      "...                                                 ...  \n",
      "2007  {'Y': 6, 'A': 6, 'B': 3, 'D': 3, 'E': 3, 'G': ...  \n",
      "2008  {'Y': 6, 'A': 6, 'B': 3, 'D': 3, 'E': 3, 'G': ...  \n",
      "2009  {'Y': 6, 'A': 6, 'B': 3, 'D': 3, 'E': 3, 'G': ...  \n",
      "2010  {'Y': 6, 'A': 6, 'B': 3, 'D': 3, 'E': 3, 'G': ...  \n",
      "2011  {'Y': 6, 'A': 6, 'B': 3, 'D': 3, 'E': 3, 'G': ...  \n",
      "\n",
      "[2012 rows x 40 columns]\n",
      "Dep_Key 'ZZ20240511IDRHYD3455.0' not found in the DataFrame.\n",
      "Dep_Key 'ZZ20240512IDRHYD2792.0' not found in the DataFrame.\n"
     ]
    }
   ],
   "source": [
    "import pandas as pd\n",
    "\n",
    "file_path = r\"C:\\Users\\Vamsi Krishna\\codes\\QC\\New folder\\2\\test_inv.csv\"\n",
    "df = pd.read_csv(file_path)\n",
    "print(df)\n",
    "\n",
    "for i in range(len(a)):\n",
    "    dep_key_to_update = depkey[i]\n",
    "\n",
    "\n",
    "    row_index = df.index[df['Dep_Key'] == dep_key_to_update].tolist()\n",
    "\n",
    "    if row_index:\n",
    "        row_index = row_index[0] \n",
    "        \n",
    "        df.at[row_index, 'AvailableInventory'] = updated_total_available[i]\n",
    "        df.at[row_index, 'BookedInventory'] = updated_total_booked[i]\n",
    "\n",
    "        df.to_csv(file_path, index=False)\n",
    "        print(f\"Values for Dep_Key '{dep_key_to_update}' updated successfully.\")\n",
    "    else:\n",
    "        print(f\"Dep_Key '{dep_key_to_update}' not found in the DataFrame.\")"
   ]
  },
  {
   "cell_type": "code",
   "execution_count": 324,
   "metadata": {},
   "outputs": [],
   "source": [
    "import pandas as pd\n",
    "import re\n",
    "from datetime import datetime, timedelta\n",
    "\n",
    "pnr_df = pd.read_csv(r\"C:\\Users\\Vamsi Krishna\\codes\\QC\\New folder\\2\\test_pnr.csv\")\n",
    "\n",
    "pnr_df = pnr_df.drop(0)\n",
    "\n",
    "recloc_col_index = pnr_df.columns.get_loc('RECLOC')\n",
    "dep_key_col_index = pnr_df.columns.get_loc('DEP_KEY')\n",
    "\n",
    "for key, value in solute[0].items():\n",
    "    if value == 1:\n",
    "        pas_match = re.search(r'\\d+', key)\n",
    "        pas_index = int(pas_match.group()) if pas_match else None\n",
    "        fli_index = int(key.split('_in_fli_')[1])\n",
    "\n",
    "        if pas_index is not None:\n",
    "            depkey_info = depkey[fli_index]\n",
    "            carrier_code = depkey_info[:2]\n",
    "            dep_dt = datetime.strptime(depkey_info[2:10], '%Y%m%d').strftime('%m-%d-%Y')\n",
    "            \n",
    "            flight_num_match = re.search(r'\\d+', depkey_info[10:])\n",
    "            flight_num = int(flight_num_match.group()) if flight_num_match else None\n",
    "            \n",
    "            orig_cd = depkey_info[10:13]\n",
    "            dest_cd = depkey_info[13:16]\n",
    "            upd_depkey = depkey_info.split('.')[0]\n",
    "\n",
    "            dep_time = x.loc[x['Dep_Key'] == depkey_info, 'DepartureDateTime'].values[0]\n",
    "            arr_time = x.loc[x['Dep_Key'] == depkey_info, 'ArrivalDateTime'].values[0]\n",
    "\n",
    "            recloc = final_recloc_list[pas_index]\n",
    "\n",
    "            # Update only rows where RECLOC matches and DEP_KEY matches specific_dep_key\n",
    "            condition = (pnr_df.iloc[:, recloc_col_index] == recloc) & (pnr_df.iloc[:, dep_key_col_index] == specific_dep_key)\n",
    "\n",
    "            pnr_df.loc[condition, 'DEP_KEY'] = upd_depkey\n",
    "            pnr_df.loc[condition, 'CARRIER_CD'] = carrier_code\n",
    "            pnr_df.loc[condition, 'FLT_NUM'] = flight_num\n",
    "            pnr_df.loc[condition, 'DEP_DT'] = dep_dt\n",
    "            pnr_df.loc[condition, 'ORIG_CD'] = orig_cd\n",
    "            pnr_df.loc[condition, 'DEST_CD'] = dest_cd\n",
    "            pnr_df.loc[condition, 'DEP_DTML'] = dep_time\n",
    "            pnr_df.loc[condition, 'ARR_DTML'] = arr_time\n",
    "            pnr_df.loc[condition, 'DEP_DTMZ'] = (dep_time - timedelta(hours=5, minutes=30)).strftime('%m-%d-%Y %H:%M:%S')\n",
    "            pnr_df.loc[condition, 'ARR_DTMZ'] = (arr_time - timedelta(hours=5, minutes=30)).strftime('%m-%d-%Y %H:%M:%S')\n",
    "\n",
    "pnr_df.to_csv(r\"C:\\Users\\Vamsi Krishna\\codes\\QC\\New folder\\2\\test_pnr.csv\", index=False)\n"
   ]
  },
  {
   "cell_type": "code",
   "execution_count": 325,
   "metadata": {},
   "outputs": [],
   "source": [
    "import pandas as pd\n",
    "\n",
    "df = pd.read_csv(r\"C:\\Users\\Vamsi Krishna\\codes\\QC\\New folder\\2\\test_inv.csv\")\n",
    "\n",
    "\n",
    "depkey_without_suffix = [key.replace('.0', '') for key in depkey]\n",
    "\n",
    "result_df = pd.DataFrame()\n",
    "\n",
    "for desired_dep_key in depkey_without_suffix:\n",
    "    result_row = df[df['Dep_Key'].str.contains(desired_dep_key, case=False, na=False)]\n",
    "    \n",
    "    if not result_row.empty:\n",
    "        result_df = pd.concat([result_df, result_row])\n",
    "\n",
    "result_df['Dep_Key'] = result_df['Dep_Key'].astype(str).str.rstrip('.0')\n",
    "\n",
    "\n",
    "result_df.to_csv(r\"C:\\Users\\Vamsi Krishna\\codes\\QC\\New folder\\2\\Sorted_INV.csv\", index=False)\n",
    "\n",
    "\n",
    "\n",
    "\n"
   ]
  },
  {
   "cell_type": "code",
   "execution_count": 326,
   "metadata": {},
   "outputs": [],
   "source": [
    "invdf = pd.read_csv(r\"C:\\Users\\Vamsi Krishna\\codes\\QC\\New folder\\2\\test_inv.csv\")\n",
    "invdf['Dep_Key'] = invdf['Dep_Key'].astype(str).str.rstrip('.0')\n",
    "invdf.to_csv(r\"C:\\Users\\Vamsi Krishna\\codes\\QC\\New folder\\2\\test_inv.csv\", index=False)\n"
   ]
  },
  {
   "cell_type": "code",
   "execution_count": 329,
   "metadata": {},
   "outputs": [],
   "source": [
    "import pandas as pd\n",
    "\n",
    "df = pd.read_csv(r\"C:\\Users\\Vamsi Krishna\\codes\\QC\\New folder\\2\\test_pnr.csv\")\n",
    "\n",
    "\n",
    "pnr_result_df = pd.DataFrame()\n",
    "\n",
    "for desired_dep_key in final_recloc_list:\n",
    "    result_row = df[df['RECLOC'].str.contains(desired_dep_key, case=False, na=False)]\n",
    "    \n",
    "    if not result_row.empty:\n",
    "        pnr_result_df = pd.concat([pnr_result_df, result_row])\n",
    "\n",
    "pnr_result_df['RECLOC'] = pnr_result_df['RECLOC'].astype(str).str.rstrip('.0')\n",
    "\n",
    "pnr_result_df.to_csv(r\"C:\\Users\\Vamsi Krishna\\codes\\QC\\New folder\\2\\PC_Sorted_PNR.csv\", index=False)\n"
   ]
  },
  {
   "cell_type": "code",
   "execution_count": 330,
   "metadata": {},
   "outputs": [
    {
     "data": {
      "text/html": [
       "<div>\n",
       "<style scoped>\n",
       "    .dataframe tbody tr th:only-of-type {\n",
       "        vertical-align: middle;\n",
       "    }\n",
       "\n",
       "    .dataframe tbody tr th {\n",
       "        vertical-align: top;\n",
       "    }\n",
       "\n",
       "    .dataframe thead th {\n",
       "        text-align: right;\n",
       "    }\n",
       "</style>\n",
       "<table border=\"1\" class=\"dataframe\">\n",
       "  <thead>\n",
       "    <tr style=\"text-align: right;\">\n",
       "      <th></th>\n",
       "      <th>RECLOC</th>\n",
       "      <th>CREATION_DTZ</th>\n",
       "      <th>DEP_KEY</th>\n",
       "      <th>ACTION_CD</th>\n",
       "      <th>COS_CD</th>\n",
       "      <th>SEG_SEQ</th>\n",
       "      <th>SEG_TOTAL</th>\n",
       "      <th>PAX_CNT</th>\n",
       "      <th>CARRIER_CD</th>\n",
       "      <th>FLT_NUM</th>\n",
       "      <th>ORIG_CD</th>\n",
       "      <th>DEST_CD</th>\n",
       "      <th>DEP_DT</th>\n",
       "      <th>DEP_DTML</th>\n",
       "      <th>ARR_DTML</th>\n",
       "      <th>DEP_DTMZ</th>\n",
       "      <th>ARR_DTMZ</th>\n",
       "    </tr>\n",
       "  </thead>\n",
       "  <tbody>\n",
       "    <tr>\n",
       "      <th>32915</th>\n",
       "      <td>PJSC24</td>\n",
       "      <td>2/1/2024 8:26</td>\n",
       "      <td>ZZ20240511IDRHYD3455</td>\n",
       "      <td>XX</td>\n",
       "      <td>PremiumEconomyClass</td>\n",
       "      <td>1</td>\n",
       "      <td>3</td>\n",
       "      <td>8</td>\n",
       "      <td>ZZ</td>\n",
       "      <td>3455</td>\n",
       "      <td>IDR</td>\n",
       "      <td>HYD</td>\n",
       "      <td>05-11-2024</td>\n",
       "      <td>2024-05-11 03:41:00</td>\n",
       "      <td>2024-05-12 01:59:00</td>\n",
       "      <td>05-10-2024 22:11:00</td>\n",
       "      <td>05-11-2024 20:29:00</td>\n",
       "    </tr>\n",
       "    <tr>\n",
       "      <th>32930</th>\n",
       "      <td>PJSC24</td>\n",
       "      <td>2/1/2024 8:26</td>\n",
       "      <td>ZZ20240513HYDCJB2914</td>\n",
       "      <td>XX</td>\n",
       "      <td>PremiumEconomyClass</td>\n",
       "      <td>2</td>\n",
       "      <td>3</td>\n",
       "      <td>8</td>\n",
       "      <td>ZZ</td>\n",
       "      <td>2914</td>\n",
       "      <td>HYD</td>\n",
       "      <td>CJB</td>\n",
       "      <td>5/13/2024</td>\n",
       "      <td>5/13/2024 1:16</td>\n",
       "      <td>5/13/2024 9:23</td>\n",
       "      <td>5/12/2024 19:46</td>\n",
       "      <td>5/13/2024 3:53</td>\n",
       "    </tr>\n",
       "    <tr>\n",
       "      <th>32913</th>\n",
       "      <td>JISG46</td>\n",
       "      <td>2/1/2024 8:26</td>\n",
       "      <td>ZZ20240511IDRHYD3455</td>\n",
       "      <td>XX</td>\n",
       "      <td>PremiumEconomyClass</td>\n",
       "      <td>1</td>\n",
       "      <td>2</td>\n",
       "      <td>2</td>\n",
       "      <td>ZZ</td>\n",
       "      <td>3455</td>\n",
       "      <td>IDR</td>\n",
       "      <td>HYD</td>\n",
       "      <td>05-11-2024</td>\n",
       "      <td>2024-05-11 03:41:00</td>\n",
       "      <td>2024-05-12 01:59:00</td>\n",
       "      <td>05-10-2024 22:11:00</td>\n",
       "      <td>05-11-2024 20:29:00</td>\n",
       "    </tr>\n",
       "    <tr>\n",
       "      <th>32929</th>\n",
       "      <td>JISG46</td>\n",
       "      <td>2/1/2024 8:26</td>\n",
       "      <td>ZZ20240513HYDIDR4122</td>\n",
       "      <td>GN</td>\n",
       "      <td>PremiumEconomyClass</td>\n",
       "      <td>2</td>\n",
       "      <td>2</td>\n",
       "      <td>2</td>\n",
       "      <td>ZZ</td>\n",
       "      <td>4122</td>\n",
       "      <td>HYD</td>\n",
       "      <td>IDR</td>\n",
       "      <td>5/13/2024</td>\n",
       "      <td>5/13/2024 6:08</td>\n",
       "      <td>5/13/2024 10:32</td>\n",
       "      <td>5/13/2024 0:38</td>\n",
       "      <td>5/13/2024 5:02</td>\n",
       "    </tr>\n",
       "    <tr>\n",
       "      <th>32914</th>\n",
       "      <td>QXQZ78</td>\n",
       "      <td>2/1/2024 8:26</td>\n",
       "      <td>ZZ20240511IDRHYD3455</td>\n",
       "      <td>XX</td>\n",
       "      <td>PremiumEconomyClass</td>\n",
       "      <td>1</td>\n",
       "      <td>1</td>\n",
       "      <td>4</td>\n",
       "      <td>ZZ</td>\n",
       "      <td>3455</td>\n",
       "      <td>IDR</td>\n",
       "      <td>HYD</td>\n",
       "      <td>05-11-2024</td>\n",
       "      <td>2024-05-11 03:41:00</td>\n",
       "      <td>2024-05-12 01:59:00</td>\n",
       "      <td>05-10-2024 22:11:00</td>\n",
       "      <td>05-11-2024 20:29:00</td>\n",
       "    </tr>\n",
       "    <tr>\n",
       "      <th>32916</th>\n",
       "      <td>ZTQP69</td>\n",
       "      <td>2/1/2024 8:26</td>\n",
       "      <td>ZZ20240511IDRHYD3455</td>\n",
       "      <td>XX</td>\n",
       "      <td>PremiumEconomyClass</td>\n",
       "      <td>1</td>\n",
       "      <td>4</td>\n",
       "      <td>1</td>\n",
       "      <td>ZZ</td>\n",
       "      <td>3455</td>\n",
       "      <td>IDR</td>\n",
       "      <td>HYD</td>\n",
       "      <td>05-11-2024</td>\n",
       "      <td>2024-05-11 03:41:00</td>\n",
       "      <td>2024-05-12 01:59:00</td>\n",
       "      <td>05-10-2024 22:11:00</td>\n",
       "      <td>05-11-2024 20:29:00</td>\n",
       "    </tr>\n",
       "    <tr>\n",
       "      <th>32931</th>\n",
       "      <td>ZTQP69</td>\n",
       "      <td>2/1/2024 8:26</td>\n",
       "      <td>ZZ20240511HYDAMD3723</td>\n",
       "      <td>HL</td>\n",
       "      <td>PremiumEconomyClass</td>\n",
       "      <td>2</td>\n",
       "      <td>4</td>\n",
       "      <td>1</td>\n",
       "      <td>ZZ</td>\n",
       "      <td>3723</td>\n",
       "      <td>HYD</td>\n",
       "      <td>AMD</td>\n",
       "      <td>5/11/2024</td>\n",
       "      <td>5/11/2024 20:40</td>\n",
       "      <td>5/12/2024 12:24</td>\n",
       "      <td>5/11/2024 15:10</td>\n",
       "      <td>5/12/2024 6:54</td>\n",
       "    </tr>\n",
       "    <tr>\n",
       "      <th>32932</th>\n",
       "      <td>ZTQP69</td>\n",
       "      <td>2/1/2024 8:26</td>\n",
       "      <td>ZZ20240512AMDHYD2223</td>\n",
       "      <td>HL</td>\n",
       "      <td>PremiumEconomyClass</td>\n",
       "      <td>3</td>\n",
       "      <td>4</td>\n",
       "      <td>1</td>\n",
       "      <td>ZZ</td>\n",
       "      <td>2223</td>\n",
       "      <td>AMD</td>\n",
       "      <td>HYD</td>\n",
       "      <td>5/12/2024</td>\n",
       "      <td>5/12/2024 10:52</td>\n",
       "      <td>5/12/2024 19:30</td>\n",
       "      <td>5/12/2024 5:22</td>\n",
       "      <td>5/12/2024 14:00</td>\n",
       "    </tr>\n",
       "    <tr>\n",
       "      <th>32933</th>\n",
       "      <td>ZTQP69</td>\n",
       "      <td>2/1/2024 8:26</td>\n",
       "      <td>ZZ20240513HYDIDR4122</td>\n",
       "      <td>GN</td>\n",
       "      <td>PremiumEconomyClass</td>\n",
       "      <td>4</td>\n",
       "      <td>4</td>\n",
       "      <td>1</td>\n",
       "      <td>ZZ</td>\n",
       "      <td>4122</td>\n",
       "      <td>HYD</td>\n",
       "      <td>IDR</td>\n",
       "      <td>5/13/2024</td>\n",
       "      <td>5/13/2024 6:08</td>\n",
       "      <td>5/13/2024 10:32</td>\n",
       "      <td>5/13/2024 0:38</td>\n",
       "      <td>5/13/2024 5:02</td>\n",
       "    </tr>\n",
       "    <tr>\n",
       "      <th>32917</th>\n",
       "      <td>WYWE97</td>\n",
       "      <td>2/1/2024 8:26</td>\n",
       "      <td>ZZ20240511IDRHYD3455</td>\n",
       "      <td>XX</td>\n",
       "      <td>PremiumEconomyClass</td>\n",
       "      <td>1</td>\n",
       "      <td>2</td>\n",
       "      <td>1</td>\n",
       "      <td>ZZ</td>\n",
       "      <td>3455</td>\n",
       "      <td>IDR</td>\n",
       "      <td>HYD</td>\n",
       "      <td>05-11-2024</td>\n",
       "      <td>2024-05-11 03:41:00</td>\n",
       "      <td>2024-05-12 01:59:00</td>\n",
       "      <td>05-10-2024 22:11:00</td>\n",
       "      <td>05-11-2024 20:29:00</td>\n",
       "    </tr>\n",
       "    <tr>\n",
       "      <th>32934</th>\n",
       "      <td>WYWE97</td>\n",
       "      <td>2/1/2024 8:26</td>\n",
       "      <td>ZZ20240513HYDIDR4122</td>\n",
       "      <td>XX</td>\n",
       "      <td>PremiumEconomyClass</td>\n",
       "      <td>2</td>\n",
       "      <td>2</td>\n",
       "      <td>1</td>\n",
       "      <td>ZZ</td>\n",
       "      <td>4122</td>\n",
       "      <td>HYD</td>\n",
       "      <td>IDR</td>\n",
       "      <td>5/13/2024</td>\n",
       "      <td>5/13/2024 6:08</td>\n",
       "      <td>5/13/2024 10:32</td>\n",
       "      <td>5/13/2024 0:38</td>\n",
       "      <td>5/13/2024 5:02</td>\n",
       "    </tr>\n",
       "  </tbody>\n",
       "</table>\n",
       "</div>"
      ],
      "text/plain": [
       "       RECLOC   CREATION_DTZ               DEP_KEY ACTION_CD  \\\n",
       "32915  PJSC24  2/1/2024 8:26  ZZ20240511IDRHYD3455        XX   \n",
       "32930  PJSC24  2/1/2024 8:26  ZZ20240513HYDCJB2914        XX   \n",
       "32913  JISG46  2/1/2024 8:26  ZZ20240511IDRHYD3455        XX   \n",
       "32929  JISG46  2/1/2024 8:26  ZZ20240513HYDIDR4122        GN   \n",
       "32914  QXQZ78  2/1/2024 8:26  ZZ20240511IDRHYD3455        XX   \n",
       "32916  ZTQP69  2/1/2024 8:26  ZZ20240511IDRHYD3455        XX   \n",
       "32931  ZTQP69  2/1/2024 8:26  ZZ20240511HYDAMD3723        HL   \n",
       "32932  ZTQP69  2/1/2024 8:26  ZZ20240512AMDHYD2223        HL   \n",
       "32933  ZTQP69  2/1/2024 8:26  ZZ20240513HYDIDR4122        GN   \n",
       "32917  WYWE97  2/1/2024 8:26  ZZ20240511IDRHYD3455        XX   \n",
       "32934  WYWE97  2/1/2024 8:26  ZZ20240513HYDIDR4122        XX   \n",
       "\n",
       "                    COS_CD  SEG_SEQ  SEG_TOTAL  PAX_CNT CARRIER_CD  FLT_NUM  \\\n",
       "32915  PremiumEconomyClass        1          3        8         ZZ     3455   \n",
       "32930  PremiumEconomyClass        2          3        8         ZZ     2914   \n",
       "32913  PremiumEconomyClass        1          2        2         ZZ     3455   \n",
       "32929  PremiumEconomyClass        2          2        2         ZZ     4122   \n",
       "32914  PremiumEconomyClass        1          1        4         ZZ     3455   \n",
       "32916  PremiumEconomyClass        1          4        1         ZZ     3455   \n",
       "32931  PremiumEconomyClass        2          4        1         ZZ     3723   \n",
       "32932  PremiumEconomyClass        3          4        1         ZZ     2223   \n",
       "32933  PremiumEconomyClass        4          4        1         ZZ     4122   \n",
       "32917  PremiumEconomyClass        1          2        1         ZZ     3455   \n",
       "32934  PremiumEconomyClass        2          2        1         ZZ     4122   \n",
       "\n",
       "      ORIG_CD DEST_CD      DEP_DT             DEP_DTML             ARR_DTML  \\\n",
       "32915     IDR     HYD  05-11-2024  2024-05-11 03:41:00  2024-05-12 01:59:00   \n",
       "32930     HYD     CJB   5/13/2024       5/13/2024 1:16       5/13/2024 9:23   \n",
       "32913     IDR     HYD  05-11-2024  2024-05-11 03:41:00  2024-05-12 01:59:00   \n",
       "32929     HYD     IDR   5/13/2024       5/13/2024 6:08      5/13/2024 10:32   \n",
       "32914     IDR     HYD  05-11-2024  2024-05-11 03:41:00  2024-05-12 01:59:00   \n",
       "32916     IDR     HYD  05-11-2024  2024-05-11 03:41:00  2024-05-12 01:59:00   \n",
       "32931     HYD     AMD   5/11/2024      5/11/2024 20:40      5/12/2024 12:24   \n",
       "32932     AMD     HYD   5/12/2024      5/12/2024 10:52      5/12/2024 19:30   \n",
       "32933     HYD     IDR   5/13/2024       5/13/2024 6:08      5/13/2024 10:32   \n",
       "32917     IDR     HYD  05-11-2024  2024-05-11 03:41:00  2024-05-12 01:59:00   \n",
       "32934     HYD     IDR   5/13/2024       5/13/2024 6:08      5/13/2024 10:32   \n",
       "\n",
       "                  DEP_DTMZ             ARR_DTMZ  \n",
       "32915  05-10-2024 22:11:00  05-11-2024 20:29:00  \n",
       "32930      5/12/2024 19:46       5/13/2024 3:53  \n",
       "32913  05-10-2024 22:11:00  05-11-2024 20:29:00  \n",
       "32929       5/13/2024 0:38       5/13/2024 5:02  \n",
       "32914  05-10-2024 22:11:00  05-11-2024 20:29:00  \n",
       "32916  05-10-2024 22:11:00  05-11-2024 20:29:00  \n",
       "32931      5/11/2024 15:10       5/12/2024 6:54  \n",
       "32932       5/12/2024 5:22      5/12/2024 14:00  \n",
       "32933       5/13/2024 0:38       5/13/2024 5:02  \n",
       "32917  05-10-2024 22:11:00  05-11-2024 20:29:00  \n",
       "32934       5/13/2024 0:38       5/13/2024 5:02  "
      ]
     },
     "execution_count": 330,
     "metadata": {},
     "output_type": "execute_result"
    }
   ],
   "source": [
    "pnr_result_df"
   ]
  },
  {
   "cell_type": "code",
   "execution_count": 331,
   "metadata": {},
   "outputs": [
    {
     "data": {
      "text/html": [
       "<div>\n",
       "<style scoped>\n",
       "    .dataframe tbody tr th:only-of-type {\n",
       "        vertical-align: middle;\n",
       "    }\n",
       "\n",
       "    .dataframe tbody tr th {\n",
       "        vertical-align: top;\n",
       "    }\n",
       "\n",
       "    .dataframe thead th {\n",
       "        text-align: right;\n",
       "    }\n",
       "</style>\n",
       "<table border=\"1\" class=\"dataframe\">\n",
       "  <thead>\n",
       "    <tr style=\"text-align: right;\">\n",
       "      <th></th>\n",
       "      <th>InventoryId</th>\n",
       "      <th>ScheduleId</th>\n",
       "      <th>CarrierCode</th>\n",
       "      <th>Dep_Key</th>\n",
       "      <th>FlightNumber</th>\n",
       "      <th>AircraftType</th>\n",
       "      <th>DepartureDate</th>\n",
       "      <th>DepartureDateTime</th>\n",
       "      <th>ArrivalDateTime</th>\n",
       "      <th>DepartureAirport</th>\n",
       "      <th>...</th>\n",
       "      <th>PC_Oversold</th>\n",
       "      <th>PC_AvailableInventory</th>\n",
       "      <th>EC_TotalInventory</th>\n",
       "      <th>EC_BookedInventory</th>\n",
       "      <th>EC_Oversold</th>\n",
       "      <th>EC_AvailableInventory</th>\n",
       "      <th>FC_CD</th>\n",
       "      <th>BC_CD</th>\n",
       "      <th>PC_CD</th>\n",
       "      <th>EC_CD</th>\n",
       "    </tr>\n",
       "  </thead>\n",
       "  <tbody>\n",
       "    <tr>\n",
       "      <th>1686</th>\n",
       "      <td>INV-ZZ-7767976</td>\n",
       "      <td>SCH-ZZ-6755803</td>\n",
       "      <td>ZZ</td>\n",
       "      <td>ZZ20240511IDRHYD3455</td>\n",
       "      <td>3455.0</td>\n",
       "      <td>Boeing 777</td>\n",
       "      <td>05/11/2024</td>\n",
       "      <td>2024-05-11 03:41:00</td>\n",
       "      <td>2024-05-12 01:59:00</td>\n",
       "      <td>IDR</td>\n",
       "      <td>...</td>\n",
       "      <td>47</td>\n",
       "      <td>58</td>\n",
       "      <td>191</td>\n",
       "      <td>116</td>\n",
       "      <td>63</td>\n",
       "      <td>75</td>\n",
       "      <td>{'F': 25, 'P': 17}</td>\n",
       "      <td>{'C': 34, 'J': 26, 'Z': 26}</td>\n",
       "      <td>{'Q': 38, 'R': 25, 'S': 13, 'T': 13, 'H': 25, ...</td>\n",
       "      <td>{'Y': 13, 'A': 13, 'B': 6, 'D': 6, 'E': 6, 'G'...</td>\n",
       "    </tr>\n",
       "    <tr>\n",
       "      <th>1389</th>\n",
       "      <td>INV-ZZ-5004957</td>\n",
       "      <td>SCH-ZZ-2098565</td>\n",
       "      <td>ZZ</td>\n",
       "      <td>ZZ20240512IDRHYD2792</td>\n",
       "      <td>2792.0</td>\n",
       "      <td>BAe 146</td>\n",
       "      <td>05/12/2024</td>\n",
       "      <td>2024-05-12 12:22:00</td>\n",
       "      <td>2024-05-12 14:12:00</td>\n",
       "      <td>IDR</td>\n",
       "      <td>...</td>\n",
       "      <td>11</td>\n",
       "      <td>5</td>\n",
       "      <td>40</td>\n",
       "      <td>32</td>\n",
       "      <td>16</td>\n",
       "      <td>8</td>\n",
       "      <td>{'F': 5, 'P': 4}</td>\n",
       "      <td>{'C': 7, 'J': 5, 'Z': 5}</td>\n",
       "      <td>{'Q': 8, 'R': 5, 'S': 3, 'T': 3, 'H': 5, 'M': 3}</td>\n",
       "      <td>{'Y': 3, 'A': 3, 'B': 1, 'D': 1, 'E': 1, 'G': ...</td>\n",
       "    </tr>\n",
       "  </tbody>\n",
       "</table>\n",
       "<p>2 rows × 40 columns</p>\n",
       "</div>"
      ],
      "text/plain": [
       "         InventoryId      ScheduleId CarrierCode               Dep_Key  \\\n",
       "1686  INV-ZZ-7767976  SCH-ZZ-6755803          ZZ  ZZ20240511IDRHYD3455   \n",
       "1389  INV-ZZ-5004957  SCH-ZZ-2098565          ZZ  ZZ20240512IDRHYD2792   \n",
       "\n",
       "      FlightNumber AircraftType DepartureDate    DepartureDateTime  \\\n",
       "1686        3455.0   Boeing 777    05/11/2024  2024-05-11 03:41:00   \n",
       "1389        2792.0      BAe 146    05/12/2024  2024-05-12 12:22:00   \n",
       "\n",
       "          ArrivalDateTime DepartureAirport  ... PC_Oversold  \\\n",
       "1686  2024-05-12 01:59:00              IDR  ...          47   \n",
       "1389  2024-05-12 14:12:00              IDR  ...          11   \n",
       "\n",
       "      PC_AvailableInventory  EC_TotalInventory  EC_BookedInventory  \\\n",
       "1686                     58                191                 116   \n",
       "1389                      5                 40                  32   \n",
       "\n",
       "      EC_Oversold  EC_AvailableInventory               FC_CD  \\\n",
       "1686           63                     75  {'F': 25, 'P': 17}   \n",
       "1389           16                      8    {'F': 5, 'P': 4}   \n",
       "\n",
       "                            BC_CD  \\\n",
       "1686  {'C': 34, 'J': 26, 'Z': 26}   \n",
       "1389     {'C': 7, 'J': 5, 'Z': 5}   \n",
       "\n",
       "                                                  PC_CD  \\\n",
       "1686  {'Q': 38, 'R': 25, 'S': 13, 'T': 13, 'H': 25, ...   \n",
       "1389   {'Q': 8, 'R': 5, 'S': 3, 'T': 3, 'H': 5, 'M': 3}   \n",
       "\n",
       "                                                  EC_CD  \n",
       "1686  {'Y': 13, 'A': 13, 'B': 6, 'D': 6, 'E': 6, 'G'...  \n",
       "1389  {'Y': 3, 'A': 3, 'B': 1, 'D': 1, 'E': 1, 'G': ...  \n",
       "\n",
       "[2 rows x 40 columns]"
      ]
     },
     "execution_count": 331,
     "metadata": {},
     "output_type": "execute_result"
    }
   ],
   "source": [
    "result_df"
   ]
  }
 ],
 "metadata": {
  "colab": {
   "provenance": []
  },
  "kernelspec": {
   "display_name": "Python 3 (ipykernel)",
   "language": "python",
   "name": "python3"
  },
  "language_info": {
   "codemirror_mode": {
    "name": "ipython",
    "version": 3
   },
   "file_extension": ".py",
   "mimetype": "text/x-python",
   "name": "python",
   "nbconvert_exporter": "python",
   "pygments_lexer": "ipython3",
   "version": "3.10.13"
  }
 },
 "nbformat": 4,
 "nbformat_minor": 4
}
